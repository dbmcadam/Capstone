{
 "cells": [
  {
   "cell_type": "markdown",
   "metadata": {},
   "source": [
    "# Capstone Check-in 2"
   ]
  },
  {
   "cell_type": "markdown",
   "metadata": {},
   "source": [
    "### Problem Statement\n",
    "---\n",
    "Can a machine learning model be developed in effort to provide early warning capabilities for the US Government to forecast societal events? \n",
    "\n",
    "Countries Observed:\n",
    "\n",
    "- Egypt\n",
    "- Saudi Arabia\n",
    "- Lebanon\n",
    "- Jordan\n",
    "- Iraq\n",
    "- Syria\n",
    "\n"
   ]
  },
  {
   "cell_type": "markdown",
   "metadata": {},
   "source": [
    "### Data Sources\n",
    "---\n",
    "*All sources are in csv format*\n",
    "- ACLED: Database of violent & social unrest events\n",
    "- World Bank: Economic Data, e.g. unemployment rate, poverty rate, literacy rate, etc.\n",
    "- Trading Economics: Historical Commodity Prices, Inflation Rate, Currencty Exchange Rate\n",
    "- Tor Metrics: Usage metrics of the Tor Network, a browser used by individuals who prefer anonyimity  \n",
    "- *Maybe Twitter if possible*"
   ]
  },
  {
   "cell_type": "markdown",
   "metadata": {},
   "source": [
    "### What Constitutes Success?\n",
    "---\n",
    "Deploying a model that can forecast social unrest with a lead time of at least one day."
   ]
  },
  {
   "cell_type": "markdown",
   "metadata": {},
   "source": [
    "### Next Steps\n",
    "---\n",
    "\n",
    "- Create comprehensive dataset\n",
    "\n",
    "- EDA\n",
    "\n",
    "- Generate clusters to understand relationship between events\n",
    "\n",
    "- ARIMA Model or RNN-LSTM for generating forecasts\n",
    "    - Evaluation Metric will be lead time of at least one day \n",
    "\n",
    "- Some type of classification model will be used to predict whether and event did or did not occur\n",
    "    - Evaluation metrics will be F1 score and ROC-AUC Score"
   ]
  }
 ],
 "metadata": {
  "language_info": {
   "codemirror_mode": {
    "name": "ipython",
    "version": 3
   },
   "file_extension": ".py",
   "mimetype": "text/x-python",
   "name": "python",
   "nbconvert_exporter": "python",
   "pygments_lexer": "ipython3",
   "version": 3
  },
  "orig_nbformat": 2
 },
 "nbformat": 4,
 "nbformat_minor": 2
}