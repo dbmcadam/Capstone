{
 "cells": [
  {
   "cell_type": "code",
   "execution_count": 1,
   "metadata": {},
   "outputs": [],
   "source": [
    "import pandas as pd\n",
    "import numpy as np\n",
    "pd.options.display.max_rows = 999"
   ]
  },
  {
   "cell_type": "code",
   "execution_count": 2,
   "metadata": {},
   "outputs": [
    {
     "output_type": "execute_result",
     "data": {
      "text/plain": "   data_id  iso event_id_cnty  event_id_no_cnty event_date  year  \\\n0  6708242  368      IRQ22736             22736  31-Dec-19  2019   \n1  6716953  760      SYR73663             73663  31-Dec-19  2019   \n2  6716955  760      SYR73713             73713  31-Dec-19  2019   \n3  6716700  760      SYR73184             73184  31-Dec-19  2019   \n4  6716960  760      SYR73664             73664  31-Dec-19  2019   \n\n   time_precision                  event_type  \\\n0               1                    Protests   \n1               1  Explosions/Remote violence   \n2               1  Explosions/Remote violence   \n3               1                     Battles   \n4               1  Explosions/Remote violence   \n\n                      sub_event_type                            actor1  ...  \\\n0                   Peaceful protest                 Protesters (Iraq)  ...   \n1  Shelling/artillery/missile attack  Military Forces of Syria (2000-)  ...   \n2  Shelling/artillery/missile attack         Opposition Rebels (Syria)  ...   \n3                        Armed clash  Unidentified Armed Group (Syria)  ...   \n4  Shelling/artillery/missile attack  Military Forces of Syria (2000-)  ...   \n\n     location  latitude longitude geo_precision     source  source_scale  \\\n0       Qurna   31.0167   47.4333             1  Al Mirbad      National   \n1     Hazarin   35.5998   36.5267             1       SOHR         Other   \n2      Aslieh   35.1967   36.4892             1       SOHR         Other   \n3    Ar-Ra'ee   36.6125   37.4464             1       SOHR         Other   \n4  Kafr Nobol   35.6147   36.5603             1       SOHR         Other   \n\n                                               notes fatalities   timestamp  \\\n0  On Dec 31, protesters in Qurna came out to den...          0  1578503874   \n1  On 31 December 2019, regime forces shelled Haz...          0  1578515228   \n2  On 31 December 2019, opposition rebels shelled...          0  1578515228   \n3  On 31 December 2019, unidentified gunmen assas...          1  1578515227   \n4  On 31 December 2019, regime forces shelled Kaf...          0  1578515228   \n\n  iso3  \n0  IRQ  \n1  SYR  \n2  SYR  \n3  SYR  \n4  SYR  \n\n[5 rows x 31 columns]",
      "text/html": "<div>\n<style scoped>\n    .dataframe tbody tr th:only-of-type {\n        vertical-align: middle;\n    }\n\n    .dataframe tbody tr th {\n        vertical-align: top;\n    }\n\n    .dataframe thead th {\n        text-align: right;\n    }\n</style>\n<table border=\"1\" class=\"dataframe\">\n  <thead>\n    <tr style=\"text-align: right;\">\n      <th></th>\n      <th>data_id</th>\n      <th>iso</th>\n      <th>event_id_cnty</th>\n      <th>event_id_no_cnty</th>\n      <th>event_date</th>\n      <th>year</th>\n      <th>time_precision</th>\n      <th>event_type</th>\n      <th>sub_event_type</th>\n      <th>actor1</th>\n      <th>...</th>\n      <th>location</th>\n      <th>latitude</th>\n      <th>longitude</th>\n      <th>geo_precision</th>\n      <th>source</th>\n      <th>source_scale</th>\n      <th>notes</th>\n      <th>fatalities</th>\n      <th>timestamp</th>\n      <th>iso3</th>\n    </tr>\n  </thead>\n  <tbody>\n    <tr>\n      <th>0</th>\n      <td>6708242</td>\n      <td>368</td>\n      <td>IRQ22736</td>\n      <td>22736</td>\n      <td>31-Dec-19</td>\n      <td>2019</td>\n      <td>1</td>\n      <td>Protests</td>\n      <td>Peaceful protest</td>\n      <td>Protesters (Iraq)</td>\n      <td>...</td>\n      <td>Qurna</td>\n      <td>31.0167</td>\n      <td>47.4333</td>\n      <td>1</td>\n      <td>Al Mirbad</td>\n      <td>National</td>\n      <td>On Dec 31, protesters in Qurna came out to den...</td>\n      <td>0</td>\n      <td>1578503874</td>\n      <td>IRQ</td>\n    </tr>\n    <tr>\n      <th>1</th>\n      <td>6716953</td>\n      <td>760</td>\n      <td>SYR73663</td>\n      <td>73663</td>\n      <td>31-Dec-19</td>\n      <td>2019</td>\n      <td>1</td>\n      <td>Explosions/Remote violence</td>\n      <td>Shelling/artillery/missile attack</td>\n      <td>Military Forces of Syria (2000-)</td>\n      <td>...</td>\n      <td>Hazarin</td>\n      <td>35.5998</td>\n      <td>36.5267</td>\n      <td>1</td>\n      <td>SOHR</td>\n      <td>Other</td>\n      <td>On 31 December 2019, regime forces shelled Haz...</td>\n      <td>0</td>\n      <td>1578515228</td>\n      <td>SYR</td>\n    </tr>\n    <tr>\n      <th>2</th>\n      <td>6716955</td>\n      <td>760</td>\n      <td>SYR73713</td>\n      <td>73713</td>\n      <td>31-Dec-19</td>\n      <td>2019</td>\n      <td>1</td>\n      <td>Explosions/Remote violence</td>\n      <td>Shelling/artillery/missile attack</td>\n      <td>Opposition Rebels (Syria)</td>\n      <td>...</td>\n      <td>Aslieh</td>\n      <td>35.1967</td>\n      <td>36.4892</td>\n      <td>1</td>\n      <td>SOHR</td>\n      <td>Other</td>\n      <td>On 31 December 2019, opposition rebels shelled...</td>\n      <td>0</td>\n      <td>1578515228</td>\n      <td>SYR</td>\n    </tr>\n    <tr>\n      <th>3</th>\n      <td>6716700</td>\n      <td>760</td>\n      <td>SYR73184</td>\n      <td>73184</td>\n      <td>31-Dec-19</td>\n      <td>2019</td>\n      <td>1</td>\n      <td>Battles</td>\n      <td>Armed clash</td>\n      <td>Unidentified Armed Group (Syria)</td>\n      <td>...</td>\n      <td>Ar-Ra'ee</td>\n      <td>36.6125</td>\n      <td>37.4464</td>\n      <td>1</td>\n      <td>SOHR</td>\n      <td>Other</td>\n      <td>On 31 December 2019, unidentified gunmen assas...</td>\n      <td>1</td>\n      <td>1578515227</td>\n      <td>SYR</td>\n    </tr>\n    <tr>\n      <th>4</th>\n      <td>6716960</td>\n      <td>760</td>\n      <td>SYR73664</td>\n      <td>73664</td>\n      <td>31-Dec-19</td>\n      <td>2019</td>\n      <td>1</td>\n      <td>Explosions/Remote violence</td>\n      <td>Shelling/artillery/missile attack</td>\n      <td>Military Forces of Syria (2000-)</td>\n      <td>...</td>\n      <td>Kafr Nobol</td>\n      <td>35.6147</td>\n      <td>36.5603</td>\n      <td>1</td>\n      <td>SOHR</td>\n      <td>Other</td>\n      <td>On 31 December 2019, regime forces shelled Kaf...</td>\n      <td>0</td>\n      <td>1578515228</td>\n      <td>SYR</td>\n    </tr>\n  </tbody>\n</table>\n<p>5 rows × 31 columns</p>\n</div>"
     },
     "metadata": {},
     "execution_count": 2
    }
   ],
   "source": [
    "# Reading in Data\n",
    "acled = pd.read_csv('data/ACLED.csv')\n",
    "acled.head()"
   ]
  },
  {
   "cell_type": "code",
   "execution_count": 3,
   "metadata": {},
   "outputs": [
    {
     "output_type": "stream",
     "name": "stdout",
     "text": "<class 'pandas.core.frame.DataFrame'>\nRangeIndex: 91910 entries, 0 to 91909\nData columns (total 31 columns):\n #   Column            Non-Null Count  Dtype         \n---  ------            --------------  -----         \n 0   data_id           91910 non-null  int64         \n 1   iso               91910 non-null  int64         \n 2   event_id_cnty     91910 non-null  object        \n 3   event_id_no_cnty  91910 non-null  int64         \n 4   event_date        91910 non-null  datetime64[ns]\n 5   year              91910 non-null  int64         \n 6   time_precision    91910 non-null  int64         \n 7   event_type        91910 non-null  object        \n 8   sub_event_type    91910 non-null  object        \n 9   actor1            91910 non-null  object        \n 10  assoc_actor_1     19824 non-null  object        \n 11  inter1            91910 non-null  int64         \n 12  actor2            55510 non-null  object        \n 13  assoc_actor_2     9890 non-null   object        \n 14  inter2            91910 non-null  int64         \n 15  interaction       91910 non-null  int64         \n 16  region            91910 non-null  object        \n 17  country           91910 non-null  object        \n 18  admin1            91910 non-null  object        \n 19  admin2            91889 non-null  object        \n 20  admin3            71531 non-null  object        \n 21  location          91910 non-null  object        \n 22  latitude          91910 non-null  float64       \n 23  longitude         91910 non-null  float64       \n 24  geo_precision     91910 non-null  int64         \n 25  source            91910 non-null  object        \n 26  source_scale      91910 non-null  object        \n 27  notes             91910 non-null  object        \n 28  fatalities        91910 non-null  int64         \n 29  timestamp         91910 non-null  int64         \n 30  iso3              91910 non-null  object        \ndtypes: datetime64[ns](1), float64(2), int64(11), object(17)\nmemory usage: 21.7+ MB\n"
    }
   ],
   "source": [
    "# Converting Date column to panas datetime format\n",
    "acled['event_date'] = pd.to_datetime(acled['event_date'])\n",
    "acled.info()"
   ]
  },
  {
   "cell_type": "code",
   "execution_count": 4,
   "metadata": {},
   "outputs": [],
   "source": [
    "# Reading in Tor Data\n",
    "tor_filepaths = [\n",
    "    'data/Egypt-Tor-Metrics.csv',\n",
    "    'data/Iraq-Tor-Metrics.csv',\n",
    "    'data/Jordan-Tor-Metrics.csv',\n",
    "    'data/Lebanon-Tor-Metrics.csv',\n",
    "    'data/Saudi-Arabia-Tor-Metrics.csv',\n",
    "    'data/Syria-Tor-Metrics.csv'\n",
    "    ]\n",
    "\n",
    "tor_data = [csv for csv in tor_filepaths]\n",
    "tor_metrics = pd.concat(map(pd.read_csv, tor_filepaths))\n",
    "tor_metrics['date'] = pd.to_datetime(tor_metrics['date'])"
   ]
  },
  {
   "cell_type": "code",
   "execution_count": 5,
   "metadata": {},
   "outputs": [
    {
     "output_type": "execute_result",
     "data": {
      "text/plain": "array(['eg', 'iq', 'jo', 'lb', 'sa', 'sy'], dtype=object)"
     },
     "metadata": {},
     "execution_count": 5
    }
   ],
   "source": [
    "tor_metrics['country'].unique()"
   ]
  },
  {
   "cell_type": "code",
   "execution_count": 6,
   "metadata": {},
   "outputs": [],
   "source": [
    "# Mapping country names to match ACLED Data\n",
    "tor_metrics['country'] = tor_metrics['country'].map({'eg': 'Egypt', 'iq': 'Iraq', 'jo':'Jordan', 'lb': 'Lebanon', 'sa': 'Saudi Arabia', 'sy': 'Syria'})"
   ]
  },
  {
   "cell_type": "code",
   "execution_count": 7,
   "metadata": {},
   "outputs": [
    {
     "output_type": "execute_result",
     "data": {
      "text/plain": "        date country  users  frac\n0 2017-01-01   Egypt    564    56\n1 2017-01-02   Egypt    654    54\n2 2017-01-03   Egypt    598    59\n3 2017-01-04   Egypt    528    57\n4 2017-01-05   Egypt    508    59",
      "text/html": "<div>\n<style scoped>\n    .dataframe tbody tr th:only-of-type {\n        vertical-align: middle;\n    }\n\n    .dataframe tbody tr th {\n        vertical-align: top;\n    }\n\n    .dataframe thead th {\n        text-align: right;\n    }\n</style>\n<table border=\"1\" class=\"dataframe\">\n  <thead>\n    <tr style=\"text-align: right;\">\n      <th></th>\n      <th>date</th>\n      <th>country</th>\n      <th>users</th>\n      <th>frac</th>\n    </tr>\n  </thead>\n  <tbody>\n    <tr>\n      <th>0</th>\n      <td>2017-01-01</td>\n      <td>Egypt</td>\n      <td>564</td>\n      <td>56</td>\n    </tr>\n    <tr>\n      <th>1</th>\n      <td>2017-01-02</td>\n      <td>Egypt</td>\n      <td>654</td>\n      <td>54</td>\n    </tr>\n    <tr>\n      <th>2</th>\n      <td>2017-01-03</td>\n      <td>Egypt</td>\n      <td>598</td>\n      <td>59</td>\n    </tr>\n    <tr>\n      <th>3</th>\n      <td>2017-01-04</td>\n      <td>Egypt</td>\n      <td>528</td>\n      <td>57</td>\n    </tr>\n    <tr>\n      <th>4</th>\n      <td>2017-01-05</td>\n      <td>Egypt</td>\n      <td>508</td>\n      <td>59</td>\n    </tr>\n  </tbody>\n</table>\n</div>"
     },
     "metadata": {},
     "execution_count": 7
    }
   ],
   "source": [
    "tor_metrics.head()"
   ]
  },
  {
   "cell_type": "code",
   "execution_count": 8,
   "metadata": {},
   "outputs": [],
   "source": [
    "# Merging datasets\n",
    "acled_and_tor = pd.merge_ordered(acled, \n",
    "                         tor_metrics, \n",
    "                         how='left',\n",
    "                         left_on=['event_date', 'country'],\n",
    "                         right_on=['date', 'country'],\n",
    "                         fill_method='ffill')"
   ]
  },
  {
   "cell_type": "code",
   "execution_count": 9,
   "metadata": {},
   "outputs": [],
   "source": [
    "# Filtering for US/UN Actions\n",
    "us_actions = acled_and_tor[(acled_and_tor['actor1'].str.contains('United States|United Nations')) |\n",
    "                           (acled_and_tor['actor2'].str.contains('United States|United Nations')) |\n",
    "                           (acled_and_tor['assoc_actor_1'].str.contains('United States|United Nations')) |\n",
    "                           (acled_and_tor['assoc_actor_2'].str.contains('United States|United Nations'))] "
   ]
  },
  {
   "cell_type": "code",
   "execution_count": 10,
   "metadata": {},
   "outputs": [],
   "source": [
    "# Dropping US/UN Actions\n",
    "acled_and_tor.drop(us_actions.index, inplace=True)"
   ]
  },
  {
   "cell_type": "code",
   "execution_count": 11,
   "metadata": {},
   "outputs": [
    {
     "output_type": "execute_result",
     "data": {
      "text/plain": "data_id                 0\niso                     0\nevent_id_cnty           0\nevent_id_no_cnty        0\nevent_date              0\nyear                    0\ntime_precision          0\nevent_type              0\nsub_event_type          0\nactor1                  0\nassoc_actor_1       72001\ninter1                  0\nactor2              36159\nassoc_actor_2       79202\ninter2                  0\ninteraction             0\nregion                  0\ncountry                 0\nadmin1                  0\nadmin2                 20\nadmin3              19411\nlocation                0\nlatitude                0\nlongitude               0\ngeo_precision           0\nsource                  0\nsource_scale            0\nnotes                   0\nfatalities              0\ntimestamp               0\niso3                    0\ndate                    0\nusers                   0\nfrac                    0\ndtype: int64"
     },
     "metadata": {},
     "execution_count": 11
    }
   ],
   "source": [
    "acled_and_tor.isnull().sum()"
   ]
  },
  {
   "cell_type": "code",
   "execution_count": 12,
   "metadata": {},
   "outputs": [],
   "source": [
    "# Filling Unknow for missing actor data\n",
    "acled_and_tor['actor2'].fillna('Unknown', inplace=True)\n",
    "acled_and_tor['assoc_actor_1'].fillna('Unknown', inplace=True)\n",
    "acled_and_tor['assoc_actor_2'].fillna('Unknown', inplace=True)\n",
    "acled_and_tor['admin2'].fillna('Unknown', inplace=True)"
   ]
  },
  {
   "cell_type": "code",
   "execution_count": 13,
   "metadata": {},
   "outputs": [],
   "source": [
    "# Filling 0 for missing Tor Data\n",
    "acled_and_tor['users'].fillna(0, inplace=True)\n",
    "acled_and_tor['frac'].fillna(0, inplace=True)"
   ]
  },
  {
   "cell_type": "code",
   "execution_count": 14,
   "metadata": {},
   "outputs": [
    {
     "output_type": "execute_result",
     "data": {
      "text/plain": "Index(['data_id', 'iso', 'event_id_cnty', 'event_id_no_cnty', 'event_date',\n       'year', 'time_precision', 'event_type', 'sub_event_type', 'actor1',\n       'assoc_actor_1', 'inter1', 'actor2', 'assoc_actor_2', 'inter2',\n       'interaction', 'region', 'country', 'admin1', 'admin2', 'admin3',\n       'location', 'latitude', 'longitude', 'geo_precision', 'source',\n       'source_scale', 'notes', 'fatalities', 'timestamp', 'iso3', 'date',\n       'users', 'frac'],\n      dtype='object')"
     },
     "metadata": {},
     "execution_count": 14
    }
   ],
   "source": [
    "acled_and_tor.columns"
   ]
  },
  {
   "cell_type": "code",
   "execution_count": 15,
   "metadata": {},
   "outputs": [],
   "source": [
    "# Dropping Tor Date and admin3 Column\n",
    "acled_and_tor.drop(columns=['date', 'admin3'], inplace=True)"
   ]
  },
  {
   "cell_type": "code",
   "execution_count": 16,
   "metadata": {},
   "outputs": [],
   "source": [
    "# Extracting Month Column and Creating Seperate Column\n",
    "acled_and_tor['month'] = acled_and_tor['event_date'].dt.month"
   ]
  },
  {
   "cell_type": "code",
   "execution_count": 35,
   "metadata": {},
   "outputs": [
    {
     "output_type": "execute_result",
     "data": {
      "text/plain": "  Country Code  Year  Month    Date  Consumer Price Index (CPI)  \\\n0   Egypt  EGY  2017      1  1/1/17                       227.5   \n1   Egypt  EGY  2017      2  2/1/17                       233.7   \n2   Egypt  EGY  2017      3  3/1/17                       238.5   \n3   Egypt  EGY  2017      4  4/1/17                       242.7   \n4   Egypt  EGY  2017      5  5/1/17                       246.5   \n\n   Inflation monthly percent change in the CPI  Exchange rate USD  \\\n0                                         4.31            18.6331   \n1                                         2.73            17.2295   \n2                                         2.05            17.6674   \n3                                         1.76            18.0983   \n4                                         1.57            18.0884   \n\n   GDP per capita Purchasing Power Parity  Labor force million people  ...  \\\n0                                 10672.8                       30.66  ...   \n1                                 10672.8                       30.66  ...   \n2                                 10672.8                       30.66  ...   \n3                                 10672.8                       30.66  ...   \n4                                 10672.8                       30.66  ...   \n\n   Security threats index 0 (low) - 10 (high)  \\\n0                                         8.1   \n1                                         8.1   \n2                                         8.1   \n3                                         8.1   \n4                                         8.1   \n\n   State legitimacy index 0 (high) - 10 (low)  \\\n0                                         8.2   \n1                                         8.2   \n2                                         8.2   \n3                                         8.2   \n4                                         8.2   \n\n   Public services index 0 (high) - 10 (low)  \\\n0                                        4.9   \n1                                        4.9   \n2                                        4.9   \n3                                        4.9   \n4                                        4.9   \n\n   Human rights and rule of law index 0 (high) - 10 (low)  \\\n0                                                9.8        \n1                                                9.8        \n2                                                9.8        \n3                                                9.8        \n4                                                9.8        \n\n   Refugees and displaced persons index 0 (low) - 10 (high)  \\\n0                                                7.3          \n1                                                7.3          \n2                                                7.3          \n3                                                7.3          \n4                                                7.3          \n\n   Military spending percent of GDP  Labor force million people.1  \\\n0                              1.42                         30.66   \n1                              1.42                         30.66   \n2                              1.42                         30.66   \n3                              1.42                         30.66   \n4                              1.42                         30.66   \n\n   Labor force participation rate  Percent urban population  \\\n0                           48.01                     42.71   \n1                           48.01                     42.71   \n2                           48.01                     42.71   \n3                           48.01                     42.71   \n4                           48.01                     42.71   \n\n   Population density people per square km  \n0                                     97.0  \n1                                     97.0  \n2                                     97.0  \n3                                     97.0  \n4                                     97.0  \n\n[5 rows x 41 columns]",
      "text/html": "<div>\n<style scoped>\n    .dataframe tbody tr th:only-of-type {\n        vertical-align: middle;\n    }\n\n    .dataframe tbody tr th {\n        vertical-align: top;\n    }\n\n    .dataframe thead th {\n        text-align: right;\n    }\n</style>\n<table border=\"1\" class=\"dataframe\">\n  <thead>\n    <tr style=\"text-align: right;\">\n      <th></th>\n      <th>Country</th>\n      <th>Code</th>\n      <th>Year</th>\n      <th>Month</th>\n      <th>Date</th>\n      <th>Consumer Price Index (CPI)</th>\n      <th>Inflation monthly percent change in the CPI</th>\n      <th>Exchange rate USD</th>\n      <th>GDP per capita Purchasing Power Parity</th>\n      <th>Labor force million people</th>\n      <th>...</th>\n      <th>Security threats index 0 (low) - 10 (high)</th>\n      <th>State legitimacy index 0 (high) - 10 (low)</th>\n      <th>Public services index 0 (high) - 10 (low)</th>\n      <th>Human rights and rule of law index 0 (high) - 10 (low)</th>\n      <th>Refugees and displaced persons index 0 (low) - 10 (high)</th>\n      <th>Military spending percent of GDP</th>\n      <th>Labor force million people.1</th>\n      <th>Labor force participation rate</th>\n      <th>Percent urban population</th>\n      <th>Population density people per square km</th>\n    </tr>\n  </thead>\n  <tbody>\n    <tr>\n      <th>0</th>\n      <td>Egypt</td>\n      <td>EGY</td>\n      <td>2017</td>\n      <td>1</td>\n      <td>1/1/17</td>\n      <td>227.5</td>\n      <td>4.31</td>\n      <td>18.6331</td>\n      <td>10672.8</td>\n      <td>30.66</td>\n      <td>...</td>\n      <td>8.1</td>\n      <td>8.2</td>\n      <td>4.9</td>\n      <td>9.8</td>\n      <td>7.3</td>\n      <td>1.42</td>\n      <td>30.66</td>\n      <td>48.01</td>\n      <td>42.71</td>\n      <td>97.0</td>\n    </tr>\n    <tr>\n      <th>1</th>\n      <td>Egypt</td>\n      <td>EGY</td>\n      <td>2017</td>\n      <td>2</td>\n      <td>2/1/17</td>\n      <td>233.7</td>\n      <td>2.73</td>\n      <td>17.2295</td>\n      <td>10672.8</td>\n      <td>30.66</td>\n      <td>...</td>\n      <td>8.1</td>\n      <td>8.2</td>\n      <td>4.9</td>\n      <td>9.8</td>\n      <td>7.3</td>\n      <td>1.42</td>\n      <td>30.66</td>\n      <td>48.01</td>\n      <td>42.71</td>\n      <td>97.0</td>\n    </tr>\n    <tr>\n      <th>2</th>\n      <td>Egypt</td>\n      <td>EGY</td>\n      <td>2017</td>\n      <td>3</td>\n      <td>3/1/17</td>\n      <td>238.5</td>\n      <td>2.05</td>\n      <td>17.6674</td>\n      <td>10672.8</td>\n      <td>30.66</td>\n      <td>...</td>\n      <td>8.1</td>\n      <td>8.2</td>\n      <td>4.9</td>\n      <td>9.8</td>\n      <td>7.3</td>\n      <td>1.42</td>\n      <td>30.66</td>\n      <td>48.01</td>\n      <td>42.71</td>\n      <td>97.0</td>\n    </tr>\n    <tr>\n      <th>3</th>\n      <td>Egypt</td>\n      <td>EGY</td>\n      <td>2017</td>\n      <td>4</td>\n      <td>4/1/17</td>\n      <td>242.7</td>\n      <td>1.76</td>\n      <td>18.0983</td>\n      <td>10672.8</td>\n      <td>30.66</td>\n      <td>...</td>\n      <td>8.1</td>\n      <td>8.2</td>\n      <td>4.9</td>\n      <td>9.8</td>\n      <td>7.3</td>\n      <td>1.42</td>\n      <td>30.66</td>\n      <td>48.01</td>\n      <td>42.71</td>\n      <td>97.0</td>\n    </tr>\n    <tr>\n      <th>4</th>\n      <td>Egypt</td>\n      <td>EGY</td>\n      <td>2017</td>\n      <td>5</td>\n      <td>5/1/17</td>\n      <td>246.5</td>\n      <td>1.57</td>\n      <td>18.0884</td>\n      <td>10672.8</td>\n      <td>30.66</td>\n      <td>...</td>\n      <td>8.1</td>\n      <td>8.2</td>\n      <td>4.9</td>\n      <td>9.8</td>\n      <td>7.3</td>\n      <td>1.42</td>\n      <td>30.66</td>\n      <td>48.01</td>\n      <td>42.71</td>\n      <td>97.0</td>\n    </tr>\n  </tbody>\n</table>\n<p>5 rows × 41 columns</p>\n</div>"
     },
     "metadata": {},
     "execution_count": 35
    }
   ],
   "source": [
    "# Reading in Economic Data\n",
    "econ_data = pd.read_csv('data/econ-data-imputed.csv')\n",
    "econ_data.head()"
   ]
  },
  {
   "cell_type": "code",
   "execution_count": 36,
   "metadata": {},
   "outputs": [],
   "source": [
    "econ_data['Date'] = pd.to_datetime(econ_data['Date'])"
   ]
  },
  {
   "cell_type": "code",
   "execution_count": 37,
   "metadata": {},
   "outputs": [],
   "source": [
    "conflict = pd.merge(acled_and_tor, econ_data,\n",
    "                            how='left',\n",
    "                            left_on=['country', 'year', 'month'],\n",
    "                            right_on=['Country', 'Year', 'Month'])"
   ]
  },
  {
   "cell_type": "code",
   "execution_count": 38,
   "metadata": {},
   "outputs": [
    {
     "output_type": "execute_result",
     "data": {
      "text/plain": "data_id                                                         0\niso                                                             0\nevent_id_cnty                                                   0\nevent_id_no_cnty                                                0\nevent_date                                                      0\nyear                                                            0\ntime_precision                                                  0\nevent_type                                                      0\nsub_event_type                                                  0\nactor1                                                          0\nassoc_actor_1                                                   0\ninter1                                                          0\nactor2                                                          0\nassoc_actor_2                                                   0\ninter2                                                          0\ninteraction                                                     0\nregion                                                          0\ncountry                                                         0\nadmin1                                                          0\nadmin2                                                          0\nlocation                                                        0\nlatitude                                                        0\nlongitude                                                       0\ngeo_precision                                                   0\nsource                                                          0\nsource_scale                                                    0\nnotes                                                           0\nfatalities                                                      0\ntimestamp                                                       0\niso3                                                            0\nusers                                                           0\nfrac                                                            0\nmonth                                                           0\nCountry                                                         0\nCode                                                            0\nYear                                                            0\nMonth                                                           0\nDate                                                            0\nConsumer Price Index (CPI)                                  69516\nInflation monthly percent change in the CPI                 69516\nExchange rate USD                                               0\nGDP per capita Purchasing Power Parity                      69516\nLabor force million people                                      0\nUnemployment rate                                               0\nRule of law index (-2.5 weak; 2.5 strong)                       0\nGovernment effectiveness index (-2.5 weak; 2.5 strong)          0\nControl of corruption (-2.5 weak; 2.5 strong)                   0\nRegulatory quality index (-2.5 weak; 2.5 strong)                0\nVoice and accountability index (-2.5 weak; 2.5 strong)          0\nPolitical stability index (-2.5 weak; 2.5 strong)               0\nCorruption Perceptions Index 100 = no corruption                0\nPolitical rights index 7 (weak) - 1 (strong)                    0\nCivil liberties index 7 (weak) - 1 (strong)                     0\nShort-term political risk (1=low 7=high)                        0\nMedium/long-term political risk (1=low 7=high)                  0\nPolitical violence risk (1=low 7=high)                          0\nInternet users percent of population                        42700\nMobile phone subscribers per 100 people                         0\nProperty rights index (0-100)                                   0\nFreedom from corruption index (0-100)                           0\nBusiness freedom index (0-100)                                  0\nLabor freedom index (0-100)                                     0\nLife expectancy in years                                        0\nFragile state index 0 (low) - 120 (high)                        0\nSecurity threats index 0 (low) - 10 (high)                      0\nState legitimacy index 0 (high) - 10 (low)                      0\nPublic services index 0 (high) - 10 (low)                       0\nHuman rights and rule of law index 0 (high) - 10 (low)          0\nRefugees and displaced persons index 0 (low) - 10 (high)        0\nMilitary spending percent of GDP                            39635\nLabor force million people.1                                    0\nLabor force participation rate                                  0\nPercent urban population                                        0\nPopulation density people per square km                         0\ndtype: int64"
     },
     "metadata": {},
     "execution_count": 38
    }
   ],
   "source": [
    "conflict.isnull().sum()"
   ]
  },
  {
   "cell_type": "code",
   "execution_count": 30,
   "metadata": {},
   "outputs": [
    {
     "output_type": "stream",
     "name": "stdout",
     "text": "(88927, 87)\n(88927, 33)\n"
    }
   ],
   "source": [
    "print(conflict.shape)\n",
    "print(acled_and_tor.shape)\n"
   ]
  },
  {
   "cell_type": "code",
   "execution_count": 44,
   "metadata": {},
   "outputs": [
    {
     "output_type": "error",
     "ename": "ValueError",
     "evalue": "Length of values does not match length of index",
     "traceback": [
      "\u001b[0;31m---------------------------------------------------------------------------\u001b[0m",
      "\u001b[0;31mValueError\u001b[0m                                Traceback (most recent call last)",
      "\u001b[0;32m<ipython-input-44-4a38d68d100d>\u001b[0m in \u001b[0;36m<module>\u001b[0;34m\u001b[0m\n\u001b[0;32m----> 1\u001b[0;31m \u001b[0mconflict\u001b[0m\u001b[0;34m[\u001b[0m\u001b[0;34m'missing'\u001b[0m\u001b[0;34m]\u001b[0m \u001b[0;34m=\u001b[0m \u001b[0;34m[\u001b[0m\u001b[0;36m1\u001b[0m \u001b[0;32mfor\u001b[0m \u001b[0mi\u001b[0m \u001b[0;32min\u001b[0m \u001b[0mconflict\u001b[0m\u001b[0;34m[\u001b[0m\u001b[0;34m'Consumer Price Index (CPI)'\u001b[0m\u001b[0;34m]\u001b[0m \u001b[0;32mif\u001b[0m \u001b[0mi\u001b[0m \u001b[0;34m==\u001b[0m \u001b[0mnp\u001b[0m\u001b[0;34m.\u001b[0m\u001b[0mnan\u001b[0m\u001b[0;34m]\u001b[0m\u001b[0;34m\u001b[0m\u001b[0;34m\u001b[0m\u001b[0m\n\u001b[0m",
      "\u001b[0;32m~/opt/anaconda3/envs/dsi/lib/python3.7/site-packages/pandas/core/frame.py\u001b[0m in \u001b[0;36m__setitem__\u001b[0;34m(self, key, value)\u001b[0m\n\u001b[1;32m   2936\u001b[0m         \u001b[0;32melse\u001b[0m\u001b[0;34m:\u001b[0m\u001b[0;34m\u001b[0m\u001b[0;34m\u001b[0m\u001b[0m\n\u001b[1;32m   2937\u001b[0m             \u001b[0;31m# set column\u001b[0m\u001b[0;34m\u001b[0m\u001b[0;34m\u001b[0m\u001b[0;34m\u001b[0m\u001b[0m\n\u001b[0;32m-> 2938\u001b[0;31m             \u001b[0mself\u001b[0m\u001b[0;34m.\u001b[0m\u001b[0m_set_item\u001b[0m\u001b[0;34m(\u001b[0m\u001b[0mkey\u001b[0m\u001b[0;34m,\u001b[0m \u001b[0mvalue\u001b[0m\u001b[0;34m)\u001b[0m\u001b[0;34m\u001b[0m\u001b[0;34m\u001b[0m\u001b[0m\n\u001b[0m\u001b[1;32m   2939\u001b[0m \u001b[0;34m\u001b[0m\u001b[0m\n\u001b[1;32m   2940\u001b[0m     \u001b[0;32mdef\u001b[0m \u001b[0m_setitem_slice\u001b[0m\u001b[0;34m(\u001b[0m\u001b[0mself\u001b[0m\u001b[0;34m,\u001b[0m \u001b[0mkey\u001b[0m\u001b[0;34m,\u001b[0m \u001b[0mvalue\u001b[0m\u001b[0;34m)\u001b[0m\u001b[0;34m:\u001b[0m\u001b[0;34m\u001b[0m\u001b[0;34m\u001b[0m\u001b[0m\n",
      "\u001b[0;32m~/opt/anaconda3/envs/dsi/lib/python3.7/site-packages/pandas/core/frame.py\u001b[0m in \u001b[0;36m_set_item\u001b[0;34m(self, key, value)\u001b[0m\n\u001b[1;32m   2998\u001b[0m \u001b[0;34m\u001b[0m\u001b[0m\n\u001b[1;32m   2999\u001b[0m         \u001b[0mself\u001b[0m\u001b[0;34m.\u001b[0m\u001b[0m_ensure_valid_index\u001b[0m\u001b[0;34m(\u001b[0m\u001b[0mvalue\u001b[0m\u001b[0;34m)\u001b[0m\u001b[0;34m\u001b[0m\u001b[0;34m\u001b[0m\u001b[0m\n\u001b[0;32m-> 3000\u001b[0;31m         \u001b[0mvalue\u001b[0m \u001b[0;34m=\u001b[0m \u001b[0mself\u001b[0m\u001b[0;34m.\u001b[0m\u001b[0m_sanitize_column\u001b[0m\u001b[0;34m(\u001b[0m\u001b[0mkey\u001b[0m\u001b[0;34m,\u001b[0m \u001b[0mvalue\u001b[0m\u001b[0;34m)\u001b[0m\u001b[0;34m\u001b[0m\u001b[0;34m\u001b[0m\u001b[0m\n\u001b[0m\u001b[1;32m   3001\u001b[0m         \u001b[0mNDFrame\u001b[0m\u001b[0;34m.\u001b[0m\u001b[0m_set_item\u001b[0m\u001b[0;34m(\u001b[0m\u001b[0mself\u001b[0m\u001b[0;34m,\u001b[0m \u001b[0mkey\u001b[0m\u001b[0;34m,\u001b[0m \u001b[0mvalue\u001b[0m\u001b[0;34m)\u001b[0m\u001b[0;34m\u001b[0m\u001b[0;34m\u001b[0m\u001b[0m\n\u001b[1;32m   3002\u001b[0m \u001b[0;34m\u001b[0m\u001b[0m\n",
      "\u001b[0;32m~/opt/anaconda3/envs/dsi/lib/python3.7/site-packages/pandas/core/frame.py\u001b[0m in \u001b[0;36m_sanitize_column\u001b[0;34m(self, key, value, broadcast)\u001b[0m\n\u001b[1;32m   3634\u001b[0m \u001b[0;34m\u001b[0m\u001b[0m\n\u001b[1;32m   3635\u001b[0m             \u001b[0;31m# turn me into an ndarray\u001b[0m\u001b[0;34m\u001b[0m\u001b[0;34m\u001b[0m\u001b[0;34m\u001b[0m\u001b[0m\n\u001b[0;32m-> 3636\u001b[0;31m             \u001b[0mvalue\u001b[0m \u001b[0;34m=\u001b[0m \u001b[0msanitize_index\u001b[0m\u001b[0;34m(\u001b[0m\u001b[0mvalue\u001b[0m\u001b[0;34m,\u001b[0m \u001b[0mself\u001b[0m\u001b[0;34m.\u001b[0m\u001b[0mindex\u001b[0m\u001b[0;34m,\u001b[0m \u001b[0mcopy\u001b[0m\u001b[0;34m=\u001b[0m\u001b[0;32mFalse\u001b[0m\u001b[0;34m)\u001b[0m\u001b[0;34m\u001b[0m\u001b[0;34m\u001b[0m\u001b[0m\n\u001b[0m\u001b[1;32m   3637\u001b[0m             \u001b[0;32mif\u001b[0m \u001b[0;32mnot\u001b[0m \u001b[0misinstance\u001b[0m\u001b[0;34m(\u001b[0m\u001b[0mvalue\u001b[0m\u001b[0;34m,\u001b[0m \u001b[0;34m(\u001b[0m\u001b[0mnp\u001b[0m\u001b[0;34m.\u001b[0m\u001b[0mndarray\u001b[0m\u001b[0;34m,\u001b[0m \u001b[0mIndex\u001b[0m\u001b[0;34m)\u001b[0m\u001b[0;34m)\u001b[0m\u001b[0;34m:\u001b[0m\u001b[0;34m\u001b[0m\u001b[0;34m\u001b[0m\u001b[0m\n\u001b[1;32m   3638\u001b[0m                 \u001b[0;32mif\u001b[0m \u001b[0misinstance\u001b[0m\u001b[0;34m(\u001b[0m\u001b[0mvalue\u001b[0m\u001b[0;34m,\u001b[0m \u001b[0mlist\u001b[0m\u001b[0;34m)\u001b[0m \u001b[0;32mand\u001b[0m \u001b[0mlen\u001b[0m\u001b[0;34m(\u001b[0m\u001b[0mvalue\u001b[0m\u001b[0;34m)\u001b[0m \u001b[0;34m>\u001b[0m \u001b[0;36m0\u001b[0m\u001b[0;34m:\u001b[0m\u001b[0;34m\u001b[0m\u001b[0;34m\u001b[0m\u001b[0m\n",
      "\u001b[0;32m~/opt/anaconda3/envs/dsi/lib/python3.7/site-packages/pandas/core/internals/construction.py\u001b[0m in \u001b[0;36msanitize_index\u001b[0;34m(data, index, copy)\u001b[0m\n\u001b[1;32m    609\u001b[0m \u001b[0;34m\u001b[0m\u001b[0m\n\u001b[1;32m    610\u001b[0m     \u001b[0;32mif\u001b[0m \u001b[0mlen\u001b[0m\u001b[0;34m(\u001b[0m\u001b[0mdata\u001b[0m\u001b[0;34m)\u001b[0m \u001b[0;34m!=\u001b[0m \u001b[0mlen\u001b[0m\u001b[0;34m(\u001b[0m\u001b[0mindex\u001b[0m\u001b[0;34m)\u001b[0m\u001b[0;34m:\u001b[0m\u001b[0;34m\u001b[0m\u001b[0;34m\u001b[0m\u001b[0m\n\u001b[0;32m--> 611\u001b[0;31m         \u001b[0;32mraise\u001b[0m \u001b[0mValueError\u001b[0m\u001b[0;34m(\u001b[0m\u001b[0;34m\"Length of values does not match length of index\"\u001b[0m\u001b[0;34m)\u001b[0m\u001b[0;34m\u001b[0m\u001b[0;34m\u001b[0m\u001b[0m\n\u001b[0m\u001b[1;32m    612\u001b[0m \u001b[0;34m\u001b[0m\u001b[0m\n\u001b[1;32m    613\u001b[0m     \u001b[0;32mif\u001b[0m \u001b[0misinstance\u001b[0m\u001b[0;34m(\u001b[0m\u001b[0mdata\u001b[0m\u001b[0;34m,\u001b[0m \u001b[0mABCIndexClass\u001b[0m\u001b[0;34m)\u001b[0m \u001b[0;32mand\u001b[0m \u001b[0;32mnot\u001b[0m \u001b[0mcopy\u001b[0m\u001b[0;34m:\u001b[0m\u001b[0;34m\u001b[0m\u001b[0;34m\u001b[0m\u001b[0m\n",
      "\u001b[0;31mValueError\u001b[0m: Length of values does not match length of index"
     ]
    }
   ],
   "source": [
    "conflict['missing'] = [1 for i in conflict['Consumer Price Index (CPI)'] if i == np.nan]"
   ]
  },
  {
   "cell_type": "code",
   "execution_count": 18,
   "metadata": {},
   "outputs": [],
   "source": [
    "#conflict.to_csv('data/conflict.csv', index=False)"
   ]
  },
  {
   "cell_type": "code",
   "execution_count": null,
   "metadata": {},
   "outputs": [],
   "source": []
  },
  {
   "cell_type": "code",
   "execution_count": 19,
   "metadata": {},
   "outputs": [
    {
     "output_type": "error",
     "ename": "NameError",
     "evalue": "name 'data' is not defined",
     "traceback": [
      "\u001b[0;31m---------------------------------------------------------------------------\u001b[0m",
      "\u001b[0;31mNameError\u001b[0m                                 Traceback (most recent call last)",
      "\u001b[0;32m<ipython-input-19-304fa4ce4ebd>\u001b[0m in \u001b[0;36m<module>\u001b[0;34m\u001b[0m\n\u001b[0;32m----> 1\u001b[0;31m \u001b[0mdata\u001b[0m\u001b[0;34m.\u001b[0m\u001b[0mhead\u001b[0m\u001b[0;34m(\u001b[0m\u001b[0;34m)\u001b[0m\u001b[0;34m\u001b[0m\u001b[0;34m\u001b[0m\u001b[0m\n\u001b[0m",
      "\u001b[0;31mNameError\u001b[0m: name 'data' is not defined"
     ]
    }
   ],
   "source": [
    "data.head()"
   ]
  },
  {
   "cell_type": "code",
   "execution_count": 20,
   "metadata": {},
   "outputs": [
    {
     "output_type": "error",
     "ename": "NameError",
     "evalue": "name 'data' is not defined",
     "traceback": [
      "\u001b[0;31m---------------------------------------------------------------------------\u001b[0m",
      "\u001b[0;31mNameError\u001b[0m                                 Traceback (most recent call last)",
      "\u001b[0;32m<ipython-input-20-2962204f287d>\u001b[0m in \u001b[0;36m<module>\u001b[0;34m\u001b[0m\n\u001b[0;32m----> 1\u001b[0;31m \u001b[0mdata\u001b[0m\u001b[0;34m.\u001b[0m\u001b[0misnull\u001b[0m\u001b[0;34m(\u001b[0m\u001b[0;34m)\u001b[0m\u001b[0;34m.\u001b[0m\u001b[0msum\u001b[0m\u001b[0;34m(\u001b[0m\u001b[0;34m)\u001b[0m\u001b[0;34m\u001b[0m\u001b[0;34m\u001b[0m\u001b[0m\n\u001b[0m",
      "\u001b[0;31mNameError\u001b[0m: name 'data' is not defined"
     ]
    }
   ],
   "source": [
    "data.isnull().sum()"
   ]
  },
  {
   "cell_type": "code",
   "execution_count": null,
   "metadata": {},
   "outputs": [],
   "source": []
  }
 ],
 "metadata": {
  "language_info": {
   "codemirror_mode": {
    "name": "ipython",
    "version": 3
   },
   "file_extension": ".py",
   "mimetype": "text/x-python",
   "name": "python",
   "nbconvert_exporter": "python",
   "pygments_lexer": "ipython3",
   "version": "3.7.7-final"
  },
  "orig_nbformat": 2,
  "kernelspec": {
   "name": "python37764bitdsicondaddfe0c05640c4e1581da44e0f6b96ae5",
   "display_name": "Python 3.7.7 64-bit ('dsi': conda)"
  }
 },
 "nbformat": 4,
 "nbformat_minor": 2
}