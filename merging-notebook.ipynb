{
 "cells": [
  {
   "cell_type": "code",
   "execution_count": 1,
   "metadata": {},
   "outputs": [],
   "source": [
    "import pandas as pd\n",
    "import numpy as np\n",
    "pd.options.display.max_rows = 999\n",
    "pd.options.display.max_columns = 999"
   ]
  },
  {
   "cell_type": "code",
   "execution_count": 2,
   "metadata": {},
   "outputs": [
    {
     "output_type": "execute_result",
     "data": {
      "text/plain": "   data_id  iso event_id_cnty  event_id_no_cnty event_date  year  \\\n0  6708242  368      IRQ22736             22736  31-Dec-19  2019   \n1  6716953  760      SYR73663             73663  31-Dec-19  2019   \n2  6716955  760      SYR73713             73713  31-Dec-19  2019   \n3  6716700  760      SYR73184             73184  31-Dec-19  2019   \n4  6716960  760      SYR73664             73664  31-Dec-19  2019   \n\n   time_precision                  event_type  \\\n0               1                    Protests   \n1               1  Explosions/Remote violence   \n2               1  Explosions/Remote violence   \n3               1                     Battles   \n4               1  Explosions/Remote violence   \n\n                      sub_event_type                            actor1  \\\n0                   Peaceful protest                 Protesters (Iraq)   \n1  Shelling/artillery/missile attack  Military Forces of Syria (2000-)   \n2  Shelling/artillery/missile attack         Opposition Rebels (Syria)   \n3                        Armed clash  Unidentified Armed Group (Syria)   \n4  Shelling/artillery/missile attack  Military Forces of Syria (2000-)   \n\n  assoc_actor_1  inter1                            actor2 assoc_actor_2  \\\n0           NaN       6                               NaN           NaN   \n1           NaN       1                               NaN           NaN   \n2           NaN       2  Military Forces of Syria (2000-)           NaN   \n3           NaN       3         Opposition Rebels (Syria)           NaN   \n4           NaN       1                               NaN           NaN   \n\n   inter2  interaction       region country  admin1    admin2      admin3  \\\n0       0           60  Middle East    Iraq  Basrah  Al-Qurna         NaN   \n1       0           10  Middle East   Syria   Idleb  Al Ma'ra  Kafr Nobol   \n2       1           12  Middle East   Syria    Hama    Masyaf  Jeb Ramleh   \n3       2           23  Middle East   Syria  Aleppo    Al Bab    Ar-Ra'ee   \n4       0           10  Middle East   Syria   Idleb  Al Ma'ra  Kafr Nobol   \n\n     location  latitude  longitude  geo_precision     source source_scale  \\\n0       Qurna   31.0167    47.4333              1  Al Mirbad     National   \n1     Hazarin   35.5998    36.5267              1       SOHR        Other   \n2      Aslieh   35.1967    36.4892              1       SOHR        Other   \n3    Ar-Ra'ee   36.6125    37.4464              1       SOHR        Other   \n4  Kafr Nobol   35.6147    36.5603              1       SOHR        Other   \n\n                                               notes  fatalities   timestamp  \\\n0  On Dec 31, protesters in Qurna came out to den...           0  1578503874   \n1  On 31 December 2019, regime forces shelled Haz...           0  1578515228   \n2  On 31 December 2019, opposition rebels shelled...           0  1578515228   \n3  On 31 December 2019, unidentified gunmen assas...           1  1578515227   \n4  On 31 December 2019, regime forces shelled Kaf...           0  1578515228   \n\n  iso3  \n0  IRQ  \n1  SYR  \n2  SYR  \n3  SYR  \n4  SYR  ",
      "text/html": "<div>\n<style scoped>\n    .dataframe tbody tr th:only-of-type {\n        vertical-align: middle;\n    }\n\n    .dataframe tbody tr th {\n        vertical-align: top;\n    }\n\n    .dataframe thead th {\n        text-align: right;\n    }\n</style>\n<table border=\"1\" class=\"dataframe\">\n  <thead>\n    <tr style=\"text-align: right;\">\n      <th></th>\n      <th>data_id</th>\n      <th>iso</th>\n      <th>event_id_cnty</th>\n      <th>event_id_no_cnty</th>\n      <th>event_date</th>\n      <th>year</th>\n      <th>time_precision</th>\n      <th>event_type</th>\n      <th>sub_event_type</th>\n      <th>actor1</th>\n      <th>assoc_actor_1</th>\n      <th>inter1</th>\n      <th>actor2</th>\n      <th>assoc_actor_2</th>\n      <th>inter2</th>\n      <th>interaction</th>\n      <th>region</th>\n      <th>country</th>\n      <th>admin1</th>\n      <th>admin2</th>\n      <th>admin3</th>\n      <th>location</th>\n      <th>latitude</th>\n      <th>longitude</th>\n      <th>geo_precision</th>\n      <th>source</th>\n      <th>source_scale</th>\n      <th>notes</th>\n      <th>fatalities</th>\n      <th>timestamp</th>\n      <th>iso3</th>\n    </tr>\n  </thead>\n  <tbody>\n    <tr>\n      <th>0</th>\n      <td>6708242</td>\n      <td>368</td>\n      <td>IRQ22736</td>\n      <td>22736</td>\n      <td>31-Dec-19</td>\n      <td>2019</td>\n      <td>1</td>\n      <td>Protests</td>\n      <td>Peaceful protest</td>\n      <td>Protesters (Iraq)</td>\n      <td>NaN</td>\n      <td>6</td>\n      <td>NaN</td>\n      <td>NaN</td>\n      <td>0</td>\n      <td>60</td>\n      <td>Middle East</td>\n      <td>Iraq</td>\n      <td>Basrah</td>\n      <td>Al-Qurna</td>\n      <td>NaN</td>\n      <td>Qurna</td>\n      <td>31.0167</td>\n      <td>47.4333</td>\n      <td>1</td>\n      <td>Al Mirbad</td>\n      <td>National</td>\n      <td>On Dec 31, protesters in Qurna came out to den...</td>\n      <td>0</td>\n      <td>1578503874</td>\n      <td>IRQ</td>\n    </tr>\n    <tr>\n      <th>1</th>\n      <td>6716953</td>\n      <td>760</td>\n      <td>SYR73663</td>\n      <td>73663</td>\n      <td>31-Dec-19</td>\n      <td>2019</td>\n      <td>1</td>\n      <td>Explosions/Remote violence</td>\n      <td>Shelling/artillery/missile attack</td>\n      <td>Military Forces of Syria (2000-)</td>\n      <td>NaN</td>\n      <td>1</td>\n      <td>NaN</td>\n      <td>NaN</td>\n      <td>0</td>\n      <td>10</td>\n      <td>Middle East</td>\n      <td>Syria</td>\n      <td>Idleb</td>\n      <td>Al Ma'ra</td>\n      <td>Kafr Nobol</td>\n      <td>Hazarin</td>\n      <td>35.5998</td>\n      <td>36.5267</td>\n      <td>1</td>\n      <td>SOHR</td>\n      <td>Other</td>\n      <td>On 31 December 2019, regime forces shelled Haz...</td>\n      <td>0</td>\n      <td>1578515228</td>\n      <td>SYR</td>\n    </tr>\n    <tr>\n      <th>2</th>\n      <td>6716955</td>\n      <td>760</td>\n      <td>SYR73713</td>\n      <td>73713</td>\n      <td>31-Dec-19</td>\n      <td>2019</td>\n      <td>1</td>\n      <td>Explosions/Remote violence</td>\n      <td>Shelling/artillery/missile attack</td>\n      <td>Opposition Rebels (Syria)</td>\n      <td>NaN</td>\n      <td>2</td>\n      <td>Military Forces of Syria (2000-)</td>\n      <td>NaN</td>\n      <td>1</td>\n      <td>12</td>\n      <td>Middle East</td>\n      <td>Syria</td>\n      <td>Hama</td>\n      <td>Masyaf</td>\n      <td>Jeb Ramleh</td>\n      <td>Aslieh</td>\n      <td>35.1967</td>\n      <td>36.4892</td>\n      <td>1</td>\n      <td>SOHR</td>\n      <td>Other</td>\n      <td>On 31 December 2019, opposition rebels shelled...</td>\n      <td>0</td>\n      <td>1578515228</td>\n      <td>SYR</td>\n    </tr>\n    <tr>\n      <th>3</th>\n      <td>6716700</td>\n      <td>760</td>\n      <td>SYR73184</td>\n      <td>73184</td>\n      <td>31-Dec-19</td>\n      <td>2019</td>\n      <td>1</td>\n      <td>Battles</td>\n      <td>Armed clash</td>\n      <td>Unidentified Armed Group (Syria)</td>\n      <td>NaN</td>\n      <td>3</td>\n      <td>Opposition Rebels (Syria)</td>\n      <td>NaN</td>\n      <td>2</td>\n      <td>23</td>\n      <td>Middle East</td>\n      <td>Syria</td>\n      <td>Aleppo</td>\n      <td>Al Bab</td>\n      <td>Ar-Ra'ee</td>\n      <td>Ar-Ra'ee</td>\n      <td>36.6125</td>\n      <td>37.4464</td>\n      <td>1</td>\n      <td>SOHR</td>\n      <td>Other</td>\n      <td>On 31 December 2019, unidentified gunmen assas...</td>\n      <td>1</td>\n      <td>1578515227</td>\n      <td>SYR</td>\n    </tr>\n    <tr>\n      <th>4</th>\n      <td>6716960</td>\n      <td>760</td>\n      <td>SYR73664</td>\n      <td>73664</td>\n      <td>31-Dec-19</td>\n      <td>2019</td>\n      <td>1</td>\n      <td>Explosions/Remote violence</td>\n      <td>Shelling/artillery/missile attack</td>\n      <td>Military Forces of Syria (2000-)</td>\n      <td>NaN</td>\n      <td>1</td>\n      <td>NaN</td>\n      <td>NaN</td>\n      <td>0</td>\n      <td>10</td>\n      <td>Middle East</td>\n      <td>Syria</td>\n      <td>Idleb</td>\n      <td>Al Ma'ra</td>\n      <td>Kafr Nobol</td>\n      <td>Kafr Nobol</td>\n      <td>35.6147</td>\n      <td>36.5603</td>\n      <td>1</td>\n      <td>SOHR</td>\n      <td>Other</td>\n      <td>On 31 December 2019, regime forces shelled Kaf...</td>\n      <td>0</td>\n      <td>1578515228</td>\n      <td>SYR</td>\n    </tr>\n  </tbody>\n</table>\n</div>"
     },
     "metadata": {},
     "execution_count": 2
    }
   ],
   "source": [
    "# Reading in Data\n",
    "acled = pd.read_csv('data/ACLED.csv')\n",
    "acled.head()"
   ]
  },
  {
   "cell_type": "code",
   "execution_count": 3,
   "metadata": {},
   "outputs": [
    {
     "output_type": "stream",
     "name": "stdout",
     "text": "<class 'pandas.core.frame.DataFrame'>\nRangeIndex: 91910 entries, 0 to 91909\nData columns (total 31 columns):\n #   Column            Non-Null Count  Dtype         \n---  ------            --------------  -----         \n 0   data_id           91910 non-null  int64         \n 1   iso               91910 non-null  int64         \n 2   event_id_cnty     91910 non-null  object        \n 3   event_id_no_cnty  91910 non-null  int64         \n 4   event_date        91910 non-null  datetime64[ns]\n 5   year              91910 non-null  int64         \n 6   time_precision    91910 non-null  int64         \n 7   event_type        91910 non-null  object        \n 8   sub_event_type    91910 non-null  object        \n 9   actor1            91910 non-null  object        \n 10  assoc_actor_1     19824 non-null  object        \n 11  inter1            91910 non-null  int64         \n 12  actor2            55510 non-null  object        \n 13  assoc_actor_2     9890 non-null   object        \n 14  inter2            91910 non-null  int64         \n 15  interaction       91910 non-null  int64         \n 16  region            91910 non-null  object        \n 17  country           91910 non-null  object        \n 18  admin1            91910 non-null  object        \n 19  admin2            91889 non-null  object        \n 20  admin3            71531 non-null  object        \n 21  location          91910 non-null  object        \n 22  latitude          91910 non-null  float64       \n 23  longitude         91910 non-null  float64       \n 24  geo_precision     91910 non-null  int64         \n 25  source            91910 non-null  object        \n 26  source_scale      91910 non-null  object        \n 27  notes             91910 non-null  object        \n 28  fatalities        91910 non-null  int64         \n 29  timestamp         91910 non-null  int64         \n 30  iso3              91910 non-null  object        \ndtypes: datetime64[ns](1), float64(2), int64(11), object(17)\nmemory usage: 21.7+ MB\n"
    }
   ],
   "source": [
    "# Converting Date column to panas datetime format\n",
    "acled['event_date'] = pd.to_datetime(acled['event_date'])\n",
    "acled.info()"
   ]
  },
  {
   "cell_type": "code",
   "execution_count": 4,
   "metadata": {},
   "outputs": [],
   "source": [
    "acled['MA/CU'] = acled['event_type'].map({'Explosions/Remote violence': 'MA', \n",
    "                                                             'Battles': 'MA',\n",
    "                                          'Violence against civilians': 'MA',\n",
    "                                                               'Riots': 'CU',\n",
    "                                                            'Protests': 'CU'\n",
    "                                                      })"
   ]
  },
  {
   "cell_type": "code",
   "execution_count": 5,
   "metadata": {},
   "outputs": [
    {
     "output_type": "execute_result",
     "data": {
      "text/plain": "   data_id  iso event_id_cnty  event_id_no_cnty event_date  year  \\\n0  6708242  368      IRQ22736             22736 2019-12-31  2019   \n1  6716953  760      SYR73663             73663 2019-12-31  2019   \n2  6716955  760      SYR73713             73713 2019-12-31  2019   \n3  6716700  760      SYR73184             73184 2019-12-31  2019   \n4  6716960  760      SYR73664             73664 2019-12-31  2019   \n\n   time_precision                  event_type  \\\n0               1                    Protests   \n1               1  Explosions/Remote violence   \n2               1  Explosions/Remote violence   \n3               1                     Battles   \n4               1  Explosions/Remote violence   \n\n                      sub_event_type                            actor1  \\\n0                   Peaceful protest                 Protesters (Iraq)   \n1  Shelling/artillery/missile attack  Military Forces of Syria (2000-)   \n2  Shelling/artillery/missile attack         Opposition Rebels (Syria)   \n3                        Armed clash  Unidentified Armed Group (Syria)   \n4  Shelling/artillery/missile attack  Military Forces of Syria (2000-)   \n\n  assoc_actor_1  inter1                            actor2 assoc_actor_2  \\\n0           NaN       6                               NaN           NaN   \n1           NaN       1                               NaN           NaN   \n2           NaN       2  Military Forces of Syria (2000-)           NaN   \n3           NaN       3         Opposition Rebels (Syria)           NaN   \n4           NaN       1                               NaN           NaN   \n\n   inter2  interaction       region country  admin1    admin2      admin3  \\\n0       0           60  Middle East    Iraq  Basrah  Al-Qurna         NaN   \n1       0           10  Middle East   Syria   Idleb  Al Ma'ra  Kafr Nobol   \n2       1           12  Middle East   Syria    Hama    Masyaf  Jeb Ramleh   \n3       2           23  Middle East   Syria  Aleppo    Al Bab    Ar-Ra'ee   \n4       0           10  Middle East   Syria   Idleb  Al Ma'ra  Kafr Nobol   \n\n     location  latitude  longitude  geo_precision     source source_scale  \\\n0       Qurna   31.0167    47.4333              1  Al Mirbad     National   \n1     Hazarin   35.5998    36.5267              1       SOHR        Other   \n2      Aslieh   35.1967    36.4892              1       SOHR        Other   \n3    Ar-Ra'ee   36.6125    37.4464              1       SOHR        Other   \n4  Kafr Nobol   35.6147    36.5603              1       SOHR        Other   \n\n                                               notes  fatalities   timestamp  \\\n0  On Dec 31, protesters in Qurna came out to den...           0  1578503874   \n1  On 31 December 2019, regime forces shelled Haz...           0  1578515228   \n2  On 31 December 2019, opposition rebels shelled...           0  1578515228   \n3  On 31 December 2019, unidentified gunmen assas...           1  1578515227   \n4  On 31 December 2019, regime forces shelled Kaf...           0  1578515228   \n\n  iso3 MA/CU  \n0  IRQ    CU  \n1  SYR    MA  \n2  SYR    MA  \n3  SYR    MA  \n4  SYR    MA  ",
      "text/html": "<div>\n<style scoped>\n    .dataframe tbody tr th:only-of-type {\n        vertical-align: middle;\n    }\n\n    .dataframe tbody tr th {\n        vertical-align: top;\n    }\n\n    .dataframe thead th {\n        text-align: right;\n    }\n</style>\n<table border=\"1\" class=\"dataframe\">\n  <thead>\n    <tr style=\"text-align: right;\">\n      <th></th>\n      <th>data_id</th>\n      <th>iso</th>\n      <th>event_id_cnty</th>\n      <th>event_id_no_cnty</th>\n      <th>event_date</th>\n      <th>year</th>\n      <th>time_precision</th>\n      <th>event_type</th>\n      <th>sub_event_type</th>\n      <th>actor1</th>\n      <th>assoc_actor_1</th>\n      <th>inter1</th>\n      <th>actor2</th>\n      <th>assoc_actor_2</th>\n      <th>inter2</th>\n      <th>interaction</th>\n      <th>region</th>\n      <th>country</th>\n      <th>admin1</th>\n      <th>admin2</th>\n      <th>admin3</th>\n      <th>location</th>\n      <th>latitude</th>\n      <th>longitude</th>\n      <th>geo_precision</th>\n      <th>source</th>\n      <th>source_scale</th>\n      <th>notes</th>\n      <th>fatalities</th>\n      <th>timestamp</th>\n      <th>iso3</th>\n      <th>MA/CU</th>\n    </tr>\n  </thead>\n  <tbody>\n    <tr>\n      <th>0</th>\n      <td>6708242</td>\n      <td>368</td>\n      <td>IRQ22736</td>\n      <td>22736</td>\n      <td>2019-12-31</td>\n      <td>2019</td>\n      <td>1</td>\n      <td>Protests</td>\n      <td>Peaceful protest</td>\n      <td>Protesters (Iraq)</td>\n      <td>NaN</td>\n      <td>6</td>\n      <td>NaN</td>\n      <td>NaN</td>\n      <td>0</td>\n      <td>60</td>\n      <td>Middle East</td>\n      <td>Iraq</td>\n      <td>Basrah</td>\n      <td>Al-Qurna</td>\n      <td>NaN</td>\n      <td>Qurna</td>\n      <td>31.0167</td>\n      <td>47.4333</td>\n      <td>1</td>\n      <td>Al Mirbad</td>\n      <td>National</td>\n      <td>On Dec 31, protesters in Qurna came out to den...</td>\n      <td>0</td>\n      <td>1578503874</td>\n      <td>IRQ</td>\n      <td>CU</td>\n    </tr>\n    <tr>\n      <th>1</th>\n      <td>6716953</td>\n      <td>760</td>\n      <td>SYR73663</td>\n      <td>73663</td>\n      <td>2019-12-31</td>\n      <td>2019</td>\n      <td>1</td>\n      <td>Explosions/Remote violence</td>\n      <td>Shelling/artillery/missile attack</td>\n      <td>Military Forces of Syria (2000-)</td>\n      <td>NaN</td>\n      <td>1</td>\n      <td>NaN</td>\n      <td>NaN</td>\n      <td>0</td>\n      <td>10</td>\n      <td>Middle East</td>\n      <td>Syria</td>\n      <td>Idleb</td>\n      <td>Al Ma'ra</td>\n      <td>Kafr Nobol</td>\n      <td>Hazarin</td>\n      <td>35.5998</td>\n      <td>36.5267</td>\n      <td>1</td>\n      <td>SOHR</td>\n      <td>Other</td>\n      <td>On 31 December 2019, regime forces shelled Haz...</td>\n      <td>0</td>\n      <td>1578515228</td>\n      <td>SYR</td>\n      <td>MA</td>\n    </tr>\n    <tr>\n      <th>2</th>\n      <td>6716955</td>\n      <td>760</td>\n      <td>SYR73713</td>\n      <td>73713</td>\n      <td>2019-12-31</td>\n      <td>2019</td>\n      <td>1</td>\n      <td>Explosions/Remote violence</td>\n      <td>Shelling/artillery/missile attack</td>\n      <td>Opposition Rebels (Syria)</td>\n      <td>NaN</td>\n      <td>2</td>\n      <td>Military Forces of Syria (2000-)</td>\n      <td>NaN</td>\n      <td>1</td>\n      <td>12</td>\n      <td>Middle East</td>\n      <td>Syria</td>\n      <td>Hama</td>\n      <td>Masyaf</td>\n      <td>Jeb Ramleh</td>\n      <td>Aslieh</td>\n      <td>35.1967</td>\n      <td>36.4892</td>\n      <td>1</td>\n      <td>SOHR</td>\n      <td>Other</td>\n      <td>On 31 December 2019, opposition rebels shelled...</td>\n      <td>0</td>\n      <td>1578515228</td>\n      <td>SYR</td>\n      <td>MA</td>\n    </tr>\n    <tr>\n      <th>3</th>\n      <td>6716700</td>\n      <td>760</td>\n      <td>SYR73184</td>\n      <td>73184</td>\n      <td>2019-12-31</td>\n      <td>2019</td>\n      <td>1</td>\n      <td>Battles</td>\n      <td>Armed clash</td>\n      <td>Unidentified Armed Group (Syria)</td>\n      <td>NaN</td>\n      <td>3</td>\n      <td>Opposition Rebels (Syria)</td>\n      <td>NaN</td>\n      <td>2</td>\n      <td>23</td>\n      <td>Middle East</td>\n      <td>Syria</td>\n      <td>Aleppo</td>\n      <td>Al Bab</td>\n      <td>Ar-Ra'ee</td>\n      <td>Ar-Ra'ee</td>\n      <td>36.6125</td>\n      <td>37.4464</td>\n      <td>1</td>\n      <td>SOHR</td>\n      <td>Other</td>\n      <td>On 31 December 2019, unidentified gunmen assas...</td>\n      <td>1</td>\n      <td>1578515227</td>\n      <td>SYR</td>\n      <td>MA</td>\n    </tr>\n    <tr>\n      <th>4</th>\n      <td>6716960</td>\n      <td>760</td>\n      <td>SYR73664</td>\n      <td>73664</td>\n      <td>2019-12-31</td>\n      <td>2019</td>\n      <td>1</td>\n      <td>Explosions/Remote violence</td>\n      <td>Shelling/artillery/missile attack</td>\n      <td>Military Forces of Syria (2000-)</td>\n      <td>NaN</td>\n      <td>1</td>\n      <td>NaN</td>\n      <td>NaN</td>\n      <td>0</td>\n      <td>10</td>\n      <td>Middle East</td>\n      <td>Syria</td>\n      <td>Idleb</td>\n      <td>Al Ma'ra</td>\n      <td>Kafr Nobol</td>\n      <td>Kafr Nobol</td>\n      <td>35.6147</td>\n      <td>36.5603</td>\n      <td>1</td>\n      <td>SOHR</td>\n      <td>Other</td>\n      <td>On 31 December 2019, regime forces shelled Kaf...</td>\n      <td>0</td>\n      <td>1578515228</td>\n      <td>SYR</td>\n      <td>MA</td>\n    </tr>\n  </tbody>\n</table>\n</div>"
     },
     "metadata": {},
     "execution_count": 5
    }
   ],
   "source": [
    "acled.head()"
   ]
  },
  {
   "cell_type": "code",
   "execution_count": 6,
   "metadata": {},
   "outputs": [
    {
     "output_type": "execute_result",
     "data": {
      "text/plain": "array(['Protests', 'Explosions/Remote violence', 'Battles',\n       'Strategic developments', 'Violence against civilians', 'Riots'],\n      dtype=object)"
     },
     "metadata": {},
     "execution_count": 6
    }
   ],
   "source": [
    "acled.event_type.unique()"
   ]
  },
  {
   "cell_type": "code",
   "execution_count": 7,
   "metadata": {},
   "outputs": [
    {
     "output_type": "execute_result",
     "data": {
      "text/plain": "array(['Iraq', 'Syria', 'Lebanon', 'Egypt', 'Saudi Arabia', 'Jordan'],\n      dtype=object)"
     },
     "metadata": {},
     "execution_count": 7
    }
   ],
   "source": [
    "acled.country.unique()"
   ]
  },
  {
   "cell_type": "code",
   "execution_count": 11,
   "metadata": {},
   "outputs": [],
   "source": [
    "sds = acled.loc[acled['event_type'] == 'Strategic developments', :]"
   ]
  },
  {
   "cell_type": "code",
   "execution_count": 12,
   "metadata": {},
   "outputs": [],
   "source": [
    "# Dropping unecessary columns\n",
    "acled.drop(columns=['data_id',\n",
    "                    'iso',\n",
    "                    'event_id_cnty',\n",
    "                    'event_id_no_cnty',\n",
    "                    'time_precision',\n",
    "                    'source',\n",
    "                    'source_scale',\n",
    "                    'notes',\n",
    "                    'iso3'\n",
    "                    ],\n",
    "                    inplace=True)"
   ]
  },
  {
   "cell_type": "code",
   "execution_count": 13,
   "metadata": {},
   "outputs": [
    {
     "output_type": "execute_result",
     "data": {
      "text/plain": "  event_date  year                  event_type  \\\n0 2019-12-31  2019                    Protests   \n1 2019-12-31  2019  Explosions/Remote violence   \n2 2019-12-31  2019  Explosions/Remote violence   \n3 2019-12-31  2019                     Battles   \n4 2019-12-31  2019  Explosions/Remote violence   \n\n                      sub_event_type                            actor1  \\\n0                   Peaceful protest                 Protesters (Iraq)   \n1  Shelling/artillery/missile attack  Military Forces of Syria (2000-)   \n2  Shelling/artillery/missile attack         Opposition Rebels (Syria)   \n3                        Armed clash  Unidentified Armed Group (Syria)   \n4  Shelling/artillery/missile attack  Military Forces of Syria (2000-)   \n\n  assoc_actor_1  inter1                            actor2 assoc_actor_2  \\\n0           NaN       6                               NaN           NaN   \n1           NaN       1                               NaN           NaN   \n2           NaN       2  Military Forces of Syria (2000-)           NaN   \n3           NaN       3         Opposition Rebels (Syria)           NaN   \n4           NaN       1                               NaN           NaN   \n\n   inter2  interaction       region country  admin1    admin2      admin3  \\\n0       0           60  Middle East    Iraq  Basrah  Al-Qurna         NaN   \n1       0           10  Middle East   Syria   Idleb  Al Ma'ra  Kafr Nobol   \n2       1           12  Middle East   Syria    Hama    Masyaf  Jeb Ramleh   \n3       2           23  Middle East   Syria  Aleppo    Al Bab    Ar-Ra'ee   \n4       0           10  Middle East   Syria   Idleb  Al Ma'ra  Kafr Nobol   \n\n     location  latitude  longitude  geo_precision  fatalities   timestamp  \\\n0       Qurna   31.0167    47.4333              1           0  1578503874   \n1     Hazarin   35.5998    36.5267              1           0  1578515228   \n2      Aslieh   35.1967    36.4892              1           0  1578515228   \n3    Ar-Ra'ee   36.6125    37.4464              1           1  1578515227   \n4  Kafr Nobol   35.6147    36.5603              1           0  1578515228   \n\n  MA/CU  \n0    CU  \n1    MA  \n2    MA  \n3    MA  \n4    MA  ",
      "text/html": "<div>\n<style scoped>\n    .dataframe tbody tr th:only-of-type {\n        vertical-align: middle;\n    }\n\n    .dataframe tbody tr th {\n        vertical-align: top;\n    }\n\n    .dataframe thead th {\n        text-align: right;\n    }\n</style>\n<table border=\"1\" class=\"dataframe\">\n  <thead>\n    <tr style=\"text-align: right;\">\n      <th></th>\n      <th>event_date</th>\n      <th>year</th>\n      <th>event_type</th>\n      <th>sub_event_type</th>\n      <th>actor1</th>\n      <th>assoc_actor_1</th>\n      <th>inter1</th>\n      <th>actor2</th>\n      <th>assoc_actor_2</th>\n      <th>inter2</th>\n      <th>interaction</th>\n      <th>region</th>\n      <th>country</th>\n      <th>admin1</th>\n      <th>admin2</th>\n      <th>admin3</th>\n      <th>location</th>\n      <th>latitude</th>\n      <th>longitude</th>\n      <th>geo_precision</th>\n      <th>fatalities</th>\n      <th>timestamp</th>\n      <th>MA/CU</th>\n    </tr>\n  </thead>\n  <tbody>\n    <tr>\n      <th>0</th>\n      <td>2019-12-31</td>\n      <td>2019</td>\n      <td>Protests</td>\n      <td>Peaceful protest</td>\n      <td>Protesters (Iraq)</td>\n      <td>NaN</td>\n      <td>6</td>\n      <td>NaN</td>\n      <td>NaN</td>\n      <td>0</td>\n      <td>60</td>\n      <td>Middle East</td>\n      <td>Iraq</td>\n      <td>Basrah</td>\n      <td>Al-Qurna</td>\n      <td>NaN</td>\n      <td>Qurna</td>\n      <td>31.0167</td>\n      <td>47.4333</td>\n      <td>1</td>\n      <td>0</td>\n      <td>1578503874</td>\n      <td>CU</td>\n    </tr>\n    <tr>\n      <th>1</th>\n      <td>2019-12-31</td>\n      <td>2019</td>\n      <td>Explosions/Remote violence</td>\n      <td>Shelling/artillery/missile attack</td>\n      <td>Military Forces of Syria (2000-)</td>\n      <td>NaN</td>\n      <td>1</td>\n      <td>NaN</td>\n      <td>NaN</td>\n      <td>0</td>\n      <td>10</td>\n      <td>Middle East</td>\n      <td>Syria</td>\n      <td>Idleb</td>\n      <td>Al Ma'ra</td>\n      <td>Kafr Nobol</td>\n      <td>Hazarin</td>\n      <td>35.5998</td>\n      <td>36.5267</td>\n      <td>1</td>\n      <td>0</td>\n      <td>1578515228</td>\n      <td>MA</td>\n    </tr>\n    <tr>\n      <th>2</th>\n      <td>2019-12-31</td>\n      <td>2019</td>\n      <td>Explosions/Remote violence</td>\n      <td>Shelling/artillery/missile attack</td>\n      <td>Opposition Rebels (Syria)</td>\n      <td>NaN</td>\n      <td>2</td>\n      <td>Military Forces of Syria (2000-)</td>\n      <td>NaN</td>\n      <td>1</td>\n      <td>12</td>\n      <td>Middle East</td>\n      <td>Syria</td>\n      <td>Hama</td>\n      <td>Masyaf</td>\n      <td>Jeb Ramleh</td>\n      <td>Aslieh</td>\n      <td>35.1967</td>\n      <td>36.4892</td>\n      <td>1</td>\n      <td>0</td>\n      <td>1578515228</td>\n      <td>MA</td>\n    </tr>\n    <tr>\n      <th>3</th>\n      <td>2019-12-31</td>\n      <td>2019</td>\n      <td>Battles</td>\n      <td>Armed clash</td>\n      <td>Unidentified Armed Group (Syria)</td>\n      <td>NaN</td>\n      <td>3</td>\n      <td>Opposition Rebels (Syria)</td>\n      <td>NaN</td>\n      <td>2</td>\n      <td>23</td>\n      <td>Middle East</td>\n      <td>Syria</td>\n      <td>Aleppo</td>\n      <td>Al Bab</td>\n      <td>Ar-Ra'ee</td>\n      <td>Ar-Ra'ee</td>\n      <td>36.6125</td>\n      <td>37.4464</td>\n      <td>1</td>\n      <td>1</td>\n      <td>1578515227</td>\n      <td>MA</td>\n    </tr>\n    <tr>\n      <th>4</th>\n      <td>2019-12-31</td>\n      <td>2019</td>\n      <td>Explosions/Remote violence</td>\n      <td>Shelling/artillery/missile attack</td>\n      <td>Military Forces of Syria (2000-)</td>\n      <td>NaN</td>\n      <td>1</td>\n      <td>NaN</td>\n      <td>NaN</td>\n      <td>0</td>\n      <td>10</td>\n      <td>Middle East</td>\n      <td>Syria</td>\n      <td>Idleb</td>\n      <td>Al Ma'ra</td>\n      <td>Kafr Nobol</td>\n      <td>Kafr Nobol</td>\n      <td>35.6147</td>\n      <td>36.5603</td>\n      <td>1</td>\n      <td>0</td>\n      <td>1578515228</td>\n      <td>MA</td>\n    </tr>\n  </tbody>\n</table>\n</div>"
     },
     "metadata": {},
     "execution_count": 13
    }
   ],
   "source": [
    "acled.head()"
   ]
  },
  {
   "cell_type": "code",
   "execution_count": 14,
   "metadata": {},
   "outputs": [
    {
     "output_type": "execute_result",
     "data": {
      "text/plain": "event_date            0\nyear                  0\nevent_type            0\nsub_event_type        0\nactor1                0\nassoc_actor_1     68558\ninter1                0\nactor2            33636\nassoc_actor_2     77690\ninter2                0\ninteraction           0\nregion                0\ncountry               0\nadmin1                0\nadmin2               18\nadmin3            19173\nlocation              0\nlatitude              0\nlongitude             0\ngeo_precision         0\nfatalities            0\ntimestamp             0\nMA/CU                 0\ndtype: int64"
     },
     "metadata": {},
     "execution_count": 14
    }
   ],
   "source": [
    "acled.isnull().sum()"
   ]
  },
  {
   "cell_type": "code",
   "execution_count": 15,
   "metadata": {},
   "outputs": [],
   "source": [
    "# Filling unknown actors and locations with 'unknown'.\n",
    "\n",
    "acled.fillna('unknown', inplace=True)"
   ]
  },
  {
   "cell_type": "code",
   "execution_count": 16,
   "metadata": {},
   "outputs": [],
   "source": [
    "# Reading in Tor Data\n",
    "tor_filepaths = [\n",
    "    'data/Egypt-Tor-Metrics.csv',\n",
    "    'data/Iraq-Tor-Metrics.csv',\n",
    "    'data/Jordan-Tor-Metrics.csv',\n",
    "    'data/Lebanon-Tor-Metrics.csv',\n",
    "    'data/Saudi-Arabia-Tor-Metrics.csv',\n",
    "    'data/Syria-Tor-Metrics.csv'\n",
    "    ]\n",
    "\n",
    "tor_data = [csv for csv in tor_filepaths]\n",
    "tor_metrics = pd.concat(map(pd.read_csv, tor_filepaths))\n",
    "tor_metrics['date'] = pd.to_datetime(tor_metrics['date'])"
   ]
  },
  {
   "cell_type": "code",
   "execution_count": 17,
   "metadata": {},
   "outputs": [
    {
     "output_type": "execute_result",
     "data": {
      "text/plain": "array(['eg', 'iq', 'jo', 'lb', 'sa', 'sy'], dtype=object)"
     },
     "metadata": {},
     "execution_count": 17
    }
   ],
   "source": [
    "tor_metrics['country'].unique()"
   ]
  },
  {
   "cell_type": "code",
   "execution_count": 18,
   "metadata": {},
   "outputs": [],
   "source": [
    "# Mapping country names to match ACLED Data\n",
    "tor_metrics['country'] = tor_metrics['country'].map({'eg': 'Egypt', 'iq': 'Iraq', 'jo':'Jordan', 'lb': 'Lebanon', 'sa': 'Saudi Arabia', 'sy': 'Syria'})"
   ]
  },
  {
   "cell_type": "code",
   "execution_count": 19,
   "metadata": {},
   "outputs": [
    {
     "output_type": "execute_result",
     "data": {
      "text/plain": "        date country  users  frac\n0 2017-01-01   Egypt    564    56\n1 2017-01-02   Egypt    654    54\n2 2017-01-03   Egypt    598    59\n3 2017-01-04   Egypt    528    57\n4 2017-01-05   Egypt    508    59",
      "text/html": "<div>\n<style scoped>\n    .dataframe tbody tr th:only-of-type {\n        vertical-align: middle;\n    }\n\n    .dataframe tbody tr th {\n        vertical-align: top;\n    }\n\n    .dataframe thead th {\n        text-align: right;\n    }\n</style>\n<table border=\"1\" class=\"dataframe\">\n  <thead>\n    <tr style=\"text-align: right;\">\n      <th></th>\n      <th>date</th>\n      <th>country</th>\n      <th>users</th>\n      <th>frac</th>\n    </tr>\n  </thead>\n  <tbody>\n    <tr>\n      <th>0</th>\n      <td>2017-01-01</td>\n      <td>Egypt</td>\n      <td>564</td>\n      <td>56</td>\n    </tr>\n    <tr>\n      <th>1</th>\n      <td>2017-01-02</td>\n      <td>Egypt</td>\n      <td>654</td>\n      <td>54</td>\n    </tr>\n    <tr>\n      <th>2</th>\n      <td>2017-01-03</td>\n      <td>Egypt</td>\n      <td>598</td>\n      <td>59</td>\n    </tr>\n    <tr>\n      <th>3</th>\n      <td>2017-01-04</td>\n      <td>Egypt</td>\n      <td>528</td>\n      <td>57</td>\n    </tr>\n    <tr>\n      <th>4</th>\n      <td>2017-01-05</td>\n      <td>Egypt</td>\n      <td>508</td>\n      <td>59</td>\n    </tr>\n  </tbody>\n</table>\n</div>"
     },
     "metadata": {},
     "execution_count": 19
    }
   ],
   "source": [
    "tor_metrics.head()"
   ]
  },
  {
   "cell_type": "code",
   "execution_count": 20,
   "metadata": {},
   "outputs": [],
   "source": [
    "# Merging datasets\n",
    "acled_and_tor = pd.merge_ordered(acled, \n",
    "                         tor_metrics, \n",
    "                         how='left',\n",
    "                         left_on=['event_date', 'country'],\n",
    "                         right_on=['date', 'country'],\n",
    "                         fill_method='ffill')"
   ]
  },
  {
   "cell_type": "code",
   "execution_count": 21,
   "metadata": {},
   "outputs": [],
   "source": [
    "# Filtering for US/UN Actions\n",
    "us_actions = acled_and_tor[(acled_and_tor['actor1'].str.contains('United States|United Nations')) |\n",
    "                           (acled_and_tor['actor2'].str.contains('United States|United Nations')) |\n",
    "                           (acled_and_tor['assoc_actor_1'].str.contains('United States|United Nations')) |\n",
    "                           (acled_and_tor['assoc_actor_2'].str.contains('United States|United Nations'))] "
   ]
  },
  {
   "cell_type": "code",
   "execution_count": 22,
   "metadata": {},
   "outputs": [],
   "source": [
    "# Dropping US/UN Actions\n",
    "acled_and_tor.drop(us_actions.index, inplace=True)"
   ]
  },
  {
   "cell_type": "code",
   "execution_count": 23,
   "metadata": {},
   "outputs": [
    {
     "output_type": "execute_result",
     "data": {
      "text/plain": "event_date        0\nyear              0\nevent_type        0\nsub_event_type    0\nactor1            0\nassoc_actor_1     0\ninter1            0\nactor2            0\nassoc_actor_2     0\ninter2            0\ninteraction       0\nregion            0\ncountry           0\nadmin1            0\nadmin2            0\nadmin3            0\nlocation          0\nlatitude          0\nlongitude         0\ngeo_precision     0\nfatalities        0\ntimestamp         0\nMA/CU             0\ndate              0\nusers             0\nfrac              0\ndtype: int64"
     },
     "metadata": {},
     "execution_count": 23
    }
   ],
   "source": [
    "acled_and_tor.isnull().sum()"
   ]
  },
  {
   "cell_type": "code",
   "execution_count": 24,
   "metadata": {},
   "outputs": [],
   "source": [
    "# Dropping data column for tor data\n",
    "acled_and_tor.drop(columns='date', axis=1, inplace=True)"
   ]
  },
  {
   "cell_type": "code",
   "execution_count": 25,
   "metadata": {},
   "outputs": [],
   "source": [
    "# Extracting Month Column and Creating Seperate Column\n",
    "acled_and_tor['month'] = acled_and_tor['event_date'].dt.month"
   ]
  },
  {
   "cell_type": "code",
   "execution_count": 26,
   "metadata": {},
   "outputs": [],
   "source": [
    "econ_data = pd.read_csv('data/econ-data.csv')"
   ]
  },
  {
   "cell_type": "code",
   "execution_count": 27,
   "metadata": {},
   "outputs": [],
   "source": [
    "econ_data['Date'] = pd.to_datetime(econ_data['Date'])"
   ]
  },
  {
   "cell_type": "code",
   "execution_count": 28,
   "metadata": {},
   "outputs": [],
   "source": [
    "conflict = pd.merge(acled_and_tor, econ_data,\n",
    "                            how='left',\n",
    "                            left_on=['country', 'year', 'month'],\n",
    "                            right_on=['Country', 'Year', 'Month'])"
   ]
  },
  {
   "cell_type": "code",
   "execution_count": 29,
   "metadata": {},
   "outputs": [
    {
     "output_type": "execute_result",
     "data": {
      "text/plain": "event_date                                                      0\nyear                                                            0\nevent_type                                                      0\nsub_event_type                                                  0\nactor1                                                          0\nassoc_actor_1                                                   0\ninter1                                                          0\nactor2                                                          0\nassoc_actor_2                                                   0\ninter2                                                          0\ninteraction                                                     0\nregion                                                          0\ncountry                                                         0\nadmin1                                                          0\nadmin2                                                          0\nadmin3                                                          0\nlocation                                                        0\nlatitude                                                        0\nlongitude                                                       0\ngeo_precision                                                   0\nfatalities                                                      0\ntimestamp                                                       0\nMA/CU                                                           0\nusers                                                           0\nfrac                                                            0\nmonth                                                           0\nCountry                                                         0\nCode                                                            0\nYear                                                            0\nMonth                                                           0\nDate                                                            0\nConsumer Price Index (CPI)                                  65966\nInflation monthly percent change in the CPI                 65966\nExchange rate USD                                               0\nGDP per capita Purchasing Power Parity                      73108\nLabor force million people                                      0\nUnemployment rate                                               0\nForeign Direct Investment percent of GDP                    73108\nTrade balance billion USD                                   73108\nGovernment debt as percent of GDP                           75495\nRule of law index (-2.5 weak; 2.5 strong)                   25131\nGovernment effectiveness index (-2.5 weak; 2.5 strong)      25131\nControl of corruption (-2.5 weak; 2.5 strong)               25131\nRegulatory quality index (-2.5 weak; 2.5 strong)            25131\nVoice and accountability index (-2.5 weak; 2.5 strong)      25131\nPolitical stability index (-2.5 weak; 2.5 strong)           25131\nCorruption Perceptions Index 100 = no corruption                0\nPolitical rights index 7 (weak) - 1 (strong)                    0\nCivil liberties index 7 (weak) - 1 (strong)                     0\nShort-term political risk (1=low 7=high)                        0\nMedium/long-term political risk (1=low 7=high)                  0\nPolitical violence risk (1=low 7=high)                          0\nInternet users percent of population                        43983\nMobile phone subscribers per 100 people                     25131\nEmployment in agriculture % of total employment               611\nInnovations index (0-100)                                   76937\nProperty rights index (0-100)                                 611\nFreedom from corruption index (0-100)                         611\nBusiness freedom index (0-100)                                611\nLabor freedom index (0-100)                                   611\nPopulation density people per square km                     25131\nLife expectancy in years                                    25131\nGDP per capita Purchasing Power Parity.1                    73108\nFragile state index 0 (low) - 120 (high)                        0\nSecurity threats index 0 (low) - 10 (high)                      0\nState legitimacy index 0 (high) - 10 (low)                      0\nPublic services index 0 (high) - 10 (low)                       0\nHuman rights and rule of law index 0 (high) - 10 (low)          0\nRefugees and displaced persons index 0 (low) - 10 (high)        0\nMilitary spending percent of GDP                            73108\nLabor force million people.1                                    0\nLabor force participation rate                                  0\nPercent urban population                                    25131\nPopulation density people per square km.1                   25131\ndtype: int64"
     },
     "metadata": {},
     "execution_count": 29
    }
   ],
   "source": [
    "conflict.isnull().sum()"
   ]
  },
  {
   "cell_type": "code",
   "execution_count": 30,
   "metadata": {},
   "outputs": [],
   "source": [
    "conflict['missing_data'] = conflict['Consumer Price Index (CPI)'].map({np.nan:1})\n",
    "conflict['missing_data'].fillna(0, inplace=True)"
   ]
  },
  {
   "cell_type": "code",
   "execution_count": 31,
   "metadata": {},
   "outputs": [],
   "source": [
    "conflict.drop(columns=econ_data.columns, inplace=True)"
   ]
  },
  {
   "cell_type": "code",
   "execution_count": 32,
   "metadata": {},
   "outputs": [
    {
     "output_type": "execute_result",
     "data": {
      "text/plain": "  event_date  year                  event_type                 sub_event_type  \\\n0 2017-01-01  2017  Explosions/Remote violence  Remote explosive/landmine/IED   \n1 2017-01-01  2017                     Battles                    Armed clash   \n2 2017-01-01  2017  Explosions/Remote violence               Air/drone strike   \n3 2017-01-01  2017  Explosions/Remote violence  Remote explosive/landmine/IED   \n4 2017-01-01  2017                     Battles                    Armed clash   \n\n                                              actor1 assoc_actor_1  inter1  \\\n0                   Unidentified Armed Group (Egypt)       unknown       3   \n1  Military Forces of Iraq (2014-2018) Popular Mo...       unknown       1   \n2                Military Forces of Iraq (2014-2018)       unknown       1   \n3                               Islamic State (Iraq)       unknown       2   \n4                               Islamic State (Iraq)       unknown       2   \n\n                              actor2 assoc_actor_2  inter2  interaction  \\\n0                            unknown       unknown       0           30   \n1               Islamic State (Iraq)       unknown       2           12   \n2               Islamic State (Iraq)       unknown       2           12   \n3                   Civilians (Iraq)       unknown       7           27   \n4  Police Forces of Iraq (2014-2018)       unknown       1           12   \n\n            region country  admin1     admin2   admin3         location  \\\n0  Northern Africa   Egypt   Cairo   Al Maadi  unknown   Cairo-Al Maadi   \n1      Middle East    Iraq   Anbar       Anah  unknown  Aradi as Sakrah   \n2      Middle East    Iraq  Ninewa      Mosul  unknown            Mosul   \n3      Middle East    Iraq   Najaf      Najaf  unknown            Najaf   \n4      Middle East    Iraq   Najaf  Manathera  unknown      Al Mishkhab   \n\n   latitude  longitude  geo_precision  fatalities   timestamp MA/CU  users  \\\n0   29.9667    31.2500              1           0  1578503454    MA    564   \n1   34.1915    42.0313              3           6  1567462133    MA     46   \n2   36.3350    43.1189              1          20  1572403769    MA     46   \n3   32.0259    44.3462              2           6  1572403770    MA     46   \n4   31.8044    44.4893              1           0  1572403770    MA     46   \n\n   frac  month  missing_data  \n0    56      1           0.0  \n1    56      1           0.0  \n2    56      1           0.0  \n3    56      1           0.0  \n4    56      1           0.0  ",
      "text/html": "<div>\n<style scoped>\n    .dataframe tbody tr th:only-of-type {\n        vertical-align: middle;\n    }\n\n    .dataframe tbody tr th {\n        vertical-align: top;\n    }\n\n    .dataframe thead th {\n        text-align: right;\n    }\n</style>\n<table border=\"1\" class=\"dataframe\">\n  <thead>\n    <tr style=\"text-align: right;\">\n      <th></th>\n      <th>event_date</th>\n      <th>year</th>\n      <th>event_type</th>\n      <th>sub_event_type</th>\n      <th>actor1</th>\n      <th>assoc_actor_1</th>\n      <th>inter1</th>\n      <th>actor2</th>\n      <th>assoc_actor_2</th>\n      <th>inter2</th>\n      <th>interaction</th>\n      <th>region</th>\n      <th>country</th>\n      <th>admin1</th>\n      <th>admin2</th>\n      <th>admin3</th>\n      <th>location</th>\n      <th>latitude</th>\n      <th>longitude</th>\n      <th>geo_precision</th>\n      <th>fatalities</th>\n      <th>timestamp</th>\n      <th>MA/CU</th>\n      <th>users</th>\n      <th>frac</th>\n      <th>month</th>\n      <th>missing_data</th>\n    </tr>\n  </thead>\n  <tbody>\n    <tr>\n      <th>0</th>\n      <td>2017-01-01</td>\n      <td>2017</td>\n      <td>Explosions/Remote violence</td>\n      <td>Remote explosive/landmine/IED</td>\n      <td>Unidentified Armed Group (Egypt)</td>\n      <td>unknown</td>\n      <td>3</td>\n      <td>unknown</td>\n      <td>unknown</td>\n      <td>0</td>\n      <td>30</td>\n      <td>Northern Africa</td>\n      <td>Egypt</td>\n      <td>Cairo</td>\n      <td>Al Maadi</td>\n      <td>unknown</td>\n      <td>Cairo-Al Maadi</td>\n      <td>29.9667</td>\n      <td>31.2500</td>\n      <td>1</td>\n      <td>0</td>\n      <td>1578503454</td>\n      <td>MA</td>\n      <td>564</td>\n      <td>56</td>\n      <td>1</td>\n      <td>0.0</td>\n    </tr>\n    <tr>\n      <th>1</th>\n      <td>2017-01-01</td>\n      <td>2017</td>\n      <td>Battles</td>\n      <td>Armed clash</td>\n      <td>Military Forces of Iraq (2014-2018) Popular Mo...</td>\n      <td>unknown</td>\n      <td>1</td>\n      <td>Islamic State (Iraq)</td>\n      <td>unknown</td>\n      <td>2</td>\n      <td>12</td>\n      <td>Middle East</td>\n      <td>Iraq</td>\n      <td>Anbar</td>\n      <td>Anah</td>\n      <td>unknown</td>\n      <td>Aradi as Sakrah</td>\n      <td>34.1915</td>\n      <td>42.0313</td>\n      <td>3</td>\n      <td>6</td>\n      <td>1567462133</td>\n      <td>MA</td>\n      <td>46</td>\n      <td>56</td>\n      <td>1</td>\n      <td>0.0</td>\n    </tr>\n    <tr>\n      <th>2</th>\n      <td>2017-01-01</td>\n      <td>2017</td>\n      <td>Explosions/Remote violence</td>\n      <td>Air/drone strike</td>\n      <td>Military Forces of Iraq (2014-2018)</td>\n      <td>unknown</td>\n      <td>1</td>\n      <td>Islamic State (Iraq)</td>\n      <td>unknown</td>\n      <td>2</td>\n      <td>12</td>\n      <td>Middle East</td>\n      <td>Iraq</td>\n      <td>Ninewa</td>\n      <td>Mosul</td>\n      <td>unknown</td>\n      <td>Mosul</td>\n      <td>36.3350</td>\n      <td>43.1189</td>\n      <td>1</td>\n      <td>20</td>\n      <td>1572403769</td>\n      <td>MA</td>\n      <td>46</td>\n      <td>56</td>\n      <td>1</td>\n      <td>0.0</td>\n    </tr>\n    <tr>\n      <th>3</th>\n      <td>2017-01-01</td>\n      <td>2017</td>\n      <td>Explosions/Remote violence</td>\n      <td>Remote explosive/landmine/IED</td>\n      <td>Islamic State (Iraq)</td>\n      <td>unknown</td>\n      <td>2</td>\n      <td>Civilians (Iraq)</td>\n      <td>unknown</td>\n      <td>7</td>\n      <td>27</td>\n      <td>Middle East</td>\n      <td>Iraq</td>\n      <td>Najaf</td>\n      <td>Najaf</td>\n      <td>unknown</td>\n      <td>Najaf</td>\n      <td>32.0259</td>\n      <td>44.3462</td>\n      <td>2</td>\n      <td>6</td>\n      <td>1572403770</td>\n      <td>MA</td>\n      <td>46</td>\n      <td>56</td>\n      <td>1</td>\n      <td>0.0</td>\n    </tr>\n    <tr>\n      <th>4</th>\n      <td>2017-01-01</td>\n      <td>2017</td>\n      <td>Battles</td>\n      <td>Armed clash</td>\n      <td>Islamic State (Iraq)</td>\n      <td>unknown</td>\n      <td>2</td>\n      <td>Police Forces of Iraq (2014-2018)</td>\n      <td>unknown</td>\n      <td>1</td>\n      <td>12</td>\n      <td>Middle East</td>\n      <td>Iraq</td>\n      <td>Najaf</td>\n      <td>Manathera</td>\n      <td>unknown</td>\n      <td>Al Mishkhab</td>\n      <td>31.8044</td>\n      <td>44.4893</td>\n      <td>1</td>\n      <td>0</td>\n      <td>1572403770</td>\n      <td>MA</td>\n      <td>46</td>\n      <td>56</td>\n      <td>1</td>\n      <td>0.0</td>\n    </tr>\n  </tbody>\n</table>\n</div>"
     },
     "metadata": {},
     "execution_count": 32
    }
   ],
   "source": [
    "conflict.head()"
   ]
  },
  {
   "cell_type": "code",
   "execution_count": 33,
   "metadata": {},
   "outputs": [
    {
     "output_type": "execute_result",
     "data": {
      "text/plain": "  Country Code  Year  Month    Date  Exchange rate USD  Unemployment rate  \\\n0   Egypt  EGY  2017      1  1/1/17            18.6331              11.74   \n1   Egypt  EGY  2017      2  2/1/17            17.2295              11.74   \n2   Egypt  EGY  2017      3  3/1/17            17.6674              11.74   \n3   Egypt  EGY  2017      4  4/1/17            18.0983              11.74   \n4   Egypt  EGY  2017      5  5/1/17            18.0884              11.74   \n\n   Rule of law index (-2.5 weak; 2.5 strong)  \\\n0                                      -0.54   \n1                                      -0.54   \n2                                      -0.54   \n3                                      -0.54   \n4                                      -0.54   \n\n   Government effectiveness index (-2.5 weak; 2.5 strong)  \\\n0                                              -0.62        \n1                                              -0.62        \n2                                              -0.62        \n3                                              -0.62        \n4                                              -0.62        \n\n   Control of corruption (-2.5 weak; 2.5 strong)  \\\n0                                          -0.55   \n1                                          -0.55   \n2                                          -0.55   \n3                                          -0.55   \n4                                          -0.55   \n\n   Regulatory quality index (-2.5 weak; 2.5 strong)  \\\n0                                             -0.86   \n1                                             -0.86   \n2                                             -0.86   \n3                                             -0.86   \n4                                             -0.86   \n\n   Voice and accountability index (-2.5 weak; 2.5 strong)  \\\n0                                              -1.25        \n1                                              -1.25        \n2                                              -1.25        \n3                                              -1.25        \n4                                              -1.25        \n\n   Political stability index (-2.5 weak; 2.5 strong)  \\\n0                                              -1.42   \n1                                              -1.42   \n2                                              -1.42   \n3                                              -1.42   \n4                                              -1.42   \n\n   Corruption Perceptions Index 100 = no corruption  \\\n0                                                32   \n1                                                32   \n2                                                32   \n3                                                32   \n4                                                32   \n\n   Political rights index 7 (weak) - 1 (strong)  \\\n0                                             6   \n1                                             6   \n2                                             6   \n3                                             6   \n4                                             6   \n\n   Civil liberties index 7 (weak) - 1 (strong)   \\\n0                                             5   \n1                                             5   \n2                                             5   \n3                                             5   \n4                                             5   \n\n   Short-term political risk (1=low 7=high)  \\\n0                                         4   \n1                                         4   \n2                                         4   \n3                                         4   \n4                                         4   \n\n   Medium/long-term political risk (1=low 7=high)  \\\n0                                               6   \n1                                               6   \n2                                               6   \n3                                               6   \n4                                               6   \n\n   Political violence risk (1=low 7=high)  \\\n0                                       5   \n1                                       5   \n2                                       5   \n3                                       5   \n4                                       5   \n\n   Mobile phone subscribers per 100 people  Property rights index (0-100)  \\\n0                                   106.76                             35   \n1                                   106.76                             35   \n2                                   106.76                             35   \n3                                   106.76                             35   \n4                                   106.76                             35   \n\n   Freedom from corruption index (0-100)  Business freedom index (0-100)  \\\n0                                     33                              67   \n1                                     33                              67   \n2                                     33                              67   \n3                                     33                              67   \n4                                     33                              67   \n\n   Labor freedom index (0-100)  Life expectancy in years  \\\n0                           51                     71.66   \n1                           51                     71.66   \n2                           51                     71.66   \n3                           51                     71.66   \n4                           51                     71.66   \n\n   Fragile state index 0 (low) - 120 (high)  \\\n0                                      89.8   \n1                                      89.8   \n2                                      89.8   \n3                                      89.8   \n4                                      89.8   \n\n   Security threats index 0 (low) - 10 (high)  \\\n0                                         8.1   \n1                                         8.1   \n2                                         8.1   \n3                                         8.1   \n4                                         8.1   \n\n   State legitimacy index 0 (high) - 10 (low)  \\\n0                                         8.2   \n1                                         8.2   \n2                                         8.2   \n3                                         8.2   \n4                                         8.2   \n\n   Public services index 0 (high) - 10 (low)  \\\n0                                        4.9   \n1                                        4.9   \n2                                        4.9   \n3                                        4.9   \n4                                        4.9   \n\n   Human rights and rule of law index 0 (high) - 10 (low)  \\\n0                                                9.8        \n1                                                9.8        \n2                                                9.8        \n3                                                9.8        \n4                                                9.8        \n\n   Refugees and displaced persons index 0 (low) - 10 (high)  \\\n0                                                7.3          \n1                                                7.3          \n2                                                7.3          \n3                                                7.3          \n4                                                7.3          \n\n   Labor force million people  Labor force participation rate  \\\n0                       30.66                           48.01   \n1                       30.66                           48.01   \n2                       30.66                           48.01   \n3                       30.66                           48.01   \n4                       30.66                           48.01   \n\n   Percent urban population  Population density people per square km  \n0                     42.71                                     97.0  \n1                     42.71                                     97.0  \n2                     42.71                                     97.0  \n3                     42.71                                     97.0  \n4                     42.71                                     97.0  ",
      "text/html": "<div>\n<style scoped>\n    .dataframe tbody tr th:only-of-type {\n        vertical-align: middle;\n    }\n\n    .dataframe tbody tr th {\n        vertical-align: top;\n    }\n\n    .dataframe thead th {\n        text-align: right;\n    }\n</style>\n<table border=\"1\" class=\"dataframe\">\n  <thead>\n    <tr style=\"text-align: right;\">\n      <th></th>\n      <th>Country</th>\n      <th>Code</th>\n      <th>Year</th>\n      <th>Month</th>\n      <th>Date</th>\n      <th>Exchange rate USD</th>\n      <th>Unemployment rate</th>\n      <th>Rule of law index (-2.5 weak; 2.5 strong)</th>\n      <th>Government effectiveness index (-2.5 weak; 2.5 strong)</th>\n      <th>Control of corruption (-2.5 weak; 2.5 strong)</th>\n      <th>Regulatory quality index (-2.5 weak; 2.5 strong)</th>\n      <th>Voice and accountability index (-2.5 weak; 2.5 strong)</th>\n      <th>Political stability index (-2.5 weak; 2.5 strong)</th>\n      <th>Corruption Perceptions Index 100 = no corruption</th>\n      <th>Political rights index 7 (weak) - 1 (strong)</th>\n      <th>Civil liberties index 7 (weak) - 1 (strong)</th>\n      <th>Short-term political risk (1=low 7=high)</th>\n      <th>Medium/long-term political risk (1=low 7=high)</th>\n      <th>Political violence risk (1=low 7=high)</th>\n      <th>Mobile phone subscribers per 100 people</th>\n      <th>Property rights index (0-100)</th>\n      <th>Freedom from corruption index (0-100)</th>\n      <th>Business freedom index (0-100)</th>\n      <th>Labor freedom index (0-100)</th>\n      <th>Life expectancy in years</th>\n      <th>Fragile state index 0 (low) - 120 (high)</th>\n      <th>Security threats index 0 (low) - 10 (high)</th>\n      <th>State legitimacy index 0 (high) - 10 (low)</th>\n      <th>Public services index 0 (high) - 10 (low)</th>\n      <th>Human rights and rule of law index 0 (high) - 10 (low)</th>\n      <th>Refugees and displaced persons index 0 (low) - 10 (high)</th>\n      <th>Labor force million people</th>\n      <th>Labor force participation rate</th>\n      <th>Percent urban population</th>\n      <th>Population density people per square km</th>\n    </tr>\n  </thead>\n  <tbody>\n    <tr>\n      <th>0</th>\n      <td>Egypt</td>\n      <td>EGY</td>\n      <td>2017</td>\n      <td>1</td>\n      <td>1/1/17</td>\n      <td>18.6331</td>\n      <td>11.74</td>\n      <td>-0.54</td>\n      <td>-0.62</td>\n      <td>-0.55</td>\n      <td>-0.86</td>\n      <td>-1.25</td>\n      <td>-1.42</td>\n      <td>32</td>\n      <td>6</td>\n      <td>5</td>\n      <td>4</td>\n      <td>6</td>\n      <td>5</td>\n      <td>106.76</td>\n      <td>35</td>\n      <td>33</td>\n      <td>67</td>\n      <td>51</td>\n      <td>71.66</td>\n      <td>89.8</td>\n      <td>8.1</td>\n      <td>8.2</td>\n      <td>4.9</td>\n      <td>9.8</td>\n      <td>7.3</td>\n      <td>30.66</td>\n      <td>48.01</td>\n      <td>42.71</td>\n      <td>97.0</td>\n    </tr>\n    <tr>\n      <th>1</th>\n      <td>Egypt</td>\n      <td>EGY</td>\n      <td>2017</td>\n      <td>2</td>\n      <td>2/1/17</td>\n      <td>17.2295</td>\n      <td>11.74</td>\n      <td>-0.54</td>\n      <td>-0.62</td>\n      <td>-0.55</td>\n      <td>-0.86</td>\n      <td>-1.25</td>\n      <td>-1.42</td>\n      <td>32</td>\n      <td>6</td>\n      <td>5</td>\n      <td>4</td>\n      <td>6</td>\n      <td>5</td>\n      <td>106.76</td>\n      <td>35</td>\n      <td>33</td>\n      <td>67</td>\n      <td>51</td>\n      <td>71.66</td>\n      <td>89.8</td>\n      <td>8.1</td>\n      <td>8.2</td>\n      <td>4.9</td>\n      <td>9.8</td>\n      <td>7.3</td>\n      <td>30.66</td>\n      <td>48.01</td>\n      <td>42.71</td>\n      <td>97.0</td>\n    </tr>\n    <tr>\n      <th>2</th>\n      <td>Egypt</td>\n      <td>EGY</td>\n      <td>2017</td>\n      <td>3</td>\n      <td>3/1/17</td>\n      <td>17.6674</td>\n      <td>11.74</td>\n      <td>-0.54</td>\n      <td>-0.62</td>\n      <td>-0.55</td>\n      <td>-0.86</td>\n      <td>-1.25</td>\n      <td>-1.42</td>\n      <td>32</td>\n      <td>6</td>\n      <td>5</td>\n      <td>4</td>\n      <td>6</td>\n      <td>5</td>\n      <td>106.76</td>\n      <td>35</td>\n      <td>33</td>\n      <td>67</td>\n      <td>51</td>\n      <td>71.66</td>\n      <td>89.8</td>\n      <td>8.1</td>\n      <td>8.2</td>\n      <td>4.9</td>\n      <td>9.8</td>\n      <td>7.3</td>\n      <td>30.66</td>\n      <td>48.01</td>\n      <td>42.71</td>\n      <td>97.0</td>\n    </tr>\n    <tr>\n      <th>3</th>\n      <td>Egypt</td>\n      <td>EGY</td>\n      <td>2017</td>\n      <td>4</td>\n      <td>4/1/17</td>\n      <td>18.0983</td>\n      <td>11.74</td>\n      <td>-0.54</td>\n      <td>-0.62</td>\n      <td>-0.55</td>\n      <td>-0.86</td>\n      <td>-1.25</td>\n      <td>-1.42</td>\n      <td>32</td>\n      <td>6</td>\n      <td>5</td>\n      <td>4</td>\n      <td>6</td>\n      <td>5</td>\n      <td>106.76</td>\n      <td>35</td>\n      <td>33</td>\n      <td>67</td>\n      <td>51</td>\n      <td>71.66</td>\n      <td>89.8</td>\n      <td>8.1</td>\n      <td>8.2</td>\n      <td>4.9</td>\n      <td>9.8</td>\n      <td>7.3</td>\n      <td>30.66</td>\n      <td>48.01</td>\n      <td>42.71</td>\n      <td>97.0</td>\n    </tr>\n    <tr>\n      <th>4</th>\n      <td>Egypt</td>\n      <td>EGY</td>\n      <td>2017</td>\n      <td>5</td>\n      <td>5/1/17</td>\n      <td>18.0884</td>\n      <td>11.74</td>\n      <td>-0.54</td>\n      <td>-0.62</td>\n      <td>-0.55</td>\n      <td>-0.86</td>\n      <td>-1.25</td>\n      <td>-1.42</td>\n      <td>32</td>\n      <td>6</td>\n      <td>5</td>\n      <td>4</td>\n      <td>6</td>\n      <td>5</td>\n      <td>106.76</td>\n      <td>35</td>\n      <td>33</td>\n      <td>67</td>\n      <td>51</td>\n      <td>71.66</td>\n      <td>89.8</td>\n      <td>8.1</td>\n      <td>8.2</td>\n      <td>4.9</td>\n      <td>9.8</td>\n      <td>7.3</td>\n      <td>30.66</td>\n      <td>48.01</td>\n      <td>42.71</td>\n      <td>97.0</td>\n    </tr>\n  </tbody>\n</table>\n</div>"
     },
     "metadata": {},
     "execution_count": 33
    }
   ],
   "source": [
    "# Reading in Economic Data\n",
    "econ_data = pd.read_csv('data/econ-data-imputed.csv')\n",
    "econ_data.head()"
   ]
  },
  {
   "cell_type": "code",
   "execution_count": 34,
   "metadata": {},
   "outputs": [],
   "source": [
    "econ_data['Date'] = pd.to_datetime(econ_data['Date'])"
   ]
  },
  {
   "cell_type": "code",
   "execution_count": 35,
   "metadata": {},
   "outputs": [],
   "source": [
    "conflict = pd.merge(conflict, econ_data,\n",
    "                            how='left',\n",
    "                            left_on=['country', 'year', 'month'],\n",
    "                            right_on=['Country', 'Year', 'Month'])"
   ]
  },
  {
   "cell_type": "code",
   "execution_count": 36,
   "metadata": {},
   "outputs": [
    {
     "output_type": "execute_result",
     "data": {
      "text/plain": "event_date                                                  0\nyear                                                        0\nevent_type                                                  0\nsub_event_type                                              0\nactor1                                                      0\nassoc_actor_1                                               0\ninter1                                                      0\nactor2                                                      0\nassoc_actor_2                                               0\ninter2                                                      0\ninteraction                                                 0\nregion                                                      0\ncountry                                                     0\nadmin1                                                      0\nadmin2                                                      0\nadmin3                                                      0\nlocation                                                    0\nlatitude                                                    0\nlongitude                                                   0\ngeo_precision                                               0\nfatalities                                                  0\ntimestamp                                                   0\nMA/CU                                                       0\nusers                                                       0\nfrac                                                        0\nmonth                                                       0\nmissing_data                                                0\nCountry                                                     0\nCode                                                        0\nYear                                                        0\nMonth                                                       0\nDate                                                        0\nExchange rate USD                                           0\nUnemployment rate                                           0\nRule of law index (-2.5 weak; 2.5 strong)                   0\nGovernment effectiveness index (-2.5 weak; 2.5 strong)      0\nControl of corruption (-2.5 weak; 2.5 strong)               0\nRegulatory quality index (-2.5 weak; 2.5 strong)            0\nVoice and accountability index (-2.5 weak; 2.5 strong)      0\nPolitical stability index (-2.5 weak; 2.5 strong)           0\nCorruption Perceptions Index 100 = no corruption            0\nPolitical rights index 7 (weak) - 1 (strong)                0\nCivil liberties index 7 (weak) - 1 (strong)                 0\nShort-term political risk (1=low 7=high)                    0\nMedium/long-term political risk (1=low 7=high)              0\nPolitical violence risk (1=low 7=high)                      0\nMobile phone subscribers per 100 people                     0\nProperty rights index (0-100)                               0\nFreedom from corruption index (0-100)                       0\nBusiness freedom index (0-100)                              0\nLabor freedom index (0-100)                                 0\nLife expectancy in years                                    0\nFragile state index 0 (low) - 120 (high)                    0\nSecurity threats index 0 (low) - 10 (high)                  0\nState legitimacy index 0 (high) - 10 (low)                  0\nPublic services index 0 (high) - 10 (low)                   0\nHuman rights and rule of law index 0 (high) - 10 (low)      0\nRefugees and displaced persons index 0 (low) - 10 (high)    0\nLabor force million people                                  0\nLabor force participation rate                              0\nPercent urban population                                    0\nPopulation density people per square km                     0\ndtype: int64"
     },
     "metadata": {},
     "execution_count": 36
    }
   ],
   "source": [
    "conflict.isnull().sum()"
   ]
  },
  {
   "cell_type": "code",
   "execution_count": 37,
   "metadata": {},
   "outputs": [],
   "source": [
    "conflict.drop(columns=['Country',\n",
    "                       'Code',\n",
    "                       'Year',\n",
    "                       'Month',\n",
    "                       'Date'\n",
    "                       ],\n",
    "                       inplace=True)"
   ]
  },
  {
   "cell_type": "code",
   "execution_count": 38,
   "metadata": {},
   "outputs": [],
   "source": [
    "# dummies = pd.get_dummies(conflict[['event_type', 'country', 'admin1']])"
   ]
  },
  {
   "cell_type": "code",
   "execution_count": 39,
   "metadata": {},
   "outputs": [],
   "source": [
    "# conflict = pd.concat([conflict, dummies], axis=1)"
   ]
  },
  {
   "cell_type": "code",
   "execution_count": 40,
   "metadata": {},
   "outputs": [
    {
     "output_type": "execute_result",
     "data": {
      "text/plain": "  event_date  year                  event_type                 sub_event_type  \\\n0 2017-01-01  2017  Explosions/Remote violence  Remote explosive/landmine/IED   \n1 2017-01-01  2017                     Battles                    Armed clash   \n2 2017-01-01  2017  Explosions/Remote violence               Air/drone strike   \n3 2017-01-01  2017  Explosions/Remote violence  Remote explosive/landmine/IED   \n4 2017-01-01  2017                     Battles                    Armed clash   \n\n                                              actor1 assoc_actor_1  inter1  \\\n0                   Unidentified Armed Group (Egypt)       unknown       3   \n1  Military Forces of Iraq (2014-2018) Popular Mo...       unknown       1   \n2                Military Forces of Iraq (2014-2018)       unknown       1   \n3                               Islamic State (Iraq)       unknown       2   \n4                               Islamic State (Iraq)       unknown       2   \n\n                              actor2 assoc_actor_2  inter2  interaction  \\\n0                            unknown       unknown       0           30   \n1               Islamic State (Iraq)       unknown       2           12   \n2               Islamic State (Iraq)       unknown       2           12   \n3                   Civilians (Iraq)       unknown       7           27   \n4  Police Forces of Iraq (2014-2018)       unknown       1           12   \n\n            region country  admin1     admin2   admin3         location  \\\n0  Northern Africa   Egypt   Cairo   Al Maadi  unknown   Cairo-Al Maadi   \n1      Middle East    Iraq   Anbar       Anah  unknown  Aradi as Sakrah   \n2      Middle East    Iraq  Ninewa      Mosul  unknown            Mosul   \n3      Middle East    Iraq   Najaf      Najaf  unknown            Najaf   \n4      Middle East    Iraq   Najaf  Manathera  unknown      Al Mishkhab   \n\n   latitude  longitude  geo_precision  fatalities   timestamp MA/CU  users  \\\n0   29.9667    31.2500              1           0  1578503454    MA    564   \n1   34.1915    42.0313              3           6  1567462133    MA     46   \n2   36.3350    43.1189              1          20  1572403769    MA     46   \n3   32.0259    44.3462              2           6  1572403770    MA     46   \n4   31.8044    44.4893              1           0  1572403770    MA     46   \n\n   frac  month  missing_data  Exchange rate USD  Unemployment rate  \\\n0    56      1           0.0            18.6331              11.74   \n1    56      1           0.0          1181.5465              13.02   \n2    56      1           0.0          1181.5465              13.02   \n3    56      1           0.0          1181.5465              13.02   \n4    56      1           0.0          1181.5465              13.02   \n\n   Rule of law index (-2.5 weak; 2.5 strong)  \\\n0                                      -0.54   \n1                                      -1.64   \n2                                      -1.64   \n3                                      -1.64   \n4                                      -1.64   \n\n   Government effectiveness index (-2.5 weak; 2.5 strong)  \\\n0                                              -0.62        \n1                                              -1.26        \n2                                              -1.26        \n3                                              -1.26        \n4                                              -1.26        \n\n   Control of corruption (-2.5 weak; 2.5 strong)  \\\n0                                          -0.55   \n1                                          -1.37   \n2                                          -1.37   \n3                                          -1.37   \n4                                          -1.37   \n\n   Regulatory quality index (-2.5 weak; 2.5 strong)  \\\n0                                             -0.86   \n1                                             -1.20   \n2                                             -1.20   \n3                                             -1.20   \n4                                             -1.20   \n\n   Voice and accountability index (-2.5 weak; 2.5 strong)  \\\n0                                              -1.25        \n1                                              -1.05        \n2                                              -1.05        \n3                                              -1.05        \n4                                              -1.05        \n\n   Political stability index (-2.5 weak; 2.5 strong)  \\\n0                                              -1.42   \n1                                              -2.31   \n2                                              -2.31   \n3                                              -2.31   \n4                                              -2.31   \n\n   Corruption Perceptions Index 100 = no corruption  \\\n0                                                32   \n1                                                18   \n2                                                18   \n3                                                18   \n4                                                18   \n\n   Political rights index 7 (weak) - 1 (strong)  \\\n0                                             6   \n1                                             5   \n2                                             5   \n3                                             5   \n4                                             5   \n\n   Civil liberties index 7 (weak) - 1 (strong)   \\\n0                                             5   \n1                                             6   \n2                                             6   \n3                                             6   \n4                                             6   \n\n   Short-term political risk (1=low 7=high)  \\\n0                                         4   \n1                                         6   \n2                                         6   \n3                                         6   \n4                                         6   \n\n   Medium/long-term political risk (1=low 7=high)  \\\n0                                               6   \n1                                               7   \n2                                               7   \n3                                               7   \n4                                               7   \n\n   Political violence risk (1=low 7=high)  \\\n0                                       5   \n1                                       7   \n2                                       7   \n3                                       7   \n4                                       7   \n\n   Mobile phone subscribers per 100 people  Property rights index (0-100)  \\\n0                                   106.76                             35   \n1                                    88.98                             37   \n2                                    88.98                             37   \n3                                    88.98                             37   \n4                                    88.98                             37   \n\n   Freedom from corruption index (0-100)  Business freedom index (0-100)  \\\n0                                     33                              67   \n1                                     19                              61   \n2                                     19                              61   \n3                                     19                              61   \n4                                     19                              61   \n\n   Labor freedom index (0-100)  Life expectancy in years  \\\n0                           51                     71.66   \n1                           68                     70.29   \n2                           68                     70.29   \n3                           68                     70.29   \n4                           68                     70.29   \n\n   Fragile state index 0 (low) - 120 (high)  \\\n0                                      89.8   \n1                                     105.4   \n2                                     105.4   \n3                                     105.4   \n4                                     105.4   \n\n   Security threats index 0 (low) - 10 (high)  \\\n0                                         8.1   \n1                                        10.0   \n2                                        10.0   \n3                                        10.0   \n4                                        10.0   \n\n   State legitimacy index 0 (high) - 10 (low)  \\\n0                                         8.2   \n1                                         9.5   \n2                                         9.5   \n3                                         9.5   \n4                                         9.5   \n\n   Public services index 0 (high) - 10 (low)  \\\n0                                        4.9   \n1                                        8.2   \n2                                        8.2   \n3                                        8.2   \n4                                        8.2   \n\n   Human rights and rule of law index 0 (high) - 10 (low)  \\\n0                                                9.8        \n1                                                8.7        \n2                                                8.7        \n3                                                8.7        \n4                                                8.7        \n\n   Refugees and displaced persons index 0 (low) - 10 (high)  \\\n0                                                7.3          \n1                                                9.9          \n2                                                9.9          \n3                                                9.9          \n4                                                9.9          \n\n   Labor force million people  Labor force participation rate  \\\n0                       30.66                           48.01   \n1                        9.77                           42.49   \n2                        9.77                           42.49   \n3                        9.77                           42.49   \n4                        9.77                           42.49   \n\n   Percent urban population  Population density people per square km  \n0                     42.71                                     97.0  \n1                     70.28                                     87.0  \n2                     70.28                                     87.0  \n3                     70.28                                     87.0  \n4                     70.28                                     87.0  ",
      "text/html": "<div>\n<style scoped>\n    .dataframe tbody tr th:only-of-type {\n        vertical-align: middle;\n    }\n\n    .dataframe tbody tr th {\n        vertical-align: top;\n    }\n\n    .dataframe thead th {\n        text-align: right;\n    }\n</style>\n<table border=\"1\" class=\"dataframe\">\n  <thead>\n    <tr style=\"text-align: right;\">\n      <th></th>\n      <th>event_date</th>\n      <th>year</th>\n      <th>event_type</th>\n      <th>sub_event_type</th>\n      <th>actor1</th>\n      <th>assoc_actor_1</th>\n      <th>inter1</th>\n      <th>actor2</th>\n      <th>assoc_actor_2</th>\n      <th>inter2</th>\n      <th>interaction</th>\n      <th>region</th>\n      <th>country</th>\n      <th>admin1</th>\n      <th>admin2</th>\n      <th>admin3</th>\n      <th>location</th>\n      <th>latitude</th>\n      <th>longitude</th>\n      <th>geo_precision</th>\n      <th>fatalities</th>\n      <th>timestamp</th>\n      <th>MA/CU</th>\n      <th>users</th>\n      <th>frac</th>\n      <th>month</th>\n      <th>missing_data</th>\n      <th>Exchange rate USD</th>\n      <th>Unemployment rate</th>\n      <th>Rule of law index (-2.5 weak; 2.5 strong)</th>\n      <th>Government effectiveness index (-2.5 weak; 2.5 strong)</th>\n      <th>Control of corruption (-2.5 weak; 2.5 strong)</th>\n      <th>Regulatory quality index (-2.5 weak; 2.5 strong)</th>\n      <th>Voice and accountability index (-2.5 weak; 2.5 strong)</th>\n      <th>Political stability index (-2.5 weak; 2.5 strong)</th>\n      <th>Corruption Perceptions Index 100 = no corruption</th>\n      <th>Political rights index 7 (weak) - 1 (strong)</th>\n      <th>Civil liberties index 7 (weak) - 1 (strong)</th>\n      <th>Short-term political risk (1=low 7=high)</th>\n      <th>Medium/long-term political risk (1=low 7=high)</th>\n      <th>Political violence risk (1=low 7=high)</th>\n      <th>Mobile phone subscribers per 100 people</th>\n      <th>Property rights index (0-100)</th>\n      <th>Freedom from corruption index (0-100)</th>\n      <th>Business freedom index (0-100)</th>\n      <th>Labor freedom index (0-100)</th>\n      <th>Life expectancy in years</th>\n      <th>Fragile state index 0 (low) - 120 (high)</th>\n      <th>Security threats index 0 (low) - 10 (high)</th>\n      <th>State legitimacy index 0 (high) - 10 (low)</th>\n      <th>Public services index 0 (high) - 10 (low)</th>\n      <th>Human rights and rule of law index 0 (high) - 10 (low)</th>\n      <th>Refugees and displaced persons index 0 (low) - 10 (high)</th>\n      <th>Labor force million people</th>\n      <th>Labor force participation rate</th>\n      <th>Percent urban population</th>\n      <th>Population density people per square km</th>\n    </tr>\n  </thead>\n  <tbody>\n    <tr>\n      <th>0</th>\n      <td>2017-01-01</td>\n      <td>2017</td>\n      <td>Explosions/Remote violence</td>\n      <td>Remote explosive/landmine/IED</td>\n      <td>Unidentified Armed Group (Egypt)</td>\n      <td>unknown</td>\n      <td>3</td>\n      <td>unknown</td>\n      <td>unknown</td>\n      <td>0</td>\n      <td>30</td>\n      <td>Northern Africa</td>\n      <td>Egypt</td>\n      <td>Cairo</td>\n      <td>Al Maadi</td>\n      <td>unknown</td>\n      <td>Cairo-Al Maadi</td>\n      <td>29.9667</td>\n      <td>31.2500</td>\n      <td>1</td>\n      <td>0</td>\n      <td>1578503454</td>\n      <td>MA</td>\n      <td>564</td>\n      <td>56</td>\n      <td>1</td>\n      <td>0.0</td>\n      <td>18.6331</td>\n      <td>11.74</td>\n      <td>-0.54</td>\n      <td>-0.62</td>\n      <td>-0.55</td>\n      <td>-0.86</td>\n      <td>-1.25</td>\n      <td>-1.42</td>\n      <td>32</td>\n      <td>6</td>\n      <td>5</td>\n      <td>4</td>\n      <td>6</td>\n      <td>5</td>\n      <td>106.76</td>\n      <td>35</td>\n      <td>33</td>\n      <td>67</td>\n      <td>51</td>\n      <td>71.66</td>\n      <td>89.8</td>\n      <td>8.1</td>\n      <td>8.2</td>\n      <td>4.9</td>\n      <td>9.8</td>\n      <td>7.3</td>\n      <td>30.66</td>\n      <td>48.01</td>\n      <td>42.71</td>\n      <td>97.0</td>\n    </tr>\n    <tr>\n      <th>1</th>\n      <td>2017-01-01</td>\n      <td>2017</td>\n      <td>Battles</td>\n      <td>Armed clash</td>\n      <td>Military Forces of Iraq (2014-2018) Popular Mo...</td>\n      <td>unknown</td>\n      <td>1</td>\n      <td>Islamic State (Iraq)</td>\n      <td>unknown</td>\n      <td>2</td>\n      <td>12</td>\n      <td>Middle East</td>\n      <td>Iraq</td>\n      <td>Anbar</td>\n      <td>Anah</td>\n      <td>unknown</td>\n      <td>Aradi as Sakrah</td>\n      <td>34.1915</td>\n      <td>42.0313</td>\n      <td>3</td>\n      <td>6</td>\n      <td>1567462133</td>\n      <td>MA</td>\n      <td>46</td>\n      <td>56</td>\n      <td>1</td>\n      <td>0.0</td>\n      <td>1181.5465</td>\n      <td>13.02</td>\n      <td>-1.64</td>\n      <td>-1.26</td>\n      <td>-1.37</td>\n      <td>-1.20</td>\n      <td>-1.05</td>\n      <td>-2.31</td>\n      <td>18</td>\n      <td>5</td>\n      <td>6</td>\n      <td>6</td>\n      <td>7</td>\n      <td>7</td>\n      <td>88.98</td>\n      <td>37</td>\n      <td>19</td>\n      <td>61</td>\n      <td>68</td>\n      <td>70.29</td>\n      <td>105.4</td>\n      <td>10.0</td>\n      <td>9.5</td>\n      <td>8.2</td>\n      <td>8.7</td>\n      <td>9.9</td>\n      <td>9.77</td>\n      <td>42.49</td>\n      <td>70.28</td>\n      <td>87.0</td>\n    </tr>\n    <tr>\n      <th>2</th>\n      <td>2017-01-01</td>\n      <td>2017</td>\n      <td>Explosions/Remote violence</td>\n      <td>Air/drone strike</td>\n      <td>Military Forces of Iraq (2014-2018)</td>\n      <td>unknown</td>\n      <td>1</td>\n      <td>Islamic State (Iraq)</td>\n      <td>unknown</td>\n      <td>2</td>\n      <td>12</td>\n      <td>Middle East</td>\n      <td>Iraq</td>\n      <td>Ninewa</td>\n      <td>Mosul</td>\n      <td>unknown</td>\n      <td>Mosul</td>\n      <td>36.3350</td>\n      <td>43.1189</td>\n      <td>1</td>\n      <td>20</td>\n      <td>1572403769</td>\n      <td>MA</td>\n      <td>46</td>\n      <td>56</td>\n      <td>1</td>\n      <td>0.0</td>\n      <td>1181.5465</td>\n      <td>13.02</td>\n      <td>-1.64</td>\n      <td>-1.26</td>\n      <td>-1.37</td>\n      <td>-1.20</td>\n      <td>-1.05</td>\n      <td>-2.31</td>\n      <td>18</td>\n      <td>5</td>\n      <td>6</td>\n      <td>6</td>\n      <td>7</td>\n      <td>7</td>\n      <td>88.98</td>\n      <td>37</td>\n      <td>19</td>\n      <td>61</td>\n      <td>68</td>\n      <td>70.29</td>\n      <td>105.4</td>\n      <td>10.0</td>\n      <td>9.5</td>\n      <td>8.2</td>\n      <td>8.7</td>\n      <td>9.9</td>\n      <td>9.77</td>\n      <td>42.49</td>\n      <td>70.28</td>\n      <td>87.0</td>\n    </tr>\n    <tr>\n      <th>3</th>\n      <td>2017-01-01</td>\n      <td>2017</td>\n      <td>Explosions/Remote violence</td>\n      <td>Remote explosive/landmine/IED</td>\n      <td>Islamic State (Iraq)</td>\n      <td>unknown</td>\n      <td>2</td>\n      <td>Civilians (Iraq)</td>\n      <td>unknown</td>\n      <td>7</td>\n      <td>27</td>\n      <td>Middle East</td>\n      <td>Iraq</td>\n      <td>Najaf</td>\n      <td>Najaf</td>\n      <td>unknown</td>\n      <td>Najaf</td>\n      <td>32.0259</td>\n      <td>44.3462</td>\n      <td>2</td>\n      <td>6</td>\n      <td>1572403770</td>\n      <td>MA</td>\n      <td>46</td>\n      <td>56</td>\n      <td>1</td>\n      <td>0.0</td>\n      <td>1181.5465</td>\n      <td>13.02</td>\n      <td>-1.64</td>\n      <td>-1.26</td>\n      <td>-1.37</td>\n      <td>-1.20</td>\n      <td>-1.05</td>\n      <td>-2.31</td>\n      <td>18</td>\n      <td>5</td>\n      <td>6</td>\n      <td>6</td>\n      <td>7</td>\n      <td>7</td>\n      <td>88.98</td>\n      <td>37</td>\n      <td>19</td>\n      <td>61</td>\n      <td>68</td>\n      <td>70.29</td>\n      <td>105.4</td>\n      <td>10.0</td>\n      <td>9.5</td>\n      <td>8.2</td>\n      <td>8.7</td>\n      <td>9.9</td>\n      <td>9.77</td>\n      <td>42.49</td>\n      <td>70.28</td>\n      <td>87.0</td>\n    </tr>\n    <tr>\n      <th>4</th>\n      <td>2017-01-01</td>\n      <td>2017</td>\n      <td>Battles</td>\n      <td>Armed clash</td>\n      <td>Islamic State (Iraq)</td>\n      <td>unknown</td>\n      <td>2</td>\n      <td>Police Forces of Iraq (2014-2018)</td>\n      <td>unknown</td>\n      <td>1</td>\n      <td>12</td>\n      <td>Middle East</td>\n      <td>Iraq</td>\n      <td>Najaf</td>\n      <td>Manathera</td>\n      <td>unknown</td>\n      <td>Al Mishkhab</td>\n      <td>31.8044</td>\n      <td>44.4893</td>\n      <td>1</td>\n      <td>0</td>\n      <td>1572403770</td>\n      <td>MA</td>\n      <td>46</td>\n      <td>56</td>\n      <td>1</td>\n      <td>0.0</td>\n      <td>1181.5465</td>\n      <td>13.02</td>\n      <td>-1.64</td>\n      <td>-1.26</td>\n      <td>-1.37</td>\n      <td>-1.20</td>\n      <td>-1.05</td>\n      <td>-2.31</td>\n      <td>18</td>\n      <td>5</td>\n      <td>6</td>\n      <td>6</td>\n      <td>7</td>\n      <td>7</td>\n      <td>88.98</td>\n      <td>37</td>\n      <td>19</td>\n      <td>61</td>\n      <td>68</td>\n      <td>70.29</td>\n      <td>105.4</td>\n      <td>10.0</td>\n      <td>9.5</td>\n      <td>8.2</td>\n      <td>8.7</td>\n      <td>9.9</td>\n      <td>9.77</td>\n      <td>42.49</td>\n      <td>70.28</td>\n      <td>87.0</td>\n    </tr>\n  </tbody>\n</table>\n</div>"
     },
     "metadata": {},
     "execution_count": 40
    }
   ],
   "source": [
    "conflict.head()"
   ]
  },
  {
   "cell_type": "code",
   "execution_count": 41,
   "metadata": {},
   "outputs": [],
   "source": [
    "conflict.to_csv('data/conflict-econ-tor.csv', index=False)"
   ]
  },
  {
   "cell_type": "code",
   "execution_count": null,
   "metadata": {},
   "outputs": [],
   "source": []
  },
  {
   "cell_type": "code",
   "execution_count": null,
   "metadata": {},
   "outputs": [],
   "source": []
  },
  {
   "cell_type": "code",
   "execution_count": null,
   "metadata": {},
   "outputs": [],
   "source": []
  },
  {
   "cell_type": "code",
   "execution_count": null,
   "metadata": {},
   "outputs": [],
   "source": []
  }
 ],
 "metadata": {
  "language_info": {
   "codemirror_mode": {
    "name": "ipython",
    "version": 3
   },
   "file_extension": ".py",
   "mimetype": "text/x-python",
   "name": "python",
   "nbconvert_exporter": "python",
   "pygments_lexer": "ipython3",
   "version": "3.7.7-final"
  },
  "orig_nbformat": 2,
  "kernelspec": {
   "name": "python37764bitdsicondaddfe0c05640c4e1581da44e0f6b96ae5",
   "display_name": "Python 3.7.7 64-bit ('dsi': conda)"
  }
 },
 "nbformat": 4,
 "nbformat_minor": 2
}