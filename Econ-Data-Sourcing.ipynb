{
 "cells": [
  {
   "cell_type": "code",
   "execution_count": 1,
   "metadata": {},
   "outputs": [],
   "source": [
    "import quandl\n",
    "import pandas as pd\n",
    "import requests\n",
    "quandl.ApiConfig.api_key = 'vniduHCZR4kzi7nqs1wS'"
   ]
  },
  {
   "cell_type": "code",
   "execution_count": 2,
   "metadata": {},
   "outputs": [
    {
     "output_type": "execute_result",
     "data": {
      "text/plain": "           code country_iso indicator_code                              name  \\\n0    SGE/ABWBOT         ABW            BOT          Aruba - Balance Of Trade   \n1    SGE/ABWCPI         ABW            CPI  Aruba - Consumer Price Index Cpi   \n2   SGE/ABWCPIC         ABW           CPIC            Aruba - Inflation Rate   \n3    SGE/ABWCTR         ABW            CTR        Aruba - Corporate Tax Rate   \n4  SGE/ABWEXVOL         ABW          EXVOL                   Aruba - Exports   \n\n                                         description             units  \\\n0  The quarterly net financial position of Aruba ...       AFI Million   \n1  The Consumer Price Index (CPI) is a measure of...   points 2019=100   \n2            The growth rate of the prices in Aruba.  percent 2006=100   \n3  The top marginal tax rate on corporate profits...           percent   \n4  The total value of the goods and services prod...       AFI Million   \n\n                                              source  url  \n0                 Aruba Central Bureau of Statistics    \u0001  \n1                 Aruba Central Bureau of Statistics  NaN  \n2                 Aruba Central Bureau of Statistics    \u0001  \n3  Ministerio di Finansas, Comunicacion, Utilidad...    \u0001  \n4                 Aruba Central Bureau of Statistics    \u0001  ",
      "text/html": "<div>\n<style scoped>\n    .dataframe tbody tr th:only-of-type {\n        vertical-align: middle;\n    }\n\n    .dataframe tbody tr th {\n        vertical-align: top;\n    }\n\n    .dataframe thead th {\n        text-align: right;\n    }\n</style>\n<table border=\"1\" class=\"dataframe\">\n  <thead>\n    <tr style=\"text-align: right;\">\n      <th></th>\n      <th>code</th>\n      <th>country_iso</th>\n      <th>indicator_code</th>\n      <th>name</th>\n      <th>description</th>\n      <th>units</th>\n      <th>source</th>\n      <th>url</th>\n    </tr>\n  </thead>\n  <tbody>\n    <tr>\n      <th>0</th>\n      <td>SGE/ABWBOT</td>\n      <td>ABW</td>\n      <td>BOT</td>\n      <td>Aruba - Balance Of Trade</td>\n      <td>The quarterly net financial position of Aruba ...</td>\n      <td>AFI Million</td>\n      <td>Aruba Central Bureau of Statistics</td>\n      <td>\u0001</td>\n    </tr>\n    <tr>\n      <th>1</th>\n      <td>SGE/ABWCPI</td>\n      <td>ABW</td>\n      <td>CPI</td>\n      <td>Aruba - Consumer Price Index Cpi</td>\n      <td>The Consumer Price Index (CPI) is a measure of...</td>\n      <td>points 2019=100</td>\n      <td>Aruba Central Bureau of Statistics</td>\n      <td>NaN</td>\n    </tr>\n    <tr>\n      <th>2</th>\n      <td>SGE/ABWCPIC</td>\n      <td>ABW</td>\n      <td>CPIC</td>\n      <td>Aruba - Inflation Rate</td>\n      <td>The growth rate of the prices in Aruba.</td>\n      <td>percent 2006=100</td>\n      <td>Aruba Central Bureau of Statistics</td>\n      <td>\u0001</td>\n    </tr>\n    <tr>\n      <th>3</th>\n      <td>SGE/ABWCTR</td>\n      <td>ABW</td>\n      <td>CTR</td>\n      <td>Aruba - Corporate Tax Rate</td>\n      <td>The top marginal tax rate on corporate profits...</td>\n      <td>percent</td>\n      <td>Ministerio di Finansas, Comunicacion, Utilidad...</td>\n      <td>\u0001</td>\n    </tr>\n    <tr>\n      <th>4</th>\n      <td>SGE/ABWEXVOL</td>\n      <td>ABW</td>\n      <td>EXVOL</td>\n      <td>Aruba - Exports</td>\n      <td>The total value of the goods and services prod...</td>\n      <td>AFI Million</td>\n      <td>Aruba Central Bureau of Statistics</td>\n      <td>\u0001</td>\n    </tr>\n  </tbody>\n</table>\n</div>"
     },
     "metadata": {},
     "execution_count": 2
    }
   ],
   "source": [
    "sge_codes = pd.read_csv('data/SGE_codes.csv')\n",
    "sge_codes.head()"
   ]
  },
  {
   "cell_type": "markdown",
   "metadata": {},
   "source": [
    "Country Codes:\n",
    "\n",
    "- Egypt: EGY\n",
    "- Saudi Arabia: SAU\n",
    "- Lebanon: LBN\n",
    "- Jordan:JOR\n",
    "- Iraq: IRQ\n",
    "- Syria: SYR"
   ]
  },
  {
   "cell_type": "markdown",
   "metadata": {},
   "source": [
    "Indicators:\n",
    "- CPI: Consumer Price Index\n",
    "- CPIC: Inflation Rate\n",
    "- FDI: Foreign Direct Investment\n",
    "- GDCP: Gross Domestic Product Per Capita (PPP)\n",
    "- IR: Interest Rate\n",
    "- UNP: Unemployment Rate\n",
    "- EDBT: External Debt"
   ]
  },
  {
   "cell_type": "code",
   "execution_count": 3,
   "metadata": {},
   "outputs": [],
   "source": [
    "countries = ['EGY', 'SAU', 'LBN', 'JOR', 'IRQ', 'SYR']\n",
    "indicators = [\n",
    "'CPI'\n",
    "'CPIC'\n",
    "'EDBT'\n",
    "'FDI'\n",
    "'GPCP'\n",
    "'IR'\n",
    "'UNP'\n",
    "]"
   ]
  },
  {
   "cell_type": "code",
   "execution_count": 4,
   "metadata": {},
   "outputs": [],
   "source": [
    "country_codes = [\n",
    "'EGYCPI',\n",
    "'EGYCPIC',\n",
    "'EGYEDBT',\n",
    "'EGYFDI',\n",
    "'EGYGPCP',\n",
    "'EGYIR',\n",
    "'EGYUNP',\n",
    "'IRQCPI',\n",
    "'IRQCPIC',\n",
    "'IRQGPCP',\n",
    "'IRQIR',\n",
    "'JORCPI',\n",
    "'JORCPIC',\n",
    "'JOREDBT',\n",
    "'JORFDI',\n",
    "'JORGPCP',\n",
    "'JORIR',\n",
    "'LBNCPI',\n",
    "'LBNCPIC',\n",
    "'LBNEDBT',\n",
    "'LBNFDI',\n",
    "'LBNGPCP',\n",
    "'LBNIR',\n",
    "'SAUCPI',\n",
    "'SAUCPIC',\n",
    "'SAUFDI',\n",
    "'SAUGPCP',\n",
    "'SAUIR',\n",
    "'SYRCPI',\n",
    "'SYRCPIC',\n",
    "'SYRGPCP'\n",
    "]"
   ]
  },
  {
   "cell_type": "code",
   "execution_count": 5,
   "metadata": {},
   "outputs": [],
   "source": [
    "start_date = '2017-01-01'\n",
    "end_date = '2020-01-01'"
   ]
  },
  {
   "cell_type": "code",
   "execution_count": 27,
   "metadata": {},
   "outputs": [],
   "source": [
    "sge = 'https://www.quandl.com/api/v3/databases/SGE/data?download_type=full&api_key=vniduHCZR4kzi7nqs1wS'"
   ]
  },
  {
   "cell_type": "code",
   "execution_count": 28,
   "metadata": {},
   "outputs": [
    {
     "output_type": "execute_result",
     "data": {
      "text/plain": "200"
     },
     "metadata": {},
     "execution_count": 28
    }
   ],
   "source": [
    "sge_data = requests.get(sge)\n",
    "sge_data.status_code"
   ]
  },
  {
   "cell_type": "code",
   "execution_count": 26,
   "metadata": {},
   "outputs": [
    {
     "output_type": "execute_result",
     "data": {
      "text/plain": "                                                   dataset_data\ncollapse                                                   None\ncolumn_index                                               None\ncolumn_names                                      [Date, Value]\ndata          [[2020-04-30, 107.6], [2020-03-31, 106.3], [20...\nend_date                                             2020-04-30\nfrequency                                               monthly\nlimit                                                      None\norder                                                      None\nstart_date                                           1957-01-31\ntransform                                                  None",
      "text/html": "<div>\n<style scoped>\n    .dataframe tbody tr th:only-of-type {\n        vertical-align: middle;\n    }\n\n    .dataframe tbody tr th {\n        vertical-align: top;\n    }\n\n    .dataframe thead th {\n        text-align: right;\n    }\n</style>\n<table border=\"1\" class=\"dataframe\">\n  <thead>\n    <tr style=\"text-align: right;\">\n      <th></th>\n      <th>dataset_data</th>\n    </tr>\n  </thead>\n  <tbody>\n    <tr>\n      <th>collapse</th>\n      <td>None</td>\n    </tr>\n    <tr>\n      <th>column_index</th>\n      <td>None</td>\n    </tr>\n    <tr>\n      <th>column_names</th>\n      <td>[Date, Value]</td>\n    </tr>\n    <tr>\n      <th>data</th>\n      <td>[[2020-04-30, 107.6], [2020-03-31, 106.3], [20...</td>\n    </tr>\n    <tr>\n      <th>end_date</th>\n      <td>2020-04-30</td>\n    </tr>\n    <tr>\n      <th>frequency</th>\n      <td>monthly</td>\n    </tr>\n    <tr>\n      <th>limit</th>\n      <td>None</td>\n    </tr>\n    <tr>\n      <th>order</th>\n      <td>None</td>\n    </tr>\n    <tr>\n      <th>start_date</th>\n      <td>1957-01-31</td>\n    </tr>\n    <tr>\n      <th>transform</th>\n      <td>None</td>\n    </tr>\n  </tbody>\n</table>\n</div>"
     },
     "metadata": {},
     "execution_count": 26
    }
   ],
   "source": [
    "url = 'https://www.quandl.com/api/v3/datasets/SGE/EGYCPI/data.json?api_key=vniduHCZR4kzi7nqs1wS'\n",
    "\n",
    "#for i in country_codes:\n",
    "res_data = requests.get(url)\n",
    "#print(f\"Requesting {i} data\")\n",
    "daata = res_data.json()\n",
    "econ_data = pd.DataFrame(daata)\n",
    "econ_data"
   ]
  },
  {
   "cell_type": "code",
   "execution_count": 25,
   "metadata": {},
   "outputs": [
    {
     "output_type": "execute_result",
     "data": {
      "text/plain": "                                                   dataset_data\ncollapse                                                   None\ncolumn_index                                               None\ncolumn_names                                      [Date, Value]\ndata          [[2020-04-30, 107.6], [2020-03-31, 106.3], [20...\nend_date                                             2020-04-30\nfrequency                                               monthly\nlimit                                                      None\norder                                                      None\nstart_date                                           1957-01-31\ntransform                                                  None",
      "text/html": "<div>\n<style scoped>\n    .dataframe tbody tr th:only-of-type {\n        vertical-align: middle;\n    }\n\n    .dataframe tbody tr th {\n        vertical-align: top;\n    }\n\n    .dataframe thead th {\n        text-align: right;\n    }\n</style>\n<table border=\"1\" class=\"dataframe\">\n  <thead>\n    <tr style=\"text-align: right;\">\n      <th></th>\n      <th>dataset_data</th>\n    </tr>\n  </thead>\n  <tbody>\n    <tr>\n      <th>collapse</th>\n      <td>None</td>\n    </tr>\n    <tr>\n      <th>column_index</th>\n      <td>None</td>\n    </tr>\n    <tr>\n      <th>column_names</th>\n      <td>[Date, Value]</td>\n    </tr>\n    <tr>\n      <th>data</th>\n      <td>[[2020-04-30, 107.6], [2020-03-31, 106.3], [20...</td>\n    </tr>\n    <tr>\n      <th>end_date</th>\n      <td>2020-04-30</td>\n    </tr>\n    <tr>\n      <th>frequency</th>\n      <td>monthly</td>\n    </tr>\n    <tr>\n      <th>limit</th>\n      <td>None</td>\n    </tr>\n    <tr>\n      <th>order</th>\n      <td>None</td>\n    </tr>\n    <tr>\n      <th>start_date</th>\n      <td>1957-01-31</td>\n    </tr>\n    <tr>\n      <th>transform</th>\n      <td>None</td>\n    </tr>\n  </tbody>\n</table>\n</div>"
     },
     "metadata": {},
     "execution_count": 25
    }
   ],
   "source": [
    "econ_data"
   ]
  },
  {
   "cell_type": "code",
   "execution_count": 21,
   "metadata": {},
   "outputs": [],
   "source": [
    "#for i in country_codes:\n",
    "res_data = requests.get('https://www.quandl.com/api/v3/datasets/SGE/EGYCPI?start_date=2017-01-01&end_date=2020-01-01&api_key=vniduHCZR4kzi7nqs1wS')\n",
    "#print(f\"Requesting {i} data\")\n",
    "econ_data = pd.DataFrame(res_data.json())\n"
   ]
  },
  {
   "cell_type": "code",
   "execution_count": 23,
   "metadata": {},
   "outputs": [
    {
     "output_type": "execute_result",
     "data": {
      "text/plain": "                                                                 dataset\ncollapse                                                            None\ncolumn_index                                                        None\ncolumn_names                                               [Date, Value]\ndata                   [[2019-12-31, 104.9], [2019-11-30, 105.1], [20...\ndatabase_code                                                        SGE\ndatabase_id                                                        12833\ndataset_code                                                      EGYCPI\ndescription            <p>The Consumer Price Index (CPI) is a measure...\nend_date                                                      2020-01-01\nfrequency                                                        monthly\nid                                                              13977834\nlimit                                                               None\nname                                  Egypt - Consumer Price Index (CPI)\nnewest_available_date                                         2020-04-30\noldest_available_date                                         1957-01-31\norder                                                               None\npremium                                                             True\nrefreshed_at                                    2020-05-15T02:37:42.224Z\nstart_date                                                    2017-01-01\ntransform                                                           None\ntype                                                         Time Series",
      "text/html": "<div>\n<style scoped>\n    .dataframe tbody tr th:only-of-type {\n        vertical-align: middle;\n    }\n\n    .dataframe tbody tr th {\n        vertical-align: top;\n    }\n\n    .dataframe thead th {\n        text-align: right;\n    }\n</style>\n<table border=\"1\" class=\"dataframe\">\n  <thead>\n    <tr style=\"text-align: right;\">\n      <th></th>\n      <th>dataset</th>\n    </tr>\n  </thead>\n  <tbody>\n    <tr>\n      <th>collapse</th>\n      <td>None</td>\n    </tr>\n    <tr>\n      <th>column_index</th>\n      <td>None</td>\n    </tr>\n    <tr>\n      <th>column_names</th>\n      <td>[Date, Value]</td>\n    </tr>\n    <tr>\n      <th>data</th>\n      <td>[[2019-12-31, 104.9], [2019-11-30, 105.1], [20...</td>\n    </tr>\n    <tr>\n      <th>database_code</th>\n      <td>SGE</td>\n    </tr>\n    <tr>\n      <th>database_id</th>\n      <td>12833</td>\n    </tr>\n    <tr>\n      <th>dataset_code</th>\n      <td>EGYCPI</td>\n    </tr>\n    <tr>\n      <th>description</th>\n      <td>&lt;p&gt;The Consumer Price Index (CPI) is a measure...</td>\n    </tr>\n    <tr>\n      <th>end_date</th>\n      <td>2020-01-01</td>\n    </tr>\n    <tr>\n      <th>frequency</th>\n      <td>monthly</td>\n    </tr>\n    <tr>\n      <th>id</th>\n      <td>13977834</td>\n    </tr>\n    <tr>\n      <th>limit</th>\n      <td>None</td>\n    </tr>\n    <tr>\n      <th>name</th>\n      <td>Egypt - Consumer Price Index (CPI)</td>\n    </tr>\n    <tr>\n      <th>newest_available_date</th>\n      <td>2020-04-30</td>\n    </tr>\n    <tr>\n      <th>oldest_available_date</th>\n      <td>1957-01-31</td>\n    </tr>\n    <tr>\n      <th>order</th>\n      <td>None</td>\n    </tr>\n    <tr>\n      <th>premium</th>\n      <td>True</td>\n    </tr>\n    <tr>\n      <th>refreshed_at</th>\n      <td>2020-05-15T02:37:42.224Z</td>\n    </tr>\n    <tr>\n      <th>start_date</th>\n      <td>2017-01-01</td>\n    </tr>\n    <tr>\n      <th>transform</th>\n      <td>None</td>\n    </tr>\n    <tr>\n      <th>type</th>\n      <td>Time Series</td>\n    </tr>\n  </tbody>\n</table>\n</div>"
     },
     "metadata": {},
     "execution_count": 23
    }
   ],
   "source": [
    "econ_data"
   ]
  },
  {
   "cell_type": "code",
   "execution_count": null,
   "metadata": {},
   "outputs": [],
   "source": [
    "https://www.quandl.com/api/v3/datasets/SGE/XKXSSRE?start_date=2018-12-31&end_date=2020-12-31&api_key=vniduHCZR4kzi7nqs1wS"
   ]
  },
  {
   "cell_type": "code",
   "execution_count": 19,
   "metadata": {},
   "outputs": [
    {
     "output_type": "execute_result",
     "data": {
      "text/plain": "                                              quandl_error\ncode                                                QECx05\nmessage  The url you requested is incorrect. Please use...",
      "text/html": "<div>\n<style scoped>\n    .dataframe tbody tr th:only-of-type {\n        vertical-align: middle;\n    }\n\n    .dataframe tbody tr th {\n        vertical-align: top;\n    }\n\n    .dataframe thead th {\n        text-align: right;\n    }\n</style>\n<table border=\"1\" class=\"dataframe\">\n  <thead>\n    <tr style=\"text-align: right;\">\n      <th></th>\n      <th>quandl_error</th>\n    </tr>\n  </thead>\n  <tbody>\n    <tr>\n      <th>code</th>\n      <td>QECx05</td>\n    </tr>\n    <tr>\n      <th>message</th>\n      <td>The url you requested is incorrect. Please use...</td>\n    </tr>\n  </tbody>\n</table>\n</div>"
     },
     "metadata": {},
     "execution_count": 19
    }
   ],
   "source": [
    "econ_data"
   ]
  },
  {
   "cell_type": "code",
   "execution_count": 13,
   "metadata": {},
   "outputs": [
    {
     "output_type": "execute_result",
     "data": {
      "text/plain": "(2, 1)"
     },
     "metadata": {},
     "execution_count": 13
    }
   ],
   "source": [
    "econ_data.shape"
   ]
  },
  {
   "cell_type": "code",
   "execution_count": 7,
   "metadata": {},
   "outputs": [],
   "source": [
    "def quandl_request(code, start_date, end_date):\n",
    "    '''\n",
    "    Input a country & economic indicator as a string, start date, & end date\n",
    "    and return a dataframe.\n",
    "    '''\n",
    "    econ = pd.DataFrame()\n",
    "    econ.update = quandl.get(code, start_date=start_date, end_date=end_date)\n",
    "    return econ"
   ]
  },
  {
   "cell_type": "code",
   "execution_count": 20,
   "metadata": {},
   "outputs": [
    {
     "output_type": "execute_result",
     "data": {
      "text/plain": "Empty DataFrame\nColumns: [Value]\nIndex: []",
      "text/html": "<div>\n<style scoped>\n    .dataframe tbody tr th:only-of-type {\n        vertical-align: middle;\n    }\n\n    .dataframe tbody tr th {\n        vertical-align: top;\n    }\n\n    .dataframe thead th {\n        text-align: right;\n    }\n</style>\n<table border=\"1\" class=\"dataframe\">\n  <thead>\n    <tr style=\"text-align: right;\">\n      <th></th>\n      <th>Value</th>\n    </tr>\n    <tr>\n      <th>Date</th>\n      <th></th>\n    </tr>\n  </thead>\n  <tbody>\n  </tbody>\n</table>\n</div>"
     },
     "metadata": {},
     "execution_count": 20
    }
   ],
   "source": [
    "for code in sge_codes['code']:\n",
    "    if code in country_codes:\n",
    "        data = quandl.get(code, start_date=start_date, end_date=end_date)\n",
    "    else:\n",
    "        pass\n",
    "    \n",
    "data"
   ]
  },
  {
   "cell_type": "code",
   "execution_count": 6,
   "metadata": {},
   "outputs": [
    {
     "output_type": "execute_result",
     "data": {
      "text/plain": "(36, 3)"
     },
     "metadata": {},
     "execution_count": 6
    }
   ],
   "source": [
    "econ_cpi = quandl.get('SGE/EGYCPI', start_date=start_date, end_date=end_date, column_index='1')\n",
    "econ_cpi ['Country'] = 'EGY'\n",
    "econ_cpi ['Indicator'] = 'CPI'\n",
    "econ_cpi.reindex(columns=['Date', 'Country', 'Indicator', 'Value'])\n",
    "econ_cpi.reset_index()\n",
    "econ_cpi.shape"
   ]
  },
  {
   "cell_type": "code",
   "execution_count": 7,
   "metadata": {},
   "outputs": [
    {
     "output_type": "execute_result",
     "data": {
      "text/plain": "            Value Country Indicator\nDate                               \n2017-01-31   74.7     EGY       CPI\n2017-02-28   76.7     EGY       CPI\n2017-03-31   78.1     EGY       CPI\n2017-04-30   79.5     EGY       CPI\n2017-05-31   80.8     EGY       CPI\n2017-06-30   81.5     EGY       CPI\n2017-07-31   84.1     EGY       CPI\n2017-08-31   85.0     EGY       CPI\n2017-09-30   85.9     EGY       CPI\n2017-10-31   86.8     EGY       CPI\n2017-11-30   87.7     EGY       CPI\n2017-12-31   87.5     EGY       CPI\n2018-01-31   87.4     EGY       CPI\n2018-02-28   87.7     EGY       CPI\n2018-03-31   88.6     EGY       CPI\n2018-04-30   89.9     EGY       CPI\n2018-05-31   90.0     EGY       CPI\n2018-06-30   93.2     EGY       CPI\n2018-07-31   95.4     EGY       CPI\n2018-08-31   97.1     EGY       CPI\n2018-09-30   99.6     EGY       CPI\n2018-10-31  102.2     EGY       CPI\n2018-11-30  101.4     EGY       CPI\n2018-12-31   98.0     EGY       CPI\n2019-01-31   98.6     EGY       CPI\n2019-02-28  100.3     EGY       CPI\n2019-03-31  101.1     EGY       CPI\n2019-04-30  101.6     EGY       CPI\n2019-05-31  102.7     EGY       CPI\n2019-06-30  101.9     EGY       CPI\n2019-07-31  103.7     EGY       CPI\n2019-08-31  104.4     EGY       CPI\n2019-09-30  104.4     EGY       CPI\n2019-10-31  105.4     EGY       CPI\n2019-11-30  105.1     EGY       CPI\n2019-12-31  104.9     EGY       CPI",
      "text/html": "<div>\n<style scoped>\n    .dataframe tbody tr th:only-of-type {\n        vertical-align: middle;\n    }\n\n    .dataframe tbody tr th {\n        vertical-align: top;\n    }\n\n    .dataframe thead th {\n        text-align: right;\n    }\n</style>\n<table border=\"1\" class=\"dataframe\">\n  <thead>\n    <tr style=\"text-align: right;\">\n      <th></th>\n      <th>Value</th>\n      <th>Country</th>\n      <th>Indicator</th>\n    </tr>\n    <tr>\n      <th>Date</th>\n      <th></th>\n      <th></th>\n      <th></th>\n    </tr>\n  </thead>\n  <tbody>\n    <tr>\n      <th>2017-01-31</th>\n      <td>74.7</td>\n      <td>EGY</td>\n      <td>CPI</td>\n    </tr>\n    <tr>\n      <th>2017-02-28</th>\n      <td>76.7</td>\n      <td>EGY</td>\n      <td>CPI</td>\n    </tr>\n    <tr>\n      <th>2017-03-31</th>\n      <td>78.1</td>\n      <td>EGY</td>\n      <td>CPI</td>\n    </tr>\n    <tr>\n      <th>2017-04-30</th>\n      <td>79.5</td>\n      <td>EGY</td>\n      <td>CPI</td>\n    </tr>\n    <tr>\n      <th>2017-05-31</th>\n      <td>80.8</td>\n      <td>EGY</td>\n      <td>CPI</td>\n    </tr>\n    <tr>\n      <th>2017-06-30</th>\n      <td>81.5</td>\n      <td>EGY</td>\n      <td>CPI</td>\n    </tr>\n    <tr>\n      <th>2017-07-31</th>\n      <td>84.1</td>\n      <td>EGY</td>\n      <td>CPI</td>\n    </tr>\n    <tr>\n      <th>2017-08-31</th>\n      <td>85.0</td>\n      <td>EGY</td>\n      <td>CPI</td>\n    </tr>\n    <tr>\n      <th>2017-09-30</th>\n      <td>85.9</td>\n      <td>EGY</td>\n      <td>CPI</td>\n    </tr>\n    <tr>\n      <th>2017-10-31</th>\n      <td>86.8</td>\n      <td>EGY</td>\n      <td>CPI</td>\n    </tr>\n    <tr>\n      <th>2017-11-30</th>\n      <td>87.7</td>\n      <td>EGY</td>\n      <td>CPI</td>\n    </tr>\n    <tr>\n      <th>2017-12-31</th>\n      <td>87.5</td>\n      <td>EGY</td>\n      <td>CPI</td>\n    </tr>\n    <tr>\n      <th>2018-01-31</th>\n      <td>87.4</td>\n      <td>EGY</td>\n      <td>CPI</td>\n    </tr>\n    <tr>\n      <th>2018-02-28</th>\n      <td>87.7</td>\n      <td>EGY</td>\n      <td>CPI</td>\n    </tr>\n    <tr>\n      <th>2018-03-31</th>\n      <td>88.6</td>\n      <td>EGY</td>\n      <td>CPI</td>\n    </tr>\n    <tr>\n      <th>2018-04-30</th>\n      <td>89.9</td>\n      <td>EGY</td>\n      <td>CPI</td>\n    </tr>\n    <tr>\n      <th>2018-05-31</th>\n      <td>90.0</td>\n      <td>EGY</td>\n      <td>CPI</td>\n    </tr>\n    <tr>\n      <th>2018-06-30</th>\n      <td>93.2</td>\n      <td>EGY</td>\n      <td>CPI</td>\n    </tr>\n    <tr>\n      <th>2018-07-31</th>\n      <td>95.4</td>\n      <td>EGY</td>\n      <td>CPI</td>\n    </tr>\n    <tr>\n      <th>2018-08-31</th>\n      <td>97.1</td>\n      <td>EGY</td>\n      <td>CPI</td>\n    </tr>\n    <tr>\n      <th>2018-09-30</th>\n      <td>99.6</td>\n      <td>EGY</td>\n      <td>CPI</td>\n    </tr>\n    <tr>\n      <th>2018-10-31</th>\n      <td>102.2</td>\n      <td>EGY</td>\n      <td>CPI</td>\n    </tr>\n    <tr>\n      <th>2018-11-30</th>\n      <td>101.4</td>\n      <td>EGY</td>\n      <td>CPI</td>\n    </tr>\n    <tr>\n      <th>2018-12-31</th>\n      <td>98.0</td>\n      <td>EGY</td>\n      <td>CPI</td>\n    </tr>\n    <tr>\n      <th>2019-01-31</th>\n      <td>98.6</td>\n      <td>EGY</td>\n      <td>CPI</td>\n    </tr>\n    <tr>\n      <th>2019-02-28</th>\n      <td>100.3</td>\n      <td>EGY</td>\n      <td>CPI</td>\n    </tr>\n    <tr>\n      <th>2019-03-31</th>\n      <td>101.1</td>\n      <td>EGY</td>\n      <td>CPI</td>\n    </tr>\n    <tr>\n      <th>2019-04-30</th>\n      <td>101.6</td>\n      <td>EGY</td>\n      <td>CPI</td>\n    </tr>\n    <tr>\n      <th>2019-05-31</th>\n      <td>102.7</td>\n      <td>EGY</td>\n      <td>CPI</td>\n    </tr>\n    <tr>\n      <th>2019-06-30</th>\n      <td>101.9</td>\n      <td>EGY</td>\n      <td>CPI</td>\n    </tr>\n    <tr>\n      <th>2019-07-31</th>\n      <td>103.7</td>\n      <td>EGY</td>\n      <td>CPI</td>\n    </tr>\n    <tr>\n      <th>2019-08-31</th>\n      <td>104.4</td>\n      <td>EGY</td>\n      <td>CPI</td>\n    </tr>\n    <tr>\n      <th>2019-09-30</th>\n      <td>104.4</td>\n      <td>EGY</td>\n      <td>CPI</td>\n    </tr>\n    <tr>\n      <th>2019-10-31</th>\n      <td>105.4</td>\n      <td>EGY</td>\n      <td>CPI</td>\n    </tr>\n    <tr>\n      <th>2019-11-30</th>\n      <td>105.1</td>\n      <td>EGY</td>\n      <td>CPI</td>\n    </tr>\n    <tr>\n      <th>2019-12-31</th>\n      <td>104.9</td>\n      <td>EGY</td>\n      <td>CPI</td>\n    </tr>\n  </tbody>\n</table>\n</div>"
     },
     "metadata": {},
     "execution_count": 7
    }
   ],
   "source": [
    "econ_cpi"
   ]
  },
  {
   "cell_type": "code",
   "execution_count": null,
   "metadata": {},
   "outputs": [],
   "source": []
  }
 ],
 "metadata": {
  "language_info": {
   "codemirror_mode": {
    "name": "ipython",
    "version": 3
   },
   "file_extension": ".py",
   "mimetype": "text/x-python",
   "name": "python",
   "nbconvert_exporter": "python",
   "pygments_lexer": "ipython3",
   "version": "3.7.7-final"
  },
  "orig_nbformat": 2,
  "kernelspec": {
   "name": "python37764bitdsicondaddfe0c05640c4e1581da44e0f6b96ae5",
   "display_name": "Python 3.7.7 64-bit ('dsi': conda)"
  }
 },
 "nbformat": 4,
 "nbformat_minor": 2
}