{
 "cells": [
  {
   "cell_type": "markdown",
   "metadata": {},
   "source": [
    "# Capstone Check-in # 1"
   ]
  },
  {
   "cell_type": "markdown",
   "metadata": {},
   "source": [
    "## Idea #1 Background"
   ]
  },
  {
   "cell_type": "markdown",
   "metadata": {},
   "source": [
    "The Arab-Spring was a series of anti-government protests, uprisings, and armed rebellions that spread across much of the Arab world in the early 2010s.  While the Arab-Spring hit almost all of the Arab world, Tunisia, Libya, Egypt, Yemen, and Syria faced major uprisings from citizens who wanted regime change and increased standards of living.  What ensued lead to the death of Muammar Gaddafi in Libya, the Syrian Civil war, and rise of the Islamic State - to name a few outcomes.  "
   ]
  },
  {
   "cell_type": "markdown",
   "metadata": {},
   "source": [
    "### Working Problem Statements"
   ]
  },
  {
   "cell_type": "markdown",
   "metadata": {},
   "source": [
    "- In assessing the build-up, conflict, and \"aftermath\" of the Arab-Spring, what societal/socio-economic factors were prevalent in Arab nations which lead to public protest and rebellion? Can those same variables be used present-day to  forecast future uprisings?\n"
   ]
  },
  {
   "cell_type": "markdown",
   "metadata": {},
   "source": [
    "### Methodologies"
   ]
  },
  {
   "cell_type": "markdown",
   "metadata": {},
   "source": [
    "- Geo-spatial cluster analysis of conflict using ACLED/UCDP.  \n",
    "- NLP of ACLED Data \n",
    "- Use World-Bank Database to uncover various socio-economic indicators like religious differences (Sunni, Shia, Kurd), literacy rate, unemployment rate, persons in poverty, etc. To understand why negative sentiment arose.  (Would be nice if I could break this down into municipalities - may help explain clusters)."
   ]
  },
  {
   "cell_type": "markdown",
   "metadata": {},
   "source": [
    "### Audience"
   ]
  },
  {
   "cell_type": "markdown",
   "metadata": {},
   "source": [
    "- The executive audience for this project would be individuals associated public/foreign policy, conflict mitigation, and government officials.  \n",
    "- The technical audience would be researchers and staffers for government agencies who handle middle east affairs."
   ]
  },
  {
   "cell_type": "markdown",
   "metadata": {},
   "source": [
    "### What Constitutes Success?"
   ]
  },
  {
   "cell_type": "markdown",
   "metadata": {},
   "source": [
    "Success in this project generating a prototype algorithm through quantitative and qualitative analysis to provide agencies with the ability to detect early-stage social unrest or simulate \"what-if\" scenarios."
   ]
  },
  {
   "cell_type": "markdown",
   "metadata": {},
   "source": [
    "### Data Sources\n",
    "[The Armed Conflict Location & Event Data Project](https://acleddata.com/#/dashboard \"The Armed Conflict Location & Event Data Project\")\n",
    "\n",
    "[Uppsala Conflict Data Program](https://ucdp.uu.se/ \"Upscala Conflict Data Program\")\n",
    "\n",
    "[World Bank Data](https://data.worldbank.org/ \"World Bank\")"
   ]
  },
  {
   "cell_type": "markdown",
   "metadata": {},
   "source": [
    "## Project Idea #2"
   ]
  },
  {
   "cell_type": "markdown",
   "metadata": {},
   "source": [
    "### NLP and Algorithmic Trading"
   ]
  },
  {
   "cell_type": "markdown",
   "metadata": {},
   "source": [
    "With stock markets currently volatile, the news will factor into the direction of the markets.  Using NLP, and twitter can an algorithmic trading model be created using real-time tweets/news-feeds  to influence stock buying."
   ]
  },
  {
   "cell_type": "markdown",
   "metadata": {},
   "source": [
    "### Data"
   ]
  },
  {
   "cell_type": "markdown",
   "metadata": {},
   "source": [
    "#### News Sources\n",
    "- Twitter API\n",
    "- Yahoo Finance\n",
    "\n",
    "#### Financial Data\n",
    "- Quandl\n",
    "- Intrinio \n",
    "- Quantopian"
   ]
  },
  {
   "cell_type": "markdown",
   "metadata": {},
   "source": [
    "### Deployment of the Model\n",
    "- Quantopian is a crowd-sourced hedge fund that allows freelancers to create and back-test algorithms for trading securities. "
   ]
  },
  {
   "cell_type": "code",
   "execution_count": null,
   "metadata": {},
   "outputs": [],
   "source": []
  }
 ],
 "metadata": {
  "kernelspec": {
   "display_name": "Python 3.7.7 64-bit ('dsi': conda)",
   "language": "python",
   "name": "python37764bitdsicondaddfe0c05640c4e1581da44e0f6b96ae5"
  },
  "language_info": {
   "codemirror_mode": {
    "name": "ipython",
    "version": 3
   },
   "file_extension": ".py",
   "mimetype": "text/x-python",
   "name": "python",
   "nbconvert_exporter": "python",
   "pygments_lexer": "ipython3",
   "version": "3.7.7"
  },
  "toc": {
   "base_numbering": 1,
   "nav_menu": {},
   "number_sections": true,
   "sideBar": true,
   "skip_h1_title": false,
   "title_cell": "Table of Contents",
   "title_sidebar": "Contents",
   "toc_cell": false,
   "toc_position": {},
   "toc_section_display": true,
   "toc_window_display": false
  },
  "varInspector": {
   "cols": {
    "lenName": 16,
    "lenType": 16,
    "lenVar": 40
   },
   "kernels_config": {
    "python": {
     "delete_cmd_postfix": "",
     "delete_cmd_prefix": "del ",
     "library": "var_list.py",
     "varRefreshCmd": "print(var_dic_list())"
    },
    "r": {
     "delete_cmd_postfix": ") ",
     "delete_cmd_prefix": "rm(",
     "library": "var_list.r",
     "varRefreshCmd": "cat(var_dic_list()) "
    }
   },
   "types_to_exclude": [
    "module",
    "function",
    "builtin_function_or_method",
    "instance",
    "_Feature"
   ],
   "window_display": false
  }
 },
 "nbformat": 4,
 "nbformat_minor": 4
}
