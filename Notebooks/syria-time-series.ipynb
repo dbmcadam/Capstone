{
 "cells": [
  {
   "cell_type": "markdown",
   "metadata": {},
   "source": [
    "### Forcasting - Syria"
   ]
  },
  {
   "cell_type": "code",
   "execution_count": 1,
   "metadata": {},
   "outputs": [
    {
     "output_type": "stream",
     "name": "stderr",
     "text": "Using TensorFlow backend.\n"
    }
   ],
   "source": [
    "import pandas as pd \n",
    "import numpy as np \n",
    "\n",
    "import matplotlib.pyplot as plt \n",
    "import seaborn as sns\n",
    "\n",
    "from sklearn.model_selection import train_test_split\n",
    "from sklearn.preprocessing import MinMaxScaler\n",
    "import tensorflow\n",
    "from keras.models import Sequential\n",
    "from keras.layers import Dense, LSTM, Dropout, Flatten\n",
    "from keras.preprocessing.sequence import TimeseriesGenerator\n",
    "from tensorflow.keras import regularizers\n",
    "\n",
    "\n",
    "pd.options.display.max_rows = 999\n",
    "pd.options.display.max_columns = 999"
   ]
  },
  {
   "cell_type": "code",
   "execution_count": 2,
   "metadata": {},
   "outputs": [],
   "source": [
    "df = pd.read_csv('data/conflict-clusters.csv')"
   ]
  },
  {
   "cell_type": "code",
   "execution_count": 4,
   "metadata": {},
   "outputs": [],
   "source": [
    "# Locating Syrian Events\n",
    "data = df.loc[df['country'] == 'Syria', :]"
   ]
  },
  {
   "cell_type": "code",
   "execution_count": 6,
   "metadata": {},
   "outputs": [
    {
     "output_type": "execute_result",
     "data": {
      "text/plain": "(65966, 58)"
     },
     "metadata": {},
     "execution_count": 6
    }
   ],
   "source": [
    "data.shape"
   ]
  },
  {
   "cell_type": "code",
   "execution_count": 7,
   "metadata": {},
   "outputs": [],
   "source": [
    "data.drop(columns=['year', \n",
    "                   'sub_event_type',\n",
    "                   'actor1',\n",
    "                   'assoc_actor_1',\n",
    "                   'inter1',\n",
    "                   'actor2',\n",
    "                   'assoc_actor_2',\n",
    "                   'inter2',\n",
    "                   'interaction',\n",
    "                   'region',\n",
    "                   'admin2',\n",
    "                   'admin3',\n",
    "                   'location',\n",
    "                   'timestamp',\n",
    "                   'country',\n",
    "                   'MA/CU'], inplace=True)"
   ]
  },
  {
   "cell_type": "code",
   "execution_count": 8,
   "metadata": {},
   "outputs": [],
   "source": [
    "#  Calculating weekly event counts\n",
    "df = (pd.to_datetime(data['event_date']).dt.floor('d').value_counts().rename_axis('date').reset_index(name='count'))"
   ]
  },
  {
   "cell_type": "code",
   "execution_count": 10,
   "metadata": {},
   "outputs": [],
   "source": [
    "data['event_date'] = pd.to_datetime(data['event_date'])"
   ]
  },
  {
   "cell_type": "code",
   "execution_count": 11,
   "metadata": {},
   "outputs": [],
   "source": [
    "# Merging Syrian events and weekly event counts\n",
    "data = pd.merge(data, df, left_on='event_date', right_on='date', how='outer')"
   ]
  },
  {
   "cell_type": "code",
   "execution_count": 13,
   "metadata": {},
   "outputs": [],
   "source": [
    "data.set_index('event_date', inplace=True)"
   ]
  },
  {
   "cell_type": "code",
   "execution_count": 14,
   "metadata": {},
   "outputs": [],
   "source": [
    "data.drop(columns='date', inplace=True)"
   ]
  },
  {
   "cell_type": "code",
   "execution_count": 15,
   "metadata": {},
   "outputs": [
    {
     "output_type": "execute_result",
     "data": {
      "text/plain": "019-12-31                                             7   \n\n            Civil liberties index 7 (weak) - 1 (strong)   \\\nevent_date                                                 \n2017-01-01                                             7   \n2017-01-01                                             7   \n2017-01-01                                             7   \n2017-01-01                                             7   \n2017-01-01                                             7   \n...                                                  ...   \n2019-12-31                                             7   \n2019-12-31                                             7   \n2019-12-31                                             7   \n2019-12-31                                             7   \n2019-12-31                                             7   \n\n            Short-term political risk (1=low 7=high)  \\\nevent_date                                             \n2017-01-01                                         7   \n2017-01-01                                         7   \n2017-01-01                                         7   \n2017-01-01                                         7   \n2017-01-01                                         7   \n...                                              ...   \n2019-12-31                                         7   \n2019-12-31                                         7   \n2019-12-31                                         7   \n2019-12-31                                         7   \n2019-12-31                                         7   \n\n            Medium/long-term political risk (1=low 7=high)  \\\nevent_date                                                   \n2017-01-01                                               7   \n2017-01-01                                               7   \n2017-01-01                                               7   \n2017-01-01                                               7   \n2017-01-01                                               7   \n...                                                    ...   \n2019-12-31                                               7   \n2019-12-31                                               7   \n2019-12-31                                               7   \n2019-12-31                                               7   \n2019-12-31                                               7   \n\n            Political violence risk (1=low 7=high)  \\\nevent_date                                           \n2017-01-01                                       7   \n2017-01-01                                       7   \n2017-01-01                                       7   \n2017-01-01                                       7   \n2017-01-01                                       7   \n...                                            ...   \n2019-12-31                                       7   \n2019-12-31                                       7   \n2019-12-31                                       7   \n2019-12-31                                       7   \n2019-12-31                                       7   \n\n            Mobile phone subscribers per 100 people  \\\nevent_date                                            \n2017-01-01                                    90.00   \n2017-01-01                                    90.00   \n2017-01-01                                    90.00   \n2017-01-01                                    90.00   \n2017-01-01                                    90.00   \n...                                             ...   \n2019-12-31                                    95.55   \n2019-12-31                                    95.55   \n2019-12-31                                    95.55   \n2019-12-31                                    95.55   \n2019-12-31                                    95.55   \n\n            Property rights index (0-100)  \\\nevent_date                                  \n2017-01-01                             37   \n2017-01-01                             37   \n2017-01-01                             37   \n2017-01-01                             37   \n2017-01-01                             37   \n...                                   ...   \n2019-12-31                             37   \n2019-12-31                             37   \n2019-12-31                             37   \n2019-12-31                             37   \n2019-12-31                             37   \n\n            Freedom from corruption index (0-100)  \\\nevent_date                                          \n2017-01-01                                     30   \n2017-01-01                                     30   \n2017-01-01                                     30   \n2017-01-01                                     30   \n2017-01-01                                     30   \n...                                           ...   \n2019-12-31                                     20   \n2019-12-31                                     20   \n2019-12-31                                     20   \n2019-12-31                                     20   \n2019-12-31                                     20   \n\n            Business freedom index (0-100)  Labor freedom index (0-100)  \\\nevent_date                                                                \n2017-01-01                              66                           56   \n2017-01-01                              66                           56   \n2017-01-01                              66                           56   \n2017-01-01                              66                           56   \n2017-01-01                              66                           56   \n...                                    ...                          ...   \n2019-12-31                              50                           58   \n2019-12-31                              50                           58   \n2019-12-31                              50                           58   \n2019-12-31                              50                           58   \n2019-12-31                              50                           58   \n\n            Life expectancy in years  \\\nevent_date                             \n2017-01-01                     70.97   \n2017-01-01                     70.97   \n2017-01-01                     70.97   \n2017-01-01                     70.97   \n2017-01-01                     70.97   \n...                              ...   \n2019-12-31                     71.38   \n2019-12-31                     71.38   \n2019-12-31                     71.38   \n2019-12-31                     71.38   \n2019-12-31                     71.38   \n\n            Fragile state index 0 (low) - 120 (high)  \\\nevent_date                                             \n2017-01-01                                     110.6   \n2017-01-01                                     110.6   \n2017-01-01                                     110.6   \n2017-01-01                                     110.6   \n2017-01-01                                     110.6   \n...                                              ...   \n2019-12-31                                     111.5   \n2019-12-31                                     111.5   \n2019-12-31                                     111.5   \n2019-12-31                                     111.5   \n2019-12-31                                     111.5   \n\n            Security threats index 0 (low) - 10 (high)  \\\nevent_date                                               \n2017-01-01                                         9.8   \n2017-01-01                                         9.8   \n2017-01-01                                         9.8   \n2017-01-01                                         9.8   \n2017-01-01                                         9.8   \n...                                                ...   \n2019-12-31                                         9.8   \n2019-12-31                                         9.8   \n2019-12-31                                         9.8   \n2019-12-31                                         9.8   \n2019-12-31                                         9.8   \n\n            State legitimacy index 0 (high) - 10 (low)  \\\nevent_date                                               \n2017-01-01                                         9.9   \n2017-01-01                                         9.9   \n2017-01-01                                         9.9   \n2017-01-01                                         9.9   \n2017-01-01                                         9.9   \n...                                                ...   \n2019-12-31                                         9.9   \n2019-12-31                                         9.9   \n2019-12-31                                         9.9   \n2019-12-31                                         9.9   \n2019-12-31                                         9.9   \n\n            Public services index 0 (high) - 10 (low)  \\\nevent_date                                              \n2017-01-01                                        9.2   \n2017-01-01                                        9.2   \n2017-01-01                                        9.2   \n2017-01-01                                        9.2   \n2017-01-01                                        9.2   \n...                                               ...   \n2019-12-31                                        9.4   \n2019-12-31                                        9.4   \n2019-12-31                                        9.4   \n2019-12-31                                        9.4   \n2019-12-31                                        9.4   \n\n            Human rights and rule of law index 0 (high) - 10 (low)  \\\nevent_date                                                           \n2017-01-01                                                9.8        \n2017-01-01                                                9.8        \n2017-01-01                                                9.8        \n2017-01-01                                                9.8        \n2017-01-01                                                9.8        \n...                                                       ...        \n2019-12-31                                               10.0        \n2019-12-31                                               10.0        \n2019-12-31                                               10.0        \n2019-12-31                                               10.0        \n2019-12-31                                               10.0        \n\n            Refugees and displaced persons index 0 (low) - 10 (high)  \\\nevent_date                                                             \n2017-01-01                                                9.8          \n2017-01-01                                                9.8          \n2017-01-01                                                9.8          \n2017-01-01                                                9.8          \n2017-01-01                                                9.8          \n...                                                       ...          \n2019-12-31                                               10.0          \n2019-12-31                                               10.0          \n2019-12-31                                               10.0          \n2019-12-31                                               10.0          \n2019-12-31                                               10.0          \n\n            Labor force million people  Labor force participation rate  \\\nevent_date                                                               \n2017-01-01                        4.83                           41.52   \n2017-01-01                        4.83                           41.52   \n2017-01-01                        4.83                           41.52   \n2017-01-01                        4.83                           41.52   \n2017-01-01                        4.83                           41.52   \n...                                ...                             ...   \n2019-12-31                        4.80                           40.76   \n2019-12-31                        4.80                           40.76   \n2019-12-31                        4.80                           40.76   \n2019-12-31                        4.80                           40.76   \n2019-12-31                        4.80                           40.76   \n\n            Percent urban population  Population density people per square km  \\\nevent_date                                                                      \n2017-01-01                     53.50                                     93.0   \n2017-01-01                     53.50                                     93.0   \n2017-01-01                     53.50                                     93.0   \n2017-01-01                     53.50                                     93.0   \n2017-01-01                     53.50                                     93.0   \n...                              ...                                      ...   \n2019-12-31                     53.83                                     92.5   \n2019-12-31                     53.83                                     92.5   \n2019-12-31                     53.83                                     92.5   \n2019-12-31                     53.83                                     92.5   \n2019-12-31                     53.83                                     92.5   \n\n            db_50_clusters  count  event_type_Battles  \\\nevent_date                                              \n2017-01-01               1     72                   0   \n2017-01-01               1     72                   1   \n2017-01-01               1     72                   1   \n2017-01-01               1     72                   0   \n2017-01-01               1     72                   0   \n...                    ...    ...                 ...   \n2019-12-31               1     33                   0   \n2019-12-31               1     33                   0   \n2019-12-31               1     33                   0   \n2019-12-31               1     33                   0   \n2019-12-31               1     33                   0   \n\n            event_type_Explosions/Remote violence  event_type_Protests  \\\nevent_date                                                               \n2017-01-01                                      1                    0   \n2017-01-01                                      0                    0   \n2017-01-01                                      0                    0   \n2017-01-01                                      1                    0   \n2017-01-01                                      1                    0   \n...                                           ...                  ...   \n2019-12-31                                      1                    0   \n2019-12-31                                      1                    0   \n2019-12-31                                      1                    0   \n2019-12-31                                      1                    0   \n2019-12-31                                      1                    0   \n\n            event_type_Riots  event_type_Violence against civilians  \\\nevent_date                                                            \n2017-01-01                 0                                      0   \n2017-01-01                 0                                      0   \n2017-01-01                 0                                      0   \n2017-01-01                 0                                      0   \n2017-01-01                 0                                      0   \n...                      ...                                    ...   \n2019-12-31                 0                                      0   \n2019-12-31                 0                                      0   \n2019-12-31                 0                                      0   \n2019-12-31                 0                                      0   \n2019-12-31                 0                                      0   \n\n            admin1_Al-Hasakeh  admin1_Aleppo  admin1_Ar-Raqqa  \\\nevent_date                                                      \n2017-01-01                  0              0                0   \n2017-01-01                  0              0                0   \n2017-01-01                  0              0                0   \n2017-01-01                  0              0                0   \n2017-01-01                  0              0                0   \n...                       ...            ...              ...   \n2019-12-31                  0              1                0   \n2019-12-31                  0              0                1   \n2019-12-31                  0              0                0   \n2019-12-31                  0              0                0   \n2019-12-31                  0              0                0   \n\n            admin1_As-Sweida  admin1_Damascus  admin1_Dar'a  \\\nevent_date                                                    \n2017-01-01                 0                0             0   \n2017-01-01                 0                0             0   \n2017-01-01                 0                0             0   \n2017-01-01                 0                0             0   \n2017-01-01                 0                0             0   \n...                      ...              ...           ...   \n2019-12-31                 0                0             0   \n2019-12-31                 0                0             0   \n2019-12-31                 0                0             0   \n2019-12-31                 0                0             0   \n2019-12-31                 0                0             0   \n\n            admin1_Deir-ez-Zor  admin1_Hama  admin1_Homs  admin1_Idleb  \\\nevent_date                                                               \n2017-01-01                   0            0            0             0   \n2017-01-01                   0            0            0             0   \n2017-01-01                   0            0            0             0   \n2017-01-01                   0            0            1             0   \n2017-01-01                   0            1            0             0   \n...                        ...          ...          ...           ...   \n2019-12-31                   0            0            0             0   \n2019-12-31                   0            0            0             0   \n2019-12-31                   0            0            0             1   \n2019-12-31                   0            0            0             1   \n2019-12-31                   0            0            0             1   \n\n            admin1_Lattakia  admin1_Quneitra  admin1_Rural Damascus  \\\nevent_date                                                            \n2017-01-01                0                0                      1   \n2017-01-01                0                0                      1   \n2017-01-01                0                0                      1   \n2017-01-01                0                0                      0   \n2017-01-01                0                0                      0   \n...                     ...              ...                    ...   \n2019-12-31                0                0                      0   \n2019-12-31                0                0                      0   \n2019-12-31                0                0                      0   \n2019-12-31                0                0                      0   \n2019-12-31                0                0                      0   \n\n            admin1_Tartous  \nevent_date                  \n2017-01-01               0  \n2017-01-01               0  \n2017-01-01               0  \n2017-01-01               0  \n2017-01-01               0  \n...                    ...  \n2019-12-31               0  \n2019-12-31               0  \n2019-12-31               0  \n2019-12-31               0  \n2019-12-31               0  \n\n[65966 rows x 59 columns]",
      "text/html": "<div>\n<style scoped>\n    .dataframe tbody tr th:only-of-type {\n        vertical-align: middle;\n    }\n\n    .dataframe tbody tr th {\n        vertical-align: top;\n    }\n\n    .dataframe thead th {\n        text-align: right;\n    }\n</style>\n<table border=\"1\" class=\"dataframe\">\n  <thead>\n    <tr style=\"text-align: right;\">\n      <th></th>\n      <th>latitude</th>\n      <th>longitude</th>\n      <th>geo_precision</th>\n      <th>fatalities</th>\n      <th>users</th>\n      <th>frac</th>\n      <th>month</th>\n      <th>missing_data</th>\n      <th>Exchange rate USD</th>\n      <th>Unemployment rate</th>\n      <th>Rule of law index (-2.5 weak; 2.5 strong)</th>\n      <th>Government effectiveness index (-2.5 weak; 2.5 strong)</th>\n      <th>Control of corruption (-2.5 weak; 2.5 strong)</th>\n      <th>Regulatory quality index (-2.5 weak; 2.5 strong)</th>\n      <th>Voice and accountability index (-2.5 weak; 2.5 strong)</th>\n      <th>Political stability index (-2.5 weak; 2.5 strong)</th>\n      <th>Corruption Perceptions Index 100 = no corruption</th>\n      <th>Political rights index 7 (weak) - 1 (strong)</th>\n      <th>Civil liberties index 7 (weak) - 1 (strong)</th>\n      <th>Short-term political risk (1=low 7=high)</th>\n      <th>Medium/long-term political risk (1=low 7=high)</th>\n      <th>Political violence risk (1=low 7=high)</th>\n      <th>Mobile phone subscribers per 100 people</th>\n      <th>Property rights index (0-100)</th>\n      <th>Freedom from corruption index (0-100)</th>\n      <th>Business freedom index (0-100)</th>\n      <th>Labor freedom index (0-100)</th>\n      <th>Life expectancy in years</th>\n      <th>Fragile state index 0 (low) - 120 (high)</th>\n      <th>Security threats index 0 (low) - 10 (high)</th>\n      <th>State legitimacy index 0 (high) - 10 (low)</th>\n      <th>Public services index 0 (high) - 10 (low)</th>\n      <th>Human rights and rule of law index 0 (high) - 10 (low)</th>\n      <th>Refugees and displaced persons index 0 (low) - 10 (high)</th>\n      <th>Labor force million people</th>\n      <th>Labor force participation rate</th>\n      <th>Percent urban population</th>\n      <th>Population density people per square km</th>\n      <th>db_50_clusters</th>\n      <th>count</th>\n      <th>event_type_Battles</th>\n      <th>event_type_Explosions/Remote violence</th>\n      <th>event_type_Protests</th>\n      <th>event_type_Riots</th>\n      <th>event_type_Violence against civilians</th>\n      <th>admin1_Al-Hasakeh</th>\n      <th>admin1_Aleppo</th>\n      <th>admin1_Ar-Raqqa</th>\n      <th>admin1_As-Sweida</th>\n      <th>admin1_Damascus</th>\n      <th>admin1_Dar'a</th>\n      <th>admin1_Deir-ez-Zor</th>\n      <th>admin1_Hama</th>\n      <th>admin1_Homs</th>\n      <th>admin1_Idleb</th>\n      <th>admin1_Lattakia</th>\n      <th>admin1_Quneitra</th>\n      <th>admin1_Rural Damascus</th>\n      <th>admin1_Tartous</th>\n    </tr>\n    <tr>\n      <th>event_date</th>\n      <th></th>\n      <th></th>\n      <th></th>\n      <th></th>\n      <th></th>\n      <th></th>\n      <th></th>\n      <th></th>\n      <th></th>\n      <th></th>\n      <th></th>\n      <th></th>\n      <th></th>\n      <th></th>\n      <th></th>\n      <th></th>\n      <th></th>\n      <th></th>\n      <th></th>\n      <th></th>\n      <th></th>\n      <th></th>\n      <th></th>\n      <th></th>\n      <th></th>\n      <th></th>\n      <th></th>\n      <th></th>\n      <th></th>\n      <th></th>\n      <th></th>\n      <th></th>\n      <th></th>\n      <th></th>\n      <th></th>\n      <th></th>\n      <th></th>\n      <th></th>\n      <th></th>\n      <th></th>\n      <th></th>\n      <th></th>\n      <th></th>\n      <th></th>\n      <th></th>\n      <th></th>\n      <th></th>\n      <th></th>\n      <th></th>\n      <th></th>\n      <th></th>\n      <th></th>\n      <th></th>\n      <th></th>\n      <th></th>\n      <th></th>\n      <th></th>\n      <th></th>\n      <th></th>\n    </tr>\n  </thead>\n  <tbody>\n    <tr>\n      <th>2017-01-01</th>\n      <td>33.6039</td>\n      <td>36.1361</td>\n      <td>1</td>\n      <td>2</td>\n      <td>38</td>\n      <td>56</td>\n      <td>1</td>\n      <td>1.0</td>\n      <td>213.9760</td>\n      <td>8.36</td>\n      <td>-2.09</td>\n      <td>-1.77</td>\n      <td>-1.560</td>\n      <td>-1.830</td>\n      <td>-1.970</td>\n      <td>-2.62</td>\n      <td>14</td>\n      <td>7</td>\n      <td>7</td>\n      <td>7</td>\n      <td>7</td>\n      <td>7</td>\n      <td>90.00</td>\n      <td>37</td>\n      <td>30</td>\n      <td>66</td>\n      <td>56</td>\n      <td>70.97</td>\n      <td>110.6</td>\n      <td>9.8</td>\n      <td>9.9</td>\n      <td>9.2</td>\n      <td>9.8</td>\n      <td>9.8</td>\n      <td>4.83</td>\n      <td>41.52</td>\n      <td>53.50</td>\n      <td>93.0</td>\n      <td>1</td>\n      <td>72</td>\n      <td>0</td>\n      <td>1</td>\n      <td>0</td>\n      <td>0</td>\n      <td>0</td>\n      <td>0</td>\n      <td>0</td>\n      <td>0</td>\n      <td>0</td>\n      <td>0</td>\n      <td>0</td>\n      <td>0</td>\n      <td>0</td>\n      <td>0</td>\n      <td>0</td>\n      <td>0</td>\n      <td>0</td>\n      <td>1</td>\n      <td>0</td>\n    </tr>\n    <tr>\n      <th>2017-01-01</th>\n      <td>33.5165</td>\n      <td>36.4897</td>\n      <td>1</td>\n      <td>1</td>\n      <td>38</td>\n      <td>56</td>\n      <td>1</td>\n      <td>1.0</td>\n      <td>213.9760</td>\n      <td>8.36</td>\n      <td>-2.09</td>\n      <td>-1.77</td>\n      <td>-1.560</td>\n      <td>-1.830</td>\n      <td>-1.970</td>\n      <td>-2.62</td>\n      <td>14</td>\n      <td>7</td>\n      <td>7</td>\n      <td>7</td>\n      <td>7</td>\n      <td>7</td>\n      <td>90.00</td>\n      <td>37</td>\n      <td>30</td>\n      <td>66</td>\n      <td>56</td>\n      <td>70.97</td>\n      <td>110.6</td>\n      <td>9.8</td>\n      <td>9.9</td>\n      <td>9.2</td>\n      <td>9.8</td>\n      <td>9.8</td>\n      <td>4.83</td>\n      <td>41.52</td>\n      <td>53.50</td>\n      <td>93.0</td>\n      <td>1</td>\n      <td>72</td>\n      <td>1</td>\n      <td>0</td>\n      <td>0</td>\n      <td>0</td>\n      <td>0</td>\n      <td>0</td>\n      <td>0</td>\n      <td>0</td>\n      <td>0</td>\n      <td>0</td>\n      <td>0</td>\n      <td>0</td>\n      <td>0</td>\n      <td>0</td>\n      <td>0</td>\n      <td>0</td>\n      <td>0</td>\n      <td>1</td>\n      <td>0</td>\n    </tr>\n    <tr>\n      <th>2017-01-01</th>\n      <td>33.6094</td>\n      <td>36.1234</td>\n      <td>2</td>\n      <td>0</td>\n      <td>38</td>\n      <td>56</td>\n      <td>1</td>\n      <td>1.0</td>\n      <td>213.9760</td>\n      <td>8.36</td>\n      <td>-2.09</td>\n      <td>-1.77</td>\n      <td>-1.560</td>\n      <td>-1.830</td>\n      <td>-1.970</td>\n      <td>-2.62</td>\n      <td>14</td>\n      <td>7</td>\n      <td>7</td>\n      <td>7</td>\n      <td>7</td>\n      <td>7</td>\n      <td>90.00</td>\n      <td>37</td>\n      <td>30</td>\n      <td>66</td>\n      <td>56</td>\n      <td>70.97</td>\n      <td>110.6</td>\n      <td>9.8</td>\n      <td>9.9</td>\n      <td>9.2</td>\n      <td>9.8</td>\n      <td>9.8</td>\n      <td>4.83</td>\n      <td>41.52</td>\n      <td>53.50</td>\n      <td>93.0</td>\n      <td>1</td>\n      <td>72</td>\n      <td>1</td>\n      <td>0</td>\n      <td>0</td>\n      <td>0</td>\n      <td>0</td>\n      <td>0</td>\n      <td>0</td>\n      <td>0</td>\n      <td>0</td>\n      <td>0</td>\n      <td>0</td>\n      <td>0</td>\n      <td>0</td>\n      <td>0</td>\n      <td>0</td>\n      <td>0</td>\n      <td>0</td>\n      <td>1</td>\n      <td>0</td>\n    </tr>\n    <tr>\n      <th>2017-01-01</th>\n      <td>34.8832</td>\n      <td>38.8700</td>\n      <td>2</td>\n      <td>0</td>\n      <td>38</td>\n      <td>56</td>\n      <td>1</td>\n      <td>1.0</td>\n      <td>213.9760</td>\n      <td>8.36</td>\n      <td>-2.09</td>\n      <td>-1.77</td>\n      <td>-1.560</td>\n      <td>-1.830</td>\n      <td>-1.970</td>\n      <td>-2.62</td>\n      <td>14</td>\n      <td>7</td>\n      <td>7</td>\n      <td>7</td>\n      <td>7</td>\n      <td>7</td>\n      <td>90.00</td>\n      <td>37</td>\n      <td>30</td>\n      <td>66</td>\n      <td>56</td>\n      <td>70.97</td>\n      <td>110.6</td>\n      <td>9.8</td>\n      <td>9.9</td>\n      <td>9.2</td>\n      <td>9.8</td>\n      <td>9.8</td>\n      <td>4.83</td>\n      <td>41.52</td>\n      <td>53.50</td>\n      <td>93.0</td>\n      <td>1</td>\n      <td>72</td>\n      <td>0</td>\n      <td>1</td>\n      <td>0</td>\n      <td>0</td>\n      <td>0</td>\n      <td>0</td>\n      <td>0</td>\n      <td>0</td>\n      <td>0</td>\n      <td>0</td>\n      <td>0</td>\n      <td>0</td>\n      <td>0</td>\n      <td>1</td>\n      <td>0</td>\n      <td>0</td>\n      <td>0</td>\n      <td>0</td>\n      <td>0</td>\n    </tr>\n    <tr>\n      <th>2017-01-01</th>\n      <td>34.9568</td>\n      <td>36.9580</td>\n      <td>1</td>\n      <td>0</td>\n      <td>38</td>\n      <td>56</td>\n      <td>1</td>\n      <td>1.0</td>\n      <td>213.9760</td>\n      <td>8.36</td>\n      <td>-2.09</td>\n      <td>-1.77</td>\n      <td>-1.560</td>\n      <td>-1.830</td>\n      <td>-1.970</td>\n      <td>-2.62</td>\n      <td>14</td>\n      <td>7</td>\n      <td>7</td>\n      <td>7</td>\n      <td>7</td>\n      <td>7</td>\n      <td>90.00</td>\n      <td>37</td>\n      <td>30</td>\n      <td>66</td>\n      <td>56</td>\n      <td>70.97</td>\n      <td>110.6</td>\n      <td>9.8</td>\n      <td>9.9</td>\n      <td>9.2</td>\n      <td>9.8</td>\n      <td>9.8</td>\n      <td>4.83</td>\n      <td>41.52</td>\n      <td>53.50</td>\n      <td>93.0</td>\n      <td>1</td>\n      <td>72</td>\n      <td>0</td>\n      <td>1</td>\n      <td>0</td>\n      <td>0</td>\n      <td>0</td>\n      <td>0</td>\n      <td>0</td>\n      <td>0</td>\n      <td>0</td>\n      <td>0</td>\n      <td>0</td>\n      <td>0</td>\n      <td>1</td>\n      <td>0</td>\n      <td>0</td>\n      <td>0</td>\n      <td>0</td>\n      <td>0</td>\n      <td>0</td>\n    </tr>\n    <tr>\n      <th>...</th>\n      <td>...</td>\n      <td>...</td>\n      <td>...</td>\n      <td>...</td>\n      <td>...</td>\n      <td>...</td>\n      <td>...</td>\n      <td>...</td>\n      <td>...</td>\n      <td>...</td>\n      <td>...</td>\n      <td>...</td>\n      <td>...</td>\n      <td>...</td>\n      <td>...</td>\n      <td>...</td>\n      <td>...</td>\n      <td>...</td>\n      <td>...</td>\n      <td>...</td>\n      <td>...</td>\n      <td>...</td>\n      <td>...</td>\n      <td>...</td>\n      <td>...</td>\n      <td>...</td>\n      <td>...</td>\n      <td>...</td>\n      <td>...</td>\n      <td>...</td>\n      <td>...</td>\n      <td>...</td>\n      <td>...</td>\n      <td>...</td>\n      <td>...</td>\n      <td>...</td>\n      <td>...</td>\n      <td>...</td>\n      <td>...</td>\n      <td>...</td>\n      <td>...</td>\n      <td>...</td>\n      <td>...</td>\n      <td>...</td>\n      <td>...</td>\n      <td>...</td>\n      <td>...</td>\n      <td>...</td>\n      <td>...</td>\n      <td>...</td>\n      <td>...</td>\n      <td>...</td>\n      <td>...</td>\n      <td>...</td>\n      <td>...</td>\n      <td>...</td>\n      <td>...</td>\n      <td>...</td>\n      <td>...</td>\n    </tr>\n    <tr>\n      <th>2019-12-31</th>\n      <td>36.5111</td>\n      <td>36.8655</td>\n      <td>1</td>\n      <td>0</td>\n      <td>17</td>\n      <td>55</td>\n      <td>12</td>\n      <td>1.0</td>\n      <td>514.9994</td>\n      <td>8.37</td>\n      <td>-2.07</td>\n      <td>-1.72</td>\n      <td>-1.595</td>\n      <td>-1.815</td>\n      <td>-1.965</td>\n      <td>-2.68</td>\n      <td>13</td>\n      <td>7</td>\n      <td>7</td>\n      <td>7</td>\n      <td>7</td>\n      <td>7</td>\n      <td>95.55</td>\n      <td>37</td>\n      <td>20</td>\n      <td>50</td>\n      <td>58</td>\n      <td>71.38</td>\n      <td>111.5</td>\n      <td>9.8</td>\n      <td>9.9</td>\n      <td>9.4</td>\n      <td>10.0</td>\n      <td>10.0</td>\n      <td>4.80</td>\n      <td>40.76</td>\n      <td>53.83</td>\n      <td>92.5</td>\n      <td>1</td>\n      <td>33</td>\n      <td>0</td>\n      <td>1</td>\n      <td>0</td>\n      <td>0</td>\n      <td>0</td>\n      <td>0</td>\n      <td>1</td>\n      <td>0</td>\n      <td>0</td>\n      <td>0</td>\n      <td>0</td>\n      <td>0</td>\n      <td>0</td>\n      <td>0</td>\n      <td>0</td>\n      <td>0</td>\n      <td>0</td>\n      <td>0</td>\n      <td>0</td>\n    </tr>\n    <tr>\n      <th>2019-12-31</th>\n      <td>36.6978</td>\n      <td>38.9548</td>\n      <td>1</td>\n      <td>0</td>\n      <td>17</td>\n      <td>55</td>\n      <td>12</td>\n      <td>1.0</td>\n      <td>514.9994</td>\n      <td>8.37</td>\n      <td>-2.07</td>\n      <td>-1.72</td>\n      <td>-1.595</td>\n      <td>-1.815</td>\n      <td>-1.965</td>\n      <td>-2.68</td>\n      <td>13</td>\n      <td>7</td>\n      <td>7</td>\n      <td>7</td>\n      <td>7</td>\n      <td>7</td>\n      <td>95.55</td>\n      <td>37</td>\n      <td>20</td>\n      <td>50</td>\n      <td>58</td>\n      <td>71.38</td>\n      <td>111.5</td>\n      <td>9.8</td>\n      <td>9.9</td>\n      <td>9.4</td>\n      <td>10.0</td>\n      <td>10.0</td>\n      <td>4.80</td>\n      <td>40.76</td>\n      <td>53.83</td>\n      <td>92.5</td>\n      <td>1</td>\n      <td>33</td>\n      <td>0</td>\n      <td>1</td>\n      <td>0</td>\n      <td>0</td>\n      <td>0</td>\n      <td>0</td>\n      <td>0</td>\n      <td>1</td>\n      <td>0</td>\n      <td>0</td>\n      <td>0</td>\n      <td>0</td>\n      <td>0</td>\n      <td>0</td>\n      <td>0</td>\n      <td>0</td>\n      <td>0</td>\n      <td>0</td>\n      <td>0</td>\n    </tr>\n    <tr>\n      <th>2019-12-31</th>\n      <td>35.6159</td>\n      <td>36.7188</td>\n      <td>1</td>\n      <td>0</td>\n      <td>17</td>\n      <td>55</td>\n      <td>12</td>\n      <td>1.0</td>\n      <td>514.9994</td>\n      <td>8.37</td>\n      <td>-2.07</td>\n      <td>-1.72</td>\n      <td>-1.595</td>\n      <td>-1.815</td>\n      <td>-1.965</td>\n      <td>-2.68</td>\n      <td>13</td>\n      <td>7</td>\n      <td>7</td>\n      <td>7</td>\n      <td>7</td>\n      <td>7</td>\n      <td>95.55</td>\n      <td>37</td>\n      <td>20</td>\n      <td>50</td>\n      <td>58</td>\n      <td>71.38</td>\n      <td>111.5</td>\n      <td>9.8</td>\n      <td>9.9</td>\n      <td>9.4</td>\n      <td>10.0</td>\n      <td>10.0</td>\n      <td>4.80</td>\n      <td>40.76</td>\n      <td>53.83</td>\n      <td>92.5</td>\n      <td>1</td>\n      <td>33</td>\n      <td>0</td>\n      <td>1</td>\n      <td>0</td>\n      <td>0</td>\n      <td>0</td>\n      <td>0</td>\n      <td>0</td>\n      <td>0</td>\n      <td>0</td>\n      <td>0</td>\n      <td>0</td>\n      <td>0</td>\n      <td>0</td>\n      <td>0</td>\n      <td>1</td>\n      <td>0</td>\n      <td>0</td>\n      <td>0</td>\n      <td>0</td>\n    </tr>\n    <tr>\n      <th>2019-12-31</th>\n      <td>35.6045</td>\n      <td>36.7115</td>\n      <td>1</td>\n      <td>0</td>\n      <td>17</td>\n      <td>55</td>\n      <td>12</td>\n      <td>1.0</td>\n      <td>514.9994</td>\n      <td>8.37</td>\n      <td>-2.07</td>\n      <td>-1.72</td>\n      <td>-1.595</td>\n      <td>-1.815</td>\n      <td>-1.965</td>\n      <td>-2.68</td>\n      <td>13</td>\n      <td>7</td>\n      <td>7</td>\n      <td>7</td>\n      <td>7</td>\n      <td>7</td>\n      <td>95.55</td>\n      <td>37</td>\n      <td>20</td>\n      <td>50</td>\n      <td>58</td>\n      <td>71.38</td>\n      <td>111.5</td>\n      <td>9.8</td>\n      <td>9.9</td>\n      <td>9.4</td>\n      <td>10.0</td>\n      <td>10.0</td>\n      <td>4.80</td>\n      <td>40.76</td>\n      <td>53.83</td>\n      <td>92.5</td>\n      <td>1</td>\n      <td>33</td>\n      <td>0</td>\n      <td>1</td>\n      <td>0</td>\n      <td>0</td>\n      <td>0</td>\n      <td>0</td>\n      <td>0</td>\n      <td>0</td>\n      <td>0</td>\n      <td>0</td>\n      <td>0</td>\n      <td>0</td>\n      <td>0</td>\n      <td>0</td>\n      <td>1</td>\n      <td>0</td>\n      <td>0</td>\n      <td>0</td>\n      <td>0</td>\n    </tr>\n    <tr>\n      <th>2019-12-31</th>\n      <td>35.4437</td>\n      <td>36.6504</td>\n      <td>1</td>\n      <td>0</td>\n      <td>17</td>\n      <td>55</td>\n      <td>12</td>\n      <td>1.0</td>\n      <td>514.9994</td>\n      <td>8.37</td>\n      <td>-2.07</td>\n      <td>-1.72</td>\n      <td>-1.595</td>\n      <td>-1.815</td>\n      <td>-1.965</td>\n      <td>-2.68</td>\n      <td>13</td>\n      <td>7</td>\n      <td>7</td>\n      <td>7</td>\n      <td>7</td>\n      <td>7</td>\n      <td>95.55</td>\n      <td>37</td>\n      <td>20</td>\n      <td>50</td>\n      <td>58</td>\n      <td>71.38</td>\n      <td>111.5</td>\n      <td>9.8</td>\n      <td>9.9</td>\n      <td>9.4</td>\n      <td>10.0</td>\n      <td>10.0</td>\n      <td>4.80</td>\n      <td>40.76</td>\n      <td>53.83</td>\n      <td>92.5</td>\n      <td>1</td>\n      <td>33</td>\n      <td>0</td>\n      <td>1</td>\n      <td>0</td>\n      <td>0</td>\n      <td>0</td>\n      <td>0</td>\n      <td>0</td>\n      <td>0</td>\n      <td>0</td>\n      <td>0</td>\n      <td>0</td>\n      <td>0</td>\n      <td>0</td>\n      <td>0</td>\n      <td>1</td>\n      <td>0</td>\n      <td>0</td>\n      <td>0</td>\n      <td>0</td>\n    </tr>\n  </tbody>\n</table>\n<p>65966 rows × 59 columns</p>\n</div>"
     },
     "metadata": {},
     "execution_count": 15
    }
   ],
   "source": [
    "pd.get_dummies(data=data, \n",
    "               columns=['event_type',\n",
    "                        'admin1'])"
   ]
  },
  {
   "cell_type": "code",
   "execution_count": 16,
   "metadata": {},
   "outputs": [],
   "source": [
    "data.drop(columns=['event_type', 'admin1'], inplace=True)"
   ]
  },
  {
   "cell_type": "code",
   "execution_count": 18,
   "metadata": {},
   "outputs": [],
   "source": [
    "y = data['count']\n",
    "X = data.drop(columns=['count'])\n"
   ]
  },
  {
   "cell_type": "code",
   "execution_count": 19,
   "metadata": {},
   "outputs": [],
   "source": [
    "X_train, X_test, y_train, y_test = train_test_split(X, y, shuffle=False)"
   ]
  },
  {
   "cell_type": "code",
   "execution_count": 20,
   "metadata": {},
   "outputs": [],
   "source": [
    "minmax = MinMaxScaler()"
   ]
  },
  {
   "cell_type": "code",
   "execution_count": 21,
   "metadata": {},
   "outputs": [],
   "source": [
    "# Normalizing numeric data\n",
    "X_train = minmax.fit_transform(X_train)\n",
    "X_test = minmax.fit_transform(X_test)"
   ]
  },
  {
   "cell_type": "code",
   "execution_count": 22,
   "metadata": {},
   "outputs": [
    {
     "output_type": "execute_result",
     "data": {
      "text/plain": "(59369, 39)"
     },
     "metadata": {},
     "execution_count": 22
    }
   ],
   "source": [
    "X_train.shape"
   ]
  },
  {
   "cell_type": "code",
   "execution_count": 23,
   "metadata": {},
   "outputs": [],
   "source": [
    "train = TimeseriesGenerator(X_train, y_train, length=3, batch_size=64)\n",
    "test = TimeseriesGenerator(X_test, y_test, length=3, batch_size=64)"
   ]
  },
  {
   "cell_type": "code",
   "execution_count": 24,
   "metadata": {},
   "outputs": [],
   "source": [
    "batch_x, batch_y = train[0]"
   ]
  },
  {
   "cell_type": "code",
   "execution_count": 25,
   "metadata": {},
   "outputs": [
    {
     "output_type": "execute_result",
     "data": {
      "text/plain": "(64, 3, 39)"
     },
     "metadata": {},
     "execution_count": 25
    }
   ],
   "source": [
    "batch_x.shape"
   ]
  },
  {
   "cell_type": "code",
   "execution_count": 26,
   "metadata": {},
   "outputs": [
    {
     "output_type": "stream",
     "name": "stdout",
     "text": "WARNING:tensorflow:From /Users/derekmcadam/opt/anaconda3/envs/dsi/lib/python3.7/site-packages/tensorflow/python/ops/resource_variable_ops.py:435: colocate_with (from tensorflow.python.framework.ops) is deprecated and will be removed in a future version.\nInstructions for updating:\nColocations handled automatically by placer.\nModel: \"sequential_1\"\n_________________________________________________________________\nLayer (type)                 Output Shape              Param #   \n=================================================================\nlstm_1 (LSTM)                (None, 3, 64)             26624     \n_________________________________________________________________\ndropout_1 (Dropout)          (None, 3, 64)             0         \n_________________________________________________________________\nlstm_2 (LSTM)                (None, 3, 64)             33024     \n_________________________________________________________________\ndropout_2 (Dropout)          (None, 3, 64)             0         \n_________________________________________________________________\nlstm_3 (LSTM)                (None, 3, 64)             33024     \n_________________________________________________________________\ndropout_3 (Dropout)          (None, 3, 64)             0         \n_________________________________________________________________\nflatten_1 (Flatten)          (None, 192)               0         \n_________________________________________________________________\ndense_1 (Dense)              (None, 1)                 193       \n=================================================================\nTotal params: 92,865\nTrainable params: 92,865\nNon-trainable params: 0\n_________________________________________________________________\n"
    }
   ],
   "source": [
    "# The LSTM design\n",
    "model = Sequential()\n",
    "# First LSTM layer with Dropout \n",
    "model.add(LSTM(64, activation='relu', return_sequences=True, input_shape=(3, 39)))\n",
    "model.add(Dropout(0.5))\n",
    "# Second LSTM layer\n",
    "model.add(LSTM(units=64, activation='relu', return_sequences=True))\n",
    "model.add(Dropout(0.5))\n",
    "# Third LSTM layer\n",
    "model.add(LSTM(units=64, activation='relu', return_sequences=True))\n",
    "model.add(Dropout(0.5))\n",
    "# The output layer\n",
    "\n",
    "model.add(Flatten())\n",
    "model.add(Dense(1))\n",
    "\n",
    "# Compiling the RNN\n",
    "model.compile(optimizer='Adam', loss='mean_absolute_percentage_error')\n",
    "model.summary()"
   ]
  },
  {
   "cell_type": "code",
   "execution_count": 27,
   "metadata": {},
   "outputs": [
    {
     "output_type": "stream",
     "name": "stdout",
     "text": "WARNING:tensorflow:From /Users/derekmcadam/opt/anaconda3/envs/dsi/lib/python3.7/site-packages/tensorflow/python/ops/math_ops.py:3066: to_int32 (from tensorflow.python.ops.math_ops) is deprecated and will be removed in a future version.\nInstructions for updating:\nUse tf.cast instead.\nEpoch 1/20\n928/928 [==============================] - 8s 9ms/step - loss: 37.4581 - val_loss: 60.9059\nEpoch 2/20\n928/928 [==============================] - 7s 8ms/step - loss: 29.2607 - val_loss: 32.2826\nEpoch 3/20\n928/928 [==============================] - 7s 8ms/step - loss: 27.0034 - val_loss: 8.9678\nEpoch 4/20\n928/928 [==============================] - 7s 8ms/step - loss: 25.7683 - val_loss: 11.6867\nEpoch 5/20\n928/928 [==============================] - 7s 8ms/step - loss: 25.3540 - val_loss: 15.5503\nEpoch 6/20\n928/928 [==============================] - 7s 8ms/step - loss: 25.1226 - val_loss: 8.7547\nEpoch 7/20\n928/928 [==============================] - 8s 9ms/step - loss: 24.7542 - val_loss: 14.8988\nEpoch 8/20\n928/928 [==============================] - 8s 9ms/step - loss: 24.2884 - val_loss: 31.8229\nEpoch 9/20\n928/928 [==============================] - 9s 9ms/step - loss: 24.2829 - val_loss: 38.8115\nEpoch 10/20\n928/928 [==============================] - 9s 9ms/step - loss: 23.9388 - val_loss: 39.1390\nEpoch 11/20\n928/928 [==============================] - 8s 9ms/step - loss: 23.8918 - val_loss: 34.8798\nEpoch 12/20\n928/928 [==============================] - 8s 9ms/step - loss: 23.5008 - val_loss: 45.1014\nEpoch 13/20\n928/928 [==============================] - 8s 8ms/step - loss: 23.6428 - val_loss: 64.7141\nEpoch 14/20\n125/928 [===>..........................] - ETA: 6s - loss: 25.3986"
    },
    {
     "output_type": "error",
     "ename": "KeyboardInterrupt",
     "evalue": "",
     "traceback": [
      "\u001b[0;31m---------------------------------------------------------------------------\u001b[0m",
      "\u001b[0;31mKeyboardInterrupt\u001b[0m                         Traceback (most recent call last)",
      "\u001b[0;32m<ipython-input-27-3623dbf06055>\u001b[0m in \u001b[0;36m<module>\u001b[0;34m\u001b[0m\n\u001b[1;32m      1\u001b[0m \u001b[0;31m# Fitting to the training set\u001b[0m\u001b[0;34m\u001b[0m\u001b[0;34m\u001b[0m\u001b[0;34m\u001b[0m\u001b[0m\n\u001b[0;32m----> 2\u001b[0;31m \u001b[0mhist\u001b[0m \u001b[0;34m=\u001b[0m \u001b[0mmodel\u001b[0m\u001b[0;34m.\u001b[0m\u001b[0mfit_generator\u001b[0m\u001b[0;34m(\u001b[0m\u001b[0mtrain\u001b[0m\u001b[0;34m,\u001b[0m \u001b[0mvalidation_data\u001b[0m\u001b[0;34m=\u001b[0m\u001b[0;34m(\u001b[0m\u001b[0mtest\u001b[0m\u001b[0;34m)\u001b[0m\u001b[0;34m,\u001b[0m \u001b[0mepochs\u001b[0m\u001b[0;34m=\u001b[0m\u001b[0;36m20\u001b[0m\u001b[0;34m)\u001b[0m\u001b[0;34m\u001b[0m\u001b[0;34m\u001b[0m\u001b[0m\n\u001b[0m",
      "\u001b[0;32m~/opt/anaconda3/envs/dsi/lib/python3.7/site-packages/keras/legacy/interfaces.py\u001b[0m in \u001b[0;36mwrapper\u001b[0;34m(*args, **kwargs)\u001b[0m\n\u001b[1;32m     89\u001b[0m                 warnings.warn('Update your `' + object_name + '` call to the ' +\n\u001b[1;32m     90\u001b[0m                               'Keras 2 API: ' + signature, stacklevel=2)\n\u001b[0;32m---> 91\u001b[0;31m             \u001b[0;32mreturn\u001b[0m \u001b[0mfunc\u001b[0m\u001b[0;34m(\u001b[0m\u001b[0;34m*\u001b[0m\u001b[0margs\u001b[0m\u001b[0;34m,\u001b[0m \u001b[0;34m**\u001b[0m\u001b[0mkwargs\u001b[0m\u001b[0;34m)\u001b[0m\u001b[0;34m\u001b[0m\u001b[0;34m\u001b[0m\u001b[0m\n\u001b[0m\u001b[1;32m     92\u001b[0m         \u001b[0mwrapper\u001b[0m\u001b[0;34m.\u001b[0m\u001b[0m_original_function\u001b[0m \u001b[0;34m=\u001b[0m \u001b[0mfunc\u001b[0m\u001b[0;34m\u001b[0m\u001b[0;34m\u001b[0m\u001b[0m\n\u001b[1;32m     93\u001b[0m         \u001b[0;32mreturn\u001b[0m \u001b[0mwrapper\u001b[0m\u001b[0;34m\u001b[0m\u001b[0;34m\u001b[0m\u001b[0m\n",
      "\u001b[0;32m~/opt/anaconda3/envs/dsi/lib/python3.7/site-packages/keras/engine/training.py\u001b[0m in \u001b[0;36mfit_generator\u001b[0;34m(self, generator, steps_per_epoch, epochs, verbose, callbacks, validation_data, validation_steps, validation_freq, class_weight, max_queue_size, workers, use_multiprocessing, shuffle, initial_epoch)\u001b[0m\n\u001b[1;32m   1730\u001b[0m             \u001b[0muse_multiprocessing\u001b[0m\u001b[0;34m=\u001b[0m\u001b[0muse_multiprocessing\u001b[0m\u001b[0;34m,\u001b[0m\u001b[0;34m\u001b[0m\u001b[0;34m\u001b[0m\u001b[0m\n\u001b[1;32m   1731\u001b[0m             \u001b[0mshuffle\u001b[0m\u001b[0;34m=\u001b[0m\u001b[0mshuffle\u001b[0m\u001b[0;34m,\u001b[0m\u001b[0;34m\u001b[0m\u001b[0;34m\u001b[0m\u001b[0m\n\u001b[0;32m-> 1732\u001b[0;31m             initial_epoch=initial_epoch)\n\u001b[0m\u001b[1;32m   1733\u001b[0m \u001b[0;34m\u001b[0m\u001b[0m\n\u001b[1;32m   1734\u001b[0m     \u001b[0;34m@\u001b[0m\u001b[0minterfaces\u001b[0m\u001b[0;34m.\u001b[0m\u001b[0mlegacy_generator_methods_support\u001b[0m\u001b[0;34m\u001b[0m\u001b[0;34m\u001b[0m\u001b[0m\n",
      "\u001b[0;32m~/opt/anaconda3/envs/dsi/lib/python3.7/site-packages/keras/engine/training_generator.py\u001b[0m in \u001b[0;36mfit_generator\u001b[0;34m(model, generator, steps_per_epoch, epochs, verbose, callbacks, validation_data, validation_steps, validation_freq, class_weight, max_queue_size, workers, use_multiprocessing, shuffle, initial_epoch)\u001b[0m\n\u001b[1;32m    218\u001b[0m                                             \u001b[0msample_weight\u001b[0m\u001b[0;34m=\u001b[0m\u001b[0msample_weight\u001b[0m\u001b[0;34m,\u001b[0m\u001b[0;34m\u001b[0m\u001b[0;34m\u001b[0m\u001b[0m\n\u001b[1;32m    219\u001b[0m                                             \u001b[0mclass_weight\u001b[0m\u001b[0;34m=\u001b[0m\u001b[0mclass_weight\u001b[0m\u001b[0;34m,\u001b[0m\u001b[0;34m\u001b[0m\u001b[0;34m\u001b[0m\u001b[0m\n\u001b[0;32m--> 220\u001b[0;31m                                             reset_metrics=False)\n\u001b[0m\u001b[1;32m    221\u001b[0m \u001b[0;34m\u001b[0m\u001b[0m\n\u001b[1;32m    222\u001b[0m                 \u001b[0mouts\u001b[0m \u001b[0;34m=\u001b[0m \u001b[0mto_list\u001b[0m\u001b[0;34m(\u001b[0m\u001b[0mouts\u001b[0m\u001b[0;34m)\u001b[0m\u001b[0;34m\u001b[0m\u001b[0;34m\u001b[0m\u001b[0m\n",
      "\u001b[0;32m~/opt/anaconda3/envs/dsi/lib/python3.7/site-packages/keras/engine/training.py\u001b[0m in \u001b[0;36mtrain_on_batch\u001b[0;34m(self, x, y, sample_weight, class_weight, reset_metrics)\u001b[0m\n\u001b[1;32m   1512\u001b[0m             \u001b[0mins\u001b[0m \u001b[0;34m=\u001b[0m \u001b[0mx\u001b[0m \u001b[0;34m+\u001b[0m \u001b[0my\u001b[0m \u001b[0;34m+\u001b[0m \u001b[0msample_weights\u001b[0m\u001b[0;34m\u001b[0m\u001b[0;34m\u001b[0m\u001b[0m\n\u001b[1;32m   1513\u001b[0m         \u001b[0mself\u001b[0m\u001b[0;34m.\u001b[0m\u001b[0m_make_train_function\u001b[0m\u001b[0;34m(\u001b[0m\u001b[0;34m)\u001b[0m\u001b[0;34m\u001b[0m\u001b[0;34m\u001b[0m\u001b[0m\n\u001b[0;32m-> 1514\u001b[0;31m         \u001b[0moutputs\u001b[0m \u001b[0;34m=\u001b[0m \u001b[0mself\u001b[0m\u001b[0;34m.\u001b[0m\u001b[0mtrain_function\u001b[0m\u001b[0;34m(\u001b[0m\u001b[0mins\u001b[0m\u001b[0;34m)\u001b[0m\u001b[0;34m\u001b[0m\u001b[0;34m\u001b[0m\u001b[0m\n\u001b[0m\u001b[1;32m   1515\u001b[0m \u001b[0;34m\u001b[0m\u001b[0m\n\u001b[1;32m   1516\u001b[0m         \u001b[0;32mif\u001b[0m \u001b[0mreset_metrics\u001b[0m\u001b[0;34m:\u001b[0m\u001b[0;34m\u001b[0m\u001b[0;34m\u001b[0m\u001b[0m\n",
      "\u001b[0;32m~/opt/anaconda3/envs/dsi/lib/python3.7/site-packages/tensorflow/python/keras/backend.py\u001b[0m in \u001b[0;36m__call__\u001b[0;34m(self, inputs)\u001b[0m\n\u001b[1;32m   3074\u001b[0m \u001b[0;34m\u001b[0m\u001b[0m\n\u001b[1;32m   3075\u001b[0m     fetched = self._callable_fn(*array_vals,\n\u001b[0;32m-> 3076\u001b[0;31m                                 run_metadata=self.run_metadata)\n\u001b[0m\u001b[1;32m   3077\u001b[0m     \u001b[0mself\u001b[0m\u001b[0;34m.\u001b[0m\u001b[0m_call_fetch_callbacks\u001b[0m\u001b[0;34m(\u001b[0m\u001b[0mfetched\u001b[0m\u001b[0;34m[\u001b[0m\u001b[0;34m-\u001b[0m\u001b[0mlen\u001b[0m\u001b[0;34m(\u001b[0m\u001b[0mself\u001b[0m\u001b[0;34m.\u001b[0m\u001b[0m_fetches\u001b[0m\u001b[0;34m)\u001b[0m\u001b[0;34m:\u001b[0m\u001b[0;34m]\u001b[0m\u001b[0;34m)\u001b[0m\u001b[0;34m\u001b[0m\u001b[0;34m\u001b[0m\u001b[0m\n\u001b[1;32m   3078\u001b[0m     return nest.pack_sequence_as(self._outputs_structure,\n",
      "\u001b[0;32m~/opt/anaconda3/envs/dsi/lib/python3.7/site-packages/tensorflow/python/client/session.py\u001b[0m in \u001b[0;36m__call__\u001b[0;34m(self, *args, **kwargs)\u001b[0m\n\u001b[1;32m   1437\u001b[0m           ret = tf_session.TF_SessionRunCallable(\n\u001b[1;32m   1438\u001b[0m               \u001b[0mself\u001b[0m\u001b[0;34m.\u001b[0m\u001b[0m_session\u001b[0m\u001b[0;34m.\u001b[0m\u001b[0m_session\u001b[0m\u001b[0;34m,\u001b[0m \u001b[0mself\u001b[0m\u001b[0;34m.\u001b[0m\u001b[0m_handle\u001b[0m\u001b[0;34m,\u001b[0m \u001b[0margs\u001b[0m\u001b[0;34m,\u001b[0m \u001b[0mstatus\u001b[0m\u001b[0;34m,\u001b[0m\u001b[0;34m\u001b[0m\u001b[0;34m\u001b[0m\u001b[0m\n\u001b[0;32m-> 1439\u001b[0;31m               run_metadata_ptr)\n\u001b[0m\u001b[1;32m   1440\u001b[0m         \u001b[0;32mif\u001b[0m \u001b[0mrun_metadata\u001b[0m\u001b[0;34m:\u001b[0m\u001b[0;34m\u001b[0m\u001b[0;34m\u001b[0m\u001b[0m\n\u001b[1;32m   1441\u001b[0m           \u001b[0mproto_data\u001b[0m \u001b[0;34m=\u001b[0m \u001b[0mtf_session\u001b[0m\u001b[0;34m.\u001b[0m\u001b[0mTF_GetBuffer\u001b[0m\u001b[0;34m(\u001b[0m\u001b[0mrun_metadata_ptr\u001b[0m\u001b[0;34m)\u001b[0m\u001b[0;34m\u001b[0m\u001b[0;34m\u001b[0m\u001b[0m\n",
      "\u001b[0;31mKeyboardInterrupt\u001b[0m: "
     ]
    }
   ],
   "source": [
    "# Fitting to the training set\n",
    "hist = model.fit_generator(train, validation_data=(test), epochs=20)"
   ]
  },
  {
   "cell_type": "code",
   "execution_count": null,
   "metadata": {},
   "outputs": [],
   "source": [
    "\n",
    "plt.style.use('ggplot')\n",
    "plt.plot(hist.history['loss'], label='Train loss')\n",
    "plt.plot(hist.history['val_loss'], label='Test loss')\n",
    "plt.title('Syria Mean Absolute Percentage Error')\n",
    "plt.xlabel('Epochs')\n",
    "plt.ylabel('Percentage Error')\n",
    "plt.legend()\n",
    "plt.savefig('imgs/syrialoss.jpeg');"
   ]
  },
  {
   "cell_type": "code",
   "execution_count": null,
   "metadata": {},
   "outputs": [],
   "source": [
    "syria_preds = model.predict(test)"
   ]
  },
  {
   "cell_type": "code",
   "execution_count": null,
   "metadata": {},
   "outputs": [],
   "source": [
    "plt.style.use('ggplot')"
   ]
  },
  {
   "cell_type": "code",
   "execution_count": null,
   "metadata": {},
   "outputs": [],
   "source": [
    "def plot_predictions(test,predicted):\n",
    "    plt.plot(test, label='True Values')\n",
    "    plt.plot(predicted, label='Predicted Values')\n",
    "    plt.title('Syria Forecast')\n",
    "    plt.xlabel('Time')\n",
    "    plt.ylabel('Weekly Count of Events')\n",
    "    plt.legend()\n",
    "    plt.savefig('imgs/syriaforecast.jpeg');"
   ]
  },
  {
   "cell_type": "code",
   "execution_count": null,
   "metadata": {},
   "outputs": [],
   "source": [
    "plot_predictions(y_test.values, syria_preds)"
   ]
  },
  {
   "cell_type": "code",
   "execution_count": 73,
   "metadata": {},
   "outputs": [
    {
     "output_type": "execute_result",
     "data": {
      "text/plain": "(16492,)"
     },
     "metadata": {},
     "execution_count": 73
    }
   ],
   "source": [
    "y_test.shape"
   ]
  },
  {
   "cell_type": "code",
   "execution_count": 65,
   "metadata": {},
   "outputs": [
    {
     "output_type": "execute_result",
     "data": {
      "text/plain": "16491"
     },
     "metadata": {},
     "execution_count": 65
    }
   ],
   "source": [
    "len(preds)"
   ]
  },
  {
   "cell_type": "code",
   "execution_count": null,
   "metadata": {},
   "outputs": [],
   "source": []
  }
 ],
 "metadata": {
  "language_info": {
   "codemirror_mode": {
    "name": "ipython",
    "version": 3
   },
   "file_extension": ".py",
   "mimetype": "text/x-python",
   "name": "python",
   "nbconvert_exporter": "python",
   "pygments_lexer": "ipython3",
   "version": "3.7.7-final"
  },
  "orig_nbformat": 2,
  "kernelspec": {
   "name": "python37764bitdsicondaddfe0c05640c4e1581da44e0f6b96ae5",
   "display_name": "Python 3.7.7 64-bit ('dsi': conda)"
  }
 },
 "nbformat": 4,
 "nbformat_minor": 2
}