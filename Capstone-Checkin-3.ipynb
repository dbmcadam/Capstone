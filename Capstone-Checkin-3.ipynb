{
 "cells": [
  {
   "cell_type": "markdown",
   "metadata": {},
   "source": [
    "## Capstone Check-in 3\n",
    "---"
   ]
  },
  {
   "cell_type": "markdown",
   "metadata": {},
   "source": [
    "- I have collected three years of social unrest event from the [ACLED database](https://acleddata.com/#/dashboard), [TOR metrics](https://metrics.torproject.org/userstats-relay-country.html) showcasing anonymous internet usage, and macroeconomic indicators from [theglobaleconomy.com](https://www.theglobaleconomy.com/download-data.php)\n",
    "\n",
    "#### Setbacks\n",
    "- Investing $50 into a Trading Economics was disappointing.  More missing data that useful data & not as extensive as the globaleconomy.com\n",
    "\n",
    "#### Countries Investigating:\n",
    " - Egypt\n",
    " - Iraq\n",
    " - Jordan\n",
    " - Lebanon\n",
    " - Saudi Arabia\n",
    " - Syria\n",
    "\n",
    "#### Next Steps \n",
    "\n",
    "- Compile data into one dataframe\n",
    "- Perform EDA\n",
    "- Missing Value Imputation\n",
    "- Time Series Analysis\n",
    "\n"
   ]
  },
  {
   "cell_type": "markdown",
   "metadata": {},
   "source": []
  }
 ],
 "metadata": {
  "language_info": {
   "codemirror_mode": {
    "name": "ipython",
    "version": 3
   },
   "file_extension": ".py",
   "mimetype": "text/x-python",
   "name": "python",
   "nbconvert_exporter": "python",
   "pygments_lexer": "ipython3",
   "version": 3
  },
  "orig_nbformat": 2
 },
 "nbformat": 4,
 "nbformat_minor": 2
}