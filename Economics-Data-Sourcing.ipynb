{
 "cells": [
  {
   "cell_type": "code",
   "execution_count": 1,
   "metadata": {},
   "outputs": [],
   "source": [
    "import quandl\n",
    "import pandas as pd\n",
    "import requests\n",
    "quandl.ApiConfig.api_key = 'vniduHCZR4kzi7nqs1wS'"
   ]
  },
  {
   "cell_type": "code",
   "execution_count": 2,
   "metadata": {},
   "outputs": [],
   "source": [
    "te = pd.read_csv('~/downloads/SGE_20200527.csv', header=None)"
   ]
  },
  {
   "cell_type": "code",
   "execution_count": 3,
   "metadata": {},
   "outputs": [
    {
     "output_type": "execute_result",
     "data": {
      "text/plain": "        0           1      2\n0  ABWBOT  2000-03-31 -278.5\n1  ABWBOT  2000-06-30 -274.5\n2  ABWBOT  2000-09-30 -316.1\n3  ABWBOT  2000-12-31 -316.4\n4  ABWBOT  2001-03-31 -279.0",
      "text/html": "<div>\n<style scoped>\n    .dataframe tbody tr th:only-of-type {\n        vertical-align: middle;\n    }\n\n    .dataframe tbody tr th {\n        vertical-align: top;\n    }\n\n    .dataframe thead th {\n        text-align: right;\n    }\n</style>\n<table border=\"1\" class=\"dataframe\">\n  <thead>\n    <tr style=\"text-align: right;\">\n      <th></th>\n      <th>0</th>\n      <th>1</th>\n      <th>2</th>\n    </tr>\n  </thead>\n  <tbody>\n    <tr>\n      <th>0</th>\n      <td>ABWBOT</td>\n      <td>2000-03-31</td>\n      <td>-278.5</td>\n    </tr>\n    <tr>\n      <th>1</th>\n      <td>ABWBOT</td>\n      <td>2000-06-30</td>\n      <td>-274.5</td>\n    </tr>\n    <tr>\n      <th>2</th>\n      <td>ABWBOT</td>\n      <td>2000-09-30</td>\n      <td>-316.1</td>\n    </tr>\n    <tr>\n      <th>3</th>\n      <td>ABWBOT</td>\n      <td>2000-12-31</td>\n      <td>-316.4</td>\n    </tr>\n    <tr>\n      <th>4</th>\n      <td>ABWBOT</td>\n      <td>2001-03-31</td>\n      <td>-279.0</td>\n    </tr>\n  </tbody>\n</table>\n</div>"
     },
     "metadata": {},
     "execution_count": 3
    }
   ],
   "source": [
    "te.head()"
   ]
  },
  {
   "cell_type": "code",
   "execution_count": 4,
   "metadata": {},
   "outputs": [],
   "source": [
    "te.rename(columns={0:'indicator', 1:'date', 2:'value'}, inplace=True)"
   ]
  },
  {
   "cell_type": "code",
   "execution_count": 5,
   "metadata": {},
   "outputs": [
    {
     "output_type": "stream",
     "name": "stdout",
     "text": "<class 'pandas.core.frame.DataFrame'>\nRangeIndex: 2602343 entries, 0 to 2602342\nData columns (total 3 columns):\n #   Column     Dtype  \n---  ------     -----  \n 0   indicator  object \n 1   date       object \n 2   value      float64\ndtypes: float64(1), object(2)\nmemory usage: 59.6+ MB\n"
    }
   ],
   "source": [
    "te.info()"
   ]
  },
  {
   "cell_type": "code",
   "execution_count": 6,
   "metadata": {},
   "outputs": [
    {
     "output_type": "execute_result",
     "data": {
      "text/plain": "  indicator        date  value\n0    ABWBOT  2000-03-31 -278.5\n1    ABWBOT  2000-06-30 -274.5\n2    ABWBOT  2000-09-30 -316.1\n3    ABWBOT  2000-12-31 -316.4\n4    ABWBOT  2001-03-31 -279.0",
      "text/html": "<div>\n<style scoped>\n    .dataframe tbody tr th:only-of-type {\n        vertical-align: middle;\n    }\n\n    .dataframe tbody tr th {\n        vertical-align: top;\n    }\n\n    .dataframe thead th {\n        text-align: right;\n    }\n</style>\n<table border=\"1\" class=\"dataframe\">\n  <thead>\n    <tr style=\"text-align: right;\">\n      <th></th>\n      <th>indicator</th>\n      <th>date</th>\n      <th>value</th>\n    </tr>\n  </thead>\n  <tbody>\n    <tr>\n      <th>0</th>\n      <td>ABWBOT</td>\n      <td>2000-03-31</td>\n      <td>-278.5</td>\n    </tr>\n    <tr>\n      <th>1</th>\n      <td>ABWBOT</td>\n      <td>2000-06-30</td>\n      <td>-274.5</td>\n    </tr>\n    <tr>\n      <th>2</th>\n      <td>ABWBOT</td>\n      <td>2000-09-30</td>\n      <td>-316.1</td>\n    </tr>\n    <tr>\n      <th>3</th>\n      <td>ABWBOT</td>\n      <td>2000-12-31</td>\n      <td>-316.4</td>\n    </tr>\n    <tr>\n      <th>4</th>\n      <td>ABWBOT</td>\n      <td>2001-03-31</td>\n      <td>-279.0</td>\n    </tr>\n  </tbody>\n</table>\n</div>"
     },
     "metadata": {},
     "execution_count": 6
    }
   ],
   "source": [
    "te.head()"
   ]
  },
  {
   "cell_type": "code",
   "execution_count": 7,
   "metadata": {},
   "outputs": [],
   "source": [
    "country_codes = [\n",
    "'SGE/EGYCPI',\n",
    "'EGYCPIC',\n",
    "'EGYEDBT',\n",
    "'EGYFDI',\n",
    "'EGYGPCP',\n",
    "'EGYIR',\n",
    "'EGYUNP',\n",
    "'IRQCPI',\n",
    "'IRQCPIC',\n",
    "'IRQGPCP',\n",
    "'IRQIR',\n",
    "'JORCPI',\n",
    "'JORCPIC',\n",
    "'JOREDBT',\n",
    "'JORFDI',\n",
    "'JORGPCP',\n",
    "'JORIR',\n",
    "'LBNCPI',\n",
    "'LBNCPIC',\n",
    "'LBNEDBT',\n",
    "'LBNFDI',\n",
    "'LBNGPCP',\n",
    "'LBNIR',\n",
    "'SAUCPI',\n",
    "'SAUCPIC',\n",
    "'SAUFDI',\n",
    "'SAUGPCP',\n",
    "'SAUIR',\n",
    "'SYRCPI',\n",
    "'SYRCPIC',\n",
    "'SYRGPCP'\n",
    "]"
   ]
  },
  {
   "cell_type": "code",
   "execution_count": 8,
   "metadata": {},
   "outputs": [],
   "source": [
    "egycpi = te.loc[(te['indicator'] == 'EGYCPI') & \n",
    "        (te['date'] >= '2017-01-01') &\n",
    "        (te['date'] <= '2020-01-01'), :] \n",
    "\n",
    "egycpic = te.loc[(te['indicator'] == 'EGYCPIC') & \n",
    "        (te['date'] >= '2017-01-01') &\n",
    "        (te['date'] <= '2020-01-01'), :] \n",
    "\n",
    "egyedbt = te.loc[(te['indicator'] == 'EGYEDBT') & \n",
    "        (te['date'] >= '2017-01-01') &\n",
    "        (te['date'] <= '2020-01-01'), :] \n",
    "\n",
    "egygpcp = te.loc[(te['indicator'] == 'EGYGPCP') & \n",
    "        (te['date'] >= '2017-01-01') &\n",
    "        (te['date'] <= '2020-01-01'), :]  \n",
    "        \n",
    "egyir = te.loc[(te['indicator'] == 'EGYIR') & \n",
    "        (te['date'] >= '2017-01-01') &\n",
    "        (te['date'] <= '2020-01-01'), :] \n",
    "\n",
    "egyunr = te.loc[(te['indicator'] == 'EGYUNR') & \n",
    "        (te['date'] >= '2017-01-01') &\n",
    "        (te['date'] <= '2020-01-01'), :]\n",
    "\n",
    "irqcpi = te.loc[(te['indicator'] == 'IRQCPI') & \n",
    "        (te['date'] >= '2017-01-01') &\n",
    "        (te['date'] <= '2020-01-01'), :]\n",
    "\n",
    "irqcpic = te.loc[(te['indicator'] == 'IRQCPIC') & \n",
    "        (te['date'] >= '2017-01-01') &\n",
    "        (te['date'] <= '2020-01-01'), :]\n",
    "       \n",
    "irqgpcp = te.loc[(te['indicator'] == 'IRQGPCP') & \n",
    "        (te['date'] >= '2017-01-01') &\n",
    "        (te['date'] <= '2020-01-01'), :]\n",
    "\n",
    "irqir = te.loc[(te['indicator'] == 'IRQIR') & \n",
    "        (te['date'] >= '2017-01-01') &\n",
    "        (te['date'] <= '2020-01-01'), :] \n",
    "\n",
    "jorcpi = te.loc[(te['indicator'] == 'JORCPI') & \n",
    "        (te['date'] >= '2017-01-01') &\n",
    "        (te['date'] <= '2020-01-01'), :] \n",
    "\n",
    "jorcpic = te.loc[(te['indicator'] == 'JORCPIC') & \n",
    "        (te['date'] >= '2017-01-01') &\n",
    "        (te['date'] <= '2020-01-01'), :] \n",
    "\n",
    "joredbt = te.loc[(te['indicator'] == 'JOREDBT') & \n",
    "        (te['date'] >= '2017-01-01') &\n",
    "        (te['date'] <= '2020-01-01'), :] \n",
    "\n",
    "\n",
    "jorgpcp = te.loc[(te['indicator'] == 'JORGPCP') & \n",
    "        (te['date'] >= '2017-01-01') &\n",
    "        (te['date'] <= '2020-01-01'), :] \n",
    "        \n",
    "jorir = te.loc[(te['indicator'] == 'JORIR') & \n",
    "        (te['date'] >= '2017-01-01') &\n",
    "        (te['date'] <= '2020-01-01'), :] \n",
    "\n",
    "lbncpi = te.loc[(te['indicator'] == 'LBNCPI') & \n",
    "        (te['date'] >= '2017-01-01') &\n",
    "        (te['date'] <= '2020-01-01'), :] \n",
    "\n",
    "lbncpic = te.loc[(te['indicator'] == 'LBNCPIC') & \n",
    "        (te['date'] >= '2017-01-01') &\n",
    "        (te['date'] <= '2020-01-01'), :] \n",
    "\n",
    "lbnedbt = te.loc[(te['indicator'] == 'LBNEDBT') & \n",
    "        (te['date'] >= '2017-01-01') &\n",
    "        (te['date'] <= '2020-01-01'), :] \n",
    "\n",
    "lbngpcp = te.loc[(te['indicator'] == 'LBNGPCP') & \n",
    "        (te['date'] >= '2017-01-01') &\n",
    "        (te['date'] <= '2020-01-01'), :] \n",
    "        \n",
    "lbnir = te.loc[(te['indicator'] == 'LBNIR') & \n",
    "        (te['date'] >= '2017-01-01') &\n",
    "        (te['date'] <= '2020-01-01'), :] \n",
    "\n",
    "saucpi = te.loc[(te['indicator'] == 'SAUCPI') & \n",
    "        (te['date'] >= '2017-01-01') &\n",
    "        (te['date'] <= '2020-01-01'), :] \n",
    "\n",
    "saucpic = te.loc[(te['indicator'] == 'SAUCPIC') & \n",
    "        (te['date'] >= '2017-01-01') &\n",
    "        (te['date'] <= '2020-01-01'), :] \n",
    "\n",
    "saugpcp = te.loc[(te['indicator'] == 'SAUGPCP') & \n",
    "        (te['date'] >= '2017-01-01') &\n",
    "        (te['date'] <= '2020-01-01'), :] \n",
    "        \n",
    "sauir = te.loc[(te['indicator'] == 'SAUIR') & \n",
    "        (te['date'] >= '2017-01-01') &\n",
    "        (te['date'] <= '2020-01-01'), :] \n",
    "\n",
    "syrcpi = te.loc[(te['indicator'] == 'SYRCPI') & \n",
    "        (te['date'] >= '2017-01-01') &\n",
    "        (te['date'] <= '2020-01-01'), :] \n",
    "\n",
    "syrcpic = te.loc[(te['indicator'] == 'SYRCPIC') & \n",
    "        (te['date'] >= '2017-01-01') &\n",
    "        (te['date'] <= '2020-01-01'), :] \n",
    "\n",
    "\n",
    "\n"
   ]
  },
  {
   "cell_type": "code",
   "execution_count": 9,
   "metadata": {},
   "outputs": [
    {
     "output_type": "execute_result",
     "data": {
      "text/plain": "       indicator        date  value\n821316    EGYUNR  2017-03-31  12.00\n821317    EGYUNR  2017-06-30  11.98\n821318    EGYUNR  2017-09-30  11.90\n821319    EGYUNR  2017-12-31  11.30\n821320    EGYUNR  2018-03-31  10.60\n821321    EGYUNR  2018-06-30   9.90\n821322    EGYUNR  2018-09-30  10.00\n821323    EGYUNR  2018-12-31   8.90\n821324    EGYUNR  2019-03-31   8.10\n821325    EGYUNR  2019-06-30   7.50\n821326    EGYUNR  2019-09-30   7.80\n821327    EGYUNR  2019-12-31   8.00",
      "text/html": "<div>\n<style scoped>\n    .dataframe tbody tr th:only-of-type {\n        vertical-align: middle;\n    }\n\n    .dataframe tbody tr th {\n        vertical-align: top;\n    }\n\n    .dataframe thead th {\n        text-align: right;\n    }\n</style>\n<table border=\"1\" class=\"dataframe\">\n  <thead>\n    <tr style=\"text-align: right;\">\n      <th></th>\n      <th>indicator</th>\n      <th>date</th>\n      <th>value</th>\n    </tr>\n  </thead>\n  <tbody>\n    <tr>\n      <th>821316</th>\n      <td>EGYUNR</td>\n      <td>2017-03-31</td>\n      <td>12.00</td>\n    </tr>\n    <tr>\n      <th>821317</th>\n      <td>EGYUNR</td>\n      <td>2017-06-30</td>\n      <td>11.98</td>\n    </tr>\n    <tr>\n      <th>821318</th>\n      <td>EGYUNR</td>\n      <td>2017-09-30</td>\n      <td>11.90</td>\n    </tr>\n    <tr>\n      <th>821319</th>\n      <td>EGYUNR</td>\n      <td>2017-12-31</td>\n      <td>11.30</td>\n    </tr>\n    <tr>\n      <th>821320</th>\n      <td>EGYUNR</td>\n      <td>2018-03-31</td>\n      <td>10.60</td>\n    </tr>\n    <tr>\n      <th>821321</th>\n      <td>EGYUNR</td>\n      <td>2018-06-30</td>\n      <td>9.90</td>\n    </tr>\n    <tr>\n      <th>821322</th>\n      <td>EGYUNR</td>\n      <td>2018-09-30</td>\n      <td>10.00</td>\n    </tr>\n    <tr>\n      <th>821323</th>\n      <td>EGYUNR</td>\n      <td>2018-12-31</td>\n      <td>8.90</td>\n    </tr>\n    <tr>\n      <th>821324</th>\n      <td>EGYUNR</td>\n      <td>2019-03-31</td>\n      <td>8.10</td>\n    </tr>\n    <tr>\n      <th>821325</th>\n      <td>EGYUNR</td>\n      <td>2019-06-30</td>\n      <td>7.50</td>\n    </tr>\n    <tr>\n      <th>821326</th>\n      <td>EGYUNR</td>\n      <td>2019-09-30</td>\n      <td>7.80</td>\n    </tr>\n    <tr>\n      <th>821327</th>\n      <td>EGYUNR</td>\n      <td>2019-12-31</td>\n      <td>8.00</td>\n    </tr>\n  </tbody>\n</table>\n</div>"
     },
     "metadata": {},
     "execution_count": 9
    }
   ],
   "source": [
    "te.loc[(te['indicator'] == 'EGYUNR') & \n",
    "        (te['date'] >= '2017-01-01') &\n",
    "        (te['date'] <= '2020-01-01'), :] "
   ]
  },
  {
   "cell_type": "code",
   "execution_count": 10,
   "metadata": {},
   "outputs": [
    {
     "output_type": "execute_result",
     "data": {
      "text/plain": "(12, 3)"
     },
     "metadata": {},
     "execution_count": 10
    }
   ],
   "source": [
    "egyunr.shape"
   ]
  },
  {
   "cell_type": "code",
   "execution_count": 11,
   "metadata": {},
   "outputs": [],
   "source": [
    "irqunr = pd.DataFrame(columns={'indicator', 'date', 'value'})"
   ]
  },
  {
   "cell_type": "code",
   "execution_count": 12,
   "metadata": {},
   "outputs": [
    {
     "output_type": "execute_result",
     "data": {
      "text/plain": "(3, 3)"
     },
     "metadata": {},
     "execution_count": 12
    }
   ],
   "source": [
    "irqunr['date'] = ['2017-12-31', '2018-12-31', '2019-12-31']\n",
    "# irqunr['values'] = \n",
    "irqunr.shape"
   ]
  },
  {
   "cell_type": "code",
   "execution_count": 19,
   "metadata": {},
   "outputs": [],
   "source": [
    "irqunr['indicator'] = 'IRQUNR'\n",
    "irqunr['value'][0] = 13.02\n",
    "irqunr['value'][1] = 12.86\n",
    "irqunr['value'][2] = 12.82"
   ]
  },
  {
   "cell_type": "code",
   "execution_count": 20,
   "metadata": {},
   "outputs": [
    {
     "output_type": "execute_result",
     "data": {
      "text/plain": "         date indicator  value\n0  2017-12-31    IRQUNR  13.02\n1  2018-12-31    IRQUNR  12.86\n2  2019-12-31    IRQUNR  12.82",
      "text/html": "<div>\n<style scoped>\n    .dataframe tbody tr th:only-of-type {\n        vertical-align: middle;\n    }\n\n    .dataframe tbody tr th {\n        vertical-align: top;\n    }\n\n    .dataframe thead th {\n        text-align: right;\n    }\n</style>\n<table border=\"1\" class=\"dataframe\">\n  <thead>\n    <tr style=\"text-align: right;\">\n      <th></th>\n      <th>date</th>\n      <th>indicator</th>\n      <th>value</th>\n    </tr>\n  </thead>\n  <tbody>\n    <tr>\n      <th>0</th>\n      <td>2017-12-31</td>\n      <td>IRQUNR</td>\n      <td>13.02</td>\n    </tr>\n    <tr>\n      <th>1</th>\n      <td>2018-12-31</td>\n      <td>IRQUNR</td>\n      <td>12.86</td>\n    </tr>\n    <tr>\n      <th>2</th>\n      <td>2019-12-31</td>\n      <td>IRQUNR</td>\n      <td>12.82</td>\n    </tr>\n  </tbody>\n</table>\n</div>"
     },
     "metadata": {},
     "execution_count": 20
    }
   ],
   "source": [
    "irqunr"
   ]
  },
  {
   "cell_type": "code",
   "execution_count": 33,
   "metadata": {},
   "outputs": [],
   "source": [
    "dfs = [egycpi, \n",
    "egycpic,\n",
    "egyedbt,\n",
    "egygpcp,  \n",
    "egyir, \n",
    "egyunp,\n",
    "irqcpi,\n",
    "irqcpic,\n",
    "irqgpcp,\n",
    "irqir, \n",
    "jorcpi,\n",
    "jorcpic,\n",
    "joredbt,\n",
    "jorgpcp,  \n",
    "jorir,\n",
    "lbncpi,\n",
    "lbncpic, \n",
    "lbnedbt,\n",
    "lbngpcp,  \n",
    "lbnir, \n",
    "saucpi,\n",
    "saucpic,\n",
    "saugpcp, \n",
    "sauir,\n",
    "syrcpi,\n",
    "syrcpic]"
   ]
  },
  {
   "cell_type": "code",
   "execution_count": 35,
   "metadata": {
    "tags": [
     "outputPrepend"
    ]
   },
   "outputs": [
    {
     "output_type": "stream",
     "name": "stdout",
     "text": "36\n36\n12\n12\n2\n37\n12\n36\n36\n2\n35\n36\n36\n3\n11\n2\n36\n36\n36\n36\n33\n2\n36\n36\n36\n12\n2\n37\n24\n24\n"
    }
   ],
   "source": [
    "for i in dfs:\n",
    "    print(i.shape[0])"
   ]
  },
  {
   "cell_type": "markdown",
   "metadata": {},
   "source": [
    "Country Codes:\n",
    "\n",
    "- Egypt: EGY\n",
    "- Saudi Arabia: SAU\n",
    "- Lebanon: LBN\n",
    "- Jordan:JOR\n",
    "- Iraq: IRQ\n",
    "- Syria: SYR"
   ]
  },
  {
   "cell_type": "markdown",
   "metadata": {},
   "source": [
    "Indicators:\n",
    "- CPI: Consumer Price Index\n",
    "- CPIC: Inflation Rate\n",
    "- FDI: Foreign Direct Investment\n",
    "- GDCP: Gross Domestic Product Per Capita (PPP)\n",
    "- IR: Interest Rate\n",
    "- UNP: Unemployment Rate\n",
    "- EDBT: External Debt"
   ]
  },
  {
   "cell_type": "code",
   "execution_count": 7,
   "metadata": {},
   "outputs": [],
   "source": [
    "countries = ['EGY', 'SAU', 'LBN', 'JOR', 'IRQ', 'SYR']\n",
    "indicators = [\n",
    "'CPI'\n",
    "'CPIC'\n",
    "'EDBT'\n",
    "'FDI'\n",
    "'GPCP'\n",
    "'IR'\n",
    "'UNP'\n",
    "]"
   ]
  }
 ],
 "metadata": {
  "language_info": {
   "codemirror_mode": {
    "name": "ipython",
    "version": 3
   },
   "file_extension": ".py",
   "mimetype": "text/x-python",
   "name": "python",
   "nbconvert_exporter": "python",
   "pygments_lexer": "ipython3",
   "version": "3.7.7-final"
  },
  "orig_nbformat": 2,
  "kernelspec": {
   "name": "python37764bitdsicondaddfe0c05640c4e1581da44e0f6b96ae5",
   "display_name": "Python 3.7.7 64-bit ('dsi': conda)"
  }
 },
 "nbformat": 4,
 "nbformat_minor": 2
}