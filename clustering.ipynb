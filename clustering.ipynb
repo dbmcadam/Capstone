{
 "cells": [
  {
   "cell_type": "markdown",
   "metadata": {},
   "source": [
    "### Clustering"
   ]
  },
  {
   "cell_type": "code",
   "execution_count": 1,
   "metadata": {},
   "outputs": [],
   "source": [
    "# Importing libraries\n",
    "import pandas as pd\n",
    "import numpy as np \n",
    "import matplotlib.pyplot as plt \n",
    "import seaborn as sns \n",
    "import plotly.express as px\n",
    "\n",
    "from sklearn.cluster import DBSCAN, OPTICS\n",
    "\n",
    "from geopy.distance import great_circle\n",
    "from shapely.geometry import MultiPoint\n",
    "import geopandas as gpd\n",
    "import geopy\n",
    "from geopy.geocoders import Nominatim\n",
    "from geopy.extra.rate_limiter import RateLimiter\n",
    "\n",
    "\n",
    "pd.options.display.max_rows = 999\n",
    "pd.options.display.max_columns = 999"
   ]
  },
  {
   "cell_type": "code",
   "execution_count": 2,
   "metadata": {},
   "outputs": [],
   "source": [
    "conflict = pd.read_csv('data/conflict-econ-tor.csv')"
   ]
  },
  {
   "cell_type": "code",
   "execution_count": 3,
   "metadata": {},
   "outputs": [
    {
     "output_type": "execute_result",
     "data": {
      "text/plain": "   event_date  year                  event_type  \\\n0  2017-01-01  2017  Explosions/Remote violence   \n1  2017-01-01  2017                     Battles   \n2  2017-01-01  2017  Explosions/Remote violence   \n3  2017-01-01  2017  Explosions/Remote violence   \n4  2017-01-01  2017                     Battles   \n\n                  sub_event_type  \\\n0  Remote explosive/landmine/IED   \n1                    Armed clash   \n2               Air/drone strike   \n3  Remote explosive/landmine/IED   \n4                    Armed clash   \n\n                                              actor1 assoc_actor_1  inter1  \\\n0                   Unidentified Armed Group (Egypt)       unknown       3   \n1  Military Forces of Iraq (2014-2018) Popular Mo...       unknown       1   \n2                Military Forces of Iraq (2014-2018)       unknown       1   \n3                               Islamic State (Iraq)       unknown       2   \n4                               Islamic State (Iraq)       unknown       2   \n\n                              actor2 assoc_actor_2  inter2  interaction  \\\n0                            unknown       unknown       0           30   \n1               Islamic State (Iraq)       unknown       2           12   \n2               Islamic State (Iraq)       unknown       2           12   \n3                   Civilians (Iraq)       unknown       7           27   \n4  Police Forces of Iraq (2014-2018)       unknown       1           12   \n\n            region country  admin1     admin2   admin3         location  \\\n0  Northern Africa   Egypt   Cairo   Al Maadi  unknown   Cairo-Al Maadi   \n1      Middle East    Iraq   Anbar       Anah  unknown  Aradi as Sakrah   \n2      Middle East    Iraq  Ninewa      Mosul  unknown            Mosul   \n3      Middle East    Iraq   Najaf      Najaf  unknown            Najaf   \n4      Middle East    Iraq   Najaf  Manathera  unknown      Al Mishkhab   \n\n   latitude  longitude  geo_precision  fatalities   timestamp MA/CU  users  \\\n0   29.9667    31.2500              1           0  1578503454    MA    564   \n1   34.1915    42.0313              3           6  1567462133    MA     46   \n2   36.3350    43.1189              1          20  1572403769    MA     46   \n3   32.0259    44.3462              2           6  1572403770    MA     46   \n4   31.8044    44.4893              1           0  1572403770    MA     46   \n\n   frac  month  missing_data  Exchange rate USD  Unemployment rate  \\\n0    56      1           0.0            18.6331              11.74   \n1    56      1           0.0          1181.5465              13.02   \n2    56      1           0.0          1181.5465              13.02   \n3    56      1           0.0          1181.5465              13.02   \n4    56      1           0.0          1181.5465              13.02   \n\n   Rule of law index (-2.5 weak; 2.5 strong)  \\\n0                                      -0.54   \n1                                      -1.64   \n2                                      -1.64   \n3                                      -1.64   \n4                                      -1.64   \n\n   Government effectiveness index (-2.5 weak; 2.5 strong)  \\\n0                                              -0.62        \n1                                              -1.26        \n2                                              -1.26        \n3                                              -1.26        \n4                                              -1.26        \n\n   Control of corruption (-2.5 weak; 2.5 strong)  \\\n0                                          -0.55   \n1                                          -1.37   \n2                                          -1.37   \n3                                          -1.37   \n4                                          -1.37   \n\n   Regulatory quality index (-2.5 weak; 2.5 strong)  \\\n0                                             -0.86   \n1                                             -1.20   \n2                                             -1.20   \n3                                             -1.20   \n4                                             -1.20   \n\n   Voice and accountability index (-2.5 weak; 2.5 strong)  \\\n0                                              -1.25        \n1                                              -1.05        \n2                                              -1.05        \n3                                              -1.05        \n4                                              -1.05        \n\n   Political stability index (-2.5 weak; 2.5 strong)  \\\n0                                              -1.42   \n1                                              -2.31   \n2                                              -2.31   \n3                                              -2.31   \n4                                              -2.31   \n\n   Corruption Perceptions Index 100 = no corruption  \\\n0                                                32   \n1                                                18   \n2                                                18   \n3                                                18   \n4                                                18   \n\n   Political rights index 7 (weak) - 1 (strong)  \\\n0                                             6   \n1                                             5   \n2                                             5   \n3                                             5   \n4                                             5   \n\n   Civil liberties index 7 (weak) - 1 (strong)   \\\n0                                             5   \n1                                             6   \n2                                             6   \n3                                             6   \n4                                             6   \n\n   Short-term political risk (1=low 7=high)  \\\n0                                         4   \n1                                         6   \n2                                         6   \n3                                         6   \n4                                         6   \n\n   Medium/long-term political risk (1=low 7=high)  \\\n0                                               6   \n1                                               7   \n2                                               7   \n3                                               7   \n4                                               7   \n\n   Political violence risk (1=low 7=high)  \\\n0                                       5   \n1                                       7   \n2                                       7   \n3                                       7   \n4                                       7   \n\n   Mobile phone subscribers per 100 people  Property rights index (0-100)  \\\n0                                   106.76                             35   \n1                                    88.98                             37   \n2                                    88.98                             37   \n3                                    88.98                             37   \n4                                    88.98                             37   \n\n   Freedom from corruption index (0-100)  Business freedom index (0-100)  \\\n0                                     33                              67   \n1                                     19                              61   \n2                                     19                              61   \n3                                     19                              61   \n4                                     19                              61   \n\n   Labor freedom index (0-100)  Life expectancy in years  \\\n0                           51                     71.66   \n1                           68                     70.29   \n2                           68                     70.29   \n3                           68                     70.29   \n4                           68                     70.29   \n\n   Fragile state index 0 (low) - 120 (high)  \\\n0                                      89.8   \n1                                     105.4   \n2                                     105.4   \n3                                     105.4   \n4                                     105.4   \n\n   Security threats index 0 (low) - 10 (high)  \\\n0                                         8.1   \n1                                        10.0   \n2                                        10.0   \n3                                        10.0   \n4                                        10.0   \n\n   State legitimacy index 0 (high) - 10 (low)  \\\n0                                         8.2   \n1                                         9.5   \n2                                         9.5   \n3                                         9.5   \n4                                         9.5   \n\n   Public services index 0 (high) - 10 (low)  \\\n0                                        4.9   \n1                                        8.2   \n2                                        8.2   \n3                                        8.2   \n4                                        8.2   \n\n   Human rights and rule of law index 0 (high) - 10 (low)  \\\n0                                                9.8        \n1                                                8.7        \n2                                                8.7        \n3                                                8.7        \n4                                                8.7        \n\n   Refugees and displaced persons index 0 (low) - 10 (high)  \\\n0                                                7.3          \n1                                                9.9          \n2                                                9.9          \n3                                                9.9          \n4                                                9.9          \n\n   Labor force million people  Labor force participation rate  \\\n0                       30.66                           48.01   \n1                        9.77                           42.49   \n2                        9.77                           42.49   \n3                        9.77                           42.49   \n4                        9.77                           42.49   \n\n   Percent urban population  Population density people per square km  \n0                     42.71                                     97.0  \n1                     70.28                                     87.0  \n2                     70.28                                     87.0  \n3                     70.28                                     87.0  \n4                     70.28                                     87.0  ",
      "text/html": "<div>\n<style scoped>\n    .dataframe tbody tr th:only-of-type {\n        vertical-align: middle;\n    }\n\n    .dataframe tbody tr th {\n        vertical-align: top;\n    }\n\n    .dataframe thead th {\n        text-align: right;\n    }\n</style>\n<table border=\"1\" class=\"dataframe\">\n  <thead>\n    <tr style=\"text-align: right;\">\n      <th></th>\n      <th>event_date</th>\n      <th>year</th>\n      <th>event_type</th>\n      <th>sub_event_type</th>\n      <th>actor1</th>\n      <th>assoc_actor_1</th>\n      <th>inter1</th>\n      <th>actor2</th>\n      <th>assoc_actor_2</th>\n      <th>inter2</th>\n      <th>interaction</th>\n      <th>region</th>\n      <th>country</th>\n      <th>admin1</th>\n      <th>admin2</th>\n      <th>admin3</th>\n      <th>location</th>\n      <th>latitude</th>\n      <th>longitude</th>\n      <th>geo_precision</th>\n      <th>fatalities</th>\n      <th>timestamp</th>\n      <th>MA/CU</th>\n      <th>users</th>\n      <th>frac</th>\n      <th>month</th>\n      <th>missing_data</th>\n      <th>Exchange rate USD</th>\n      <th>Unemployment rate</th>\n      <th>Rule of law index (-2.5 weak; 2.5 strong)</th>\n      <th>Government effectiveness index (-2.5 weak; 2.5 strong)</th>\n      <th>Control of corruption (-2.5 weak; 2.5 strong)</th>\n      <th>Regulatory quality index (-2.5 weak; 2.5 strong)</th>\n      <th>Voice and accountability index (-2.5 weak; 2.5 strong)</th>\n      <th>Political stability index (-2.5 weak; 2.5 strong)</th>\n      <th>Corruption Perceptions Index 100 = no corruption</th>\n      <th>Political rights index 7 (weak) - 1 (strong)</th>\n      <th>Civil liberties index 7 (weak) - 1 (strong)</th>\n      <th>Short-term political risk (1=low 7=high)</th>\n      <th>Medium/long-term political risk (1=low 7=high)</th>\n      <th>Political violence risk (1=low 7=high)</th>\n      <th>Mobile phone subscribers per 100 people</th>\n      <th>Property rights index (0-100)</th>\n      <th>Freedom from corruption index (0-100)</th>\n      <th>Business freedom index (0-100)</th>\n      <th>Labor freedom index (0-100)</th>\n      <th>Life expectancy in years</th>\n      <th>Fragile state index 0 (low) - 120 (high)</th>\n      <th>Security threats index 0 (low) - 10 (high)</th>\n      <th>State legitimacy index 0 (high) - 10 (low)</th>\n      <th>Public services index 0 (high) - 10 (low)</th>\n      <th>Human rights and rule of law index 0 (high) - 10 (low)</th>\n      <th>Refugees and displaced persons index 0 (low) - 10 (high)</th>\n      <th>Labor force million people</th>\n      <th>Labor force participation rate</th>\n      <th>Percent urban population</th>\n      <th>Population density people per square km</th>\n    </tr>\n  </thead>\n  <tbody>\n    <tr>\n      <th>0</th>\n      <td>2017-01-01</td>\n      <td>2017</td>\n      <td>Explosions/Remote violence</td>\n      <td>Remote explosive/landmine/IED</td>\n      <td>Unidentified Armed Group (Egypt)</td>\n      <td>unknown</td>\n      <td>3</td>\n      <td>unknown</td>\n      <td>unknown</td>\n      <td>0</td>\n      <td>30</td>\n      <td>Northern Africa</td>\n      <td>Egypt</td>\n      <td>Cairo</td>\n      <td>Al Maadi</td>\n      <td>unknown</td>\n      <td>Cairo-Al Maadi</td>\n      <td>29.9667</td>\n      <td>31.2500</td>\n      <td>1</td>\n      <td>0</td>\n      <td>1578503454</td>\n      <td>MA</td>\n      <td>564</td>\n      <td>56</td>\n      <td>1</td>\n      <td>0.0</td>\n      <td>18.6331</td>\n      <td>11.74</td>\n      <td>-0.54</td>\n      <td>-0.62</td>\n      <td>-0.55</td>\n      <td>-0.86</td>\n      <td>-1.25</td>\n      <td>-1.42</td>\n      <td>32</td>\n      <td>6</td>\n      <td>5</td>\n      <td>4</td>\n      <td>6</td>\n      <td>5</td>\n      <td>106.76</td>\n      <td>35</td>\n      <td>33</td>\n      <td>67</td>\n      <td>51</td>\n      <td>71.66</td>\n      <td>89.8</td>\n      <td>8.1</td>\n      <td>8.2</td>\n      <td>4.9</td>\n      <td>9.8</td>\n      <td>7.3</td>\n      <td>30.66</td>\n      <td>48.01</td>\n      <td>42.71</td>\n      <td>97.0</td>\n    </tr>\n    <tr>\n      <th>1</th>\n      <td>2017-01-01</td>\n      <td>2017</td>\n      <td>Battles</td>\n      <td>Armed clash</td>\n      <td>Military Forces of Iraq (2014-2018) Popular Mo...</td>\n      <td>unknown</td>\n      <td>1</td>\n      <td>Islamic State (Iraq)</td>\n      <td>unknown</td>\n      <td>2</td>\n      <td>12</td>\n      <td>Middle East</td>\n      <td>Iraq</td>\n      <td>Anbar</td>\n      <td>Anah</td>\n      <td>unknown</td>\n      <td>Aradi as Sakrah</td>\n      <td>34.1915</td>\n      <td>42.0313</td>\n      <td>3</td>\n      <td>6</td>\n      <td>1567462133</td>\n      <td>MA</td>\n      <td>46</td>\n      <td>56</td>\n      <td>1</td>\n      <td>0.0</td>\n      <td>1181.5465</td>\n      <td>13.02</td>\n      <td>-1.64</td>\n      <td>-1.26</td>\n      <td>-1.37</td>\n      <td>-1.20</td>\n      <td>-1.05</td>\n      <td>-2.31</td>\n      <td>18</td>\n      <td>5</td>\n      <td>6</td>\n      <td>6</td>\n      <td>7</td>\n      <td>7</td>\n      <td>88.98</td>\n      <td>37</td>\n      <td>19</td>\n      <td>61</td>\n      <td>68</td>\n      <td>70.29</td>\n      <td>105.4</td>\n      <td>10.0</td>\n      <td>9.5</td>\n      <td>8.2</td>\n      <td>8.7</td>\n      <td>9.9</td>\n      <td>9.77</td>\n      <td>42.49</td>\n      <td>70.28</td>\n      <td>87.0</td>\n    </tr>\n    <tr>\n      <th>2</th>\n      <td>2017-01-01</td>\n      <td>2017</td>\n      <td>Explosions/Remote violence</td>\n      <td>Air/drone strike</td>\n      <td>Military Forces of Iraq (2014-2018)</td>\n      <td>unknown</td>\n      <td>1</td>\n      <td>Islamic State (Iraq)</td>\n      <td>unknown</td>\n      <td>2</td>\n      <td>12</td>\n      <td>Middle East</td>\n      <td>Iraq</td>\n      <td>Ninewa</td>\n      <td>Mosul</td>\n      <td>unknown</td>\n      <td>Mosul</td>\n      <td>36.3350</td>\n      <td>43.1189</td>\n      <td>1</td>\n      <td>20</td>\n      <td>1572403769</td>\n      <td>MA</td>\n      <td>46</td>\n      <td>56</td>\n      <td>1</td>\n      <td>0.0</td>\n      <td>1181.5465</td>\n      <td>13.02</td>\n      <td>-1.64</td>\n      <td>-1.26</td>\n      <td>-1.37</td>\n      <td>-1.20</td>\n      <td>-1.05</td>\n      <td>-2.31</td>\n      <td>18</td>\n      <td>5</td>\n      <td>6</td>\n      <td>6</td>\n      <td>7</td>\n      <td>7</td>\n      <td>88.98</td>\n      <td>37</td>\n      <td>19</td>\n      <td>61</td>\n      <td>68</td>\n      <td>70.29</td>\n      <td>105.4</td>\n      <td>10.0</td>\n      <td>9.5</td>\n      <td>8.2</td>\n      <td>8.7</td>\n      <td>9.9</td>\n      <td>9.77</td>\n      <td>42.49</td>\n      <td>70.28</td>\n      <td>87.0</td>\n    </tr>\n    <tr>\n      <th>3</th>\n      <td>2017-01-01</td>\n      <td>2017</td>\n      <td>Explosions/Remote violence</td>\n      <td>Remote explosive/landmine/IED</td>\n      <td>Islamic State (Iraq)</td>\n      <td>unknown</td>\n      <td>2</td>\n      <td>Civilians (Iraq)</td>\n      <td>unknown</td>\n      <td>7</td>\n      <td>27</td>\n      <td>Middle East</td>\n      <td>Iraq</td>\n      <td>Najaf</td>\n      <td>Najaf</td>\n      <td>unknown</td>\n      <td>Najaf</td>\n      <td>32.0259</td>\n      <td>44.3462</td>\n      <td>2</td>\n      <td>6</td>\n      <td>1572403770</td>\n      <td>MA</td>\n      <td>46</td>\n      <td>56</td>\n      <td>1</td>\n      <td>0.0</td>\n      <td>1181.5465</td>\n      <td>13.02</td>\n      <td>-1.64</td>\n      <td>-1.26</td>\n      <td>-1.37</td>\n      <td>-1.20</td>\n      <td>-1.05</td>\n      <td>-2.31</td>\n      <td>18</td>\n      <td>5</td>\n      <td>6</td>\n      <td>6</td>\n      <td>7</td>\n      <td>7</td>\n      <td>88.98</td>\n      <td>37</td>\n      <td>19</td>\n      <td>61</td>\n      <td>68</td>\n      <td>70.29</td>\n      <td>105.4</td>\n      <td>10.0</td>\n      <td>9.5</td>\n      <td>8.2</td>\n      <td>8.7</td>\n      <td>9.9</td>\n      <td>9.77</td>\n      <td>42.49</td>\n      <td>70.28</td>\n      <td>87.0</td>\n    </tr>\n    <tr>\n      <th>4</th>\n      <td>2017-01-01</td>\n      <td>2017</td>\n      <td>Battles</td>\n      <td>Armed clash</td>\n      <td>Islamic State (Iraq)</td>\n      <td>unknown</td>\n      <td>2</td>\n      <td>Police Forces of Iraq (2014-2018)</td>\n      <td>unknown</td>\n      <td>1</td>\n      <td>12</td>\n      <td>Middle East</td>\n      <td>Iraq</td>\n      <td>Najaf</td>\n      <td>Manathera</td>\n      <td>unknown</td>\n      <td>Al Mishkhab</td>\n      <td>31.8044</td>\n      <td>44.4893</td>\n      <td>1</td>\n      <td>0</td>\n      <td>1572403770</td>\n      <td>MA</td>\n      <td>46</td>\n      <td>56</td>\n      <td>1</td>\n      <td>0.0</td>\n      <td>1181.5465</td>\n      <td>13.02</td>\n      <td>-1.64</td>\n      <td>-1.26</td>\n      <td>-1.37</td>\n      <td>-1.20</td>\n      <td>-1.05</td>\n      <td>-2.31</td>\n      <td>18</td>\n      <td>5</td>\n      <td>6</td>\n      <td>6</td>\n      <td>7</td>\n      <td>7</td>\n      <td>88.98</td>\n      <td>37</td>\n      <td>19</td>\n      <td>61</td>\n      <td>68</td>\n      <td>70.29</td>\n      <td>105.4</td>\n      <td>10.0</td>\n      <td>9.5</td>\n      <td>8.2</td>\n      <td>8.7</td>\n      <td>9.9</td>\n      <td>9.77</td>\n      <td>42.49</td>\n      <td>70.28</td>\n      <td>87.0</td>\n    </tr>\n  </tbody>\n</table>\n</div>"
     },
     "metadata": {},
     "execution_count": 3
    }
   ],
   "source": [
    "conflict.head()"
   ]
  },
  {
   "cell_type": "code",
   "execution_count": 4,
   "metadata": {},
   "outputs": [],
   "source": [
    "# Creating dataframe of lat/long coordinates\n",
    "lat_long = conflict[['latitude', 'longitude']]\n",
    "coordinates = lat_long.values"
   ]
  },
  {
   "cell_type": "code",
   "execution_count": 5,
   "metadata": {},
   "outputs": [
    {
     "output_type": "stream",
     "name": "stdout",
     "text": "Number of clusters: 34\n"
    }
   ],
   "source": [
    "# Clusters with 50km radius\n",
    "kms_per_radian = 6371.1\n",
    "epsilon = 50 / kms_per_radian\n",
    "db_50km = DBSCAN(eps=epsilon, min_samples=3, algorithm='ball_tree', metric='haversine').fit(np.radians(coordinates))\n",
    "conflict['db_50_clusters'] = db_50km.labels_\n",
    "dbscan_num_clusters = len(set(db_50km.labels_))\n",
    "\n",
    "print(f\"Number of clusters: {dbscan_num_clusters}\")"
   ]
  },
  {
   "cell_type": "code",
   "execution_count": 16,
   "metadata": {},
   "outputs": [],
   "source": [
    "# Creating series for clusters\n",
    "db_50km_clusters = pd.Series([coordinates[conflict['db_50_clusters'] == n] for n in range(dbscan_num_clusters)])"
   ]
  },
  {
   "cell_type": "code",
   "execution_count": 19,
   "metadata": {},
   "outputs": [],
   "source": [
    "db_50km_clusters.drop(index=33, inplace=True)"
   ]
  },
  {
   "cell_type": "code",
   "execution_count": 20,
   "metadata": {},
   "outputs": [],
   "source": [
    "# Creating function to get centermost point for each cluster\n",
    "\n",
    "def get_centermost_point(cluster):\n",
    "    centroid = (MultiPoint(cluster).centroid.x, MultiPoint(cluster).centroid.y)\n",
    "    centermost_point = min(cluster, key=lambda point: great_circle(point, centroid).m)\n",
    "    return tuple(centermost_point)\n",
    "centermost_points = db_50km_clusters.map(get_centermost_point)"
   ]
  },
  {
   "cell_type": "code",
   "execution_count": 21,
   "metadata": {},
   "outputs": [],
   "source": [
    "# Saving cluster centroids as lat/long coordinates\n",
    "lats, lons = zip(*centermost_points)\n",
    "db_50km = pd.DataFrame({'cluster_lat':lats, 'cluster_lons':lons})"
   ]
  },
  {
   "cell_type": "code",
   "execution_count": 22,
   "metadata": {},
   "outputs": [],
   "source": [
    "db_50km.to_csv('data/db_50km-cluster-coords.csv', index=False)"
   ]
  },
  {
   "cell_type": "code",
   "execution_count": 26,
   "metadata": {},
   "outputs": [],
   "source": [
    "conflict.to_csv('data/conflict-clusters.csv', index=False)"
   ]
  },
  {
   "cell_type": "code",
   "execution_count": null,
   "metadata": {},
   "outputs": [],
   "source": []
  }
 ],
 "metadata": {
  "language_info": {
   "codemirror_mode": {
    "name": "ipython",
    "version": 3
   },
   "file_extension": ".py",
   "mimetype": "text/x-python",
   "name": "python",
   "nbconvert_exporter": "python",
   "pygments_lexer": "ipython3",
   "version": "3.7.7-final"
  },
  "orig_nbformat": 2,
  "kernelspec": {
   "name": "python37764bitdsicondaddfe0c05640c4e1581da44e0f6b96ae5",
   "display_name": "Python 3.7.7 64-bit ('dsi': conda)"
  }
 },
 "nbformat": 4,
 "nbformat_minor": 2
}